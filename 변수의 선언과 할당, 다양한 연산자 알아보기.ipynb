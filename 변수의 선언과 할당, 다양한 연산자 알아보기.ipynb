{
 "cells": [
  {
   "cell_type": "markdown",
   "id": "de35ff30",
   "metadata": {},
   "source": [
    "1. 변수의 선언과 할당"
   ]
  },
  {
   "cell_type": "markdown",
   "id": "b0db0fd4",
   "metadata": {},
   "source": [
    "전역 변수:\n",
    "프로그램 전체에서 접근할 수 있는 변수로 함수 외부에서 선언됨"
   ]
  },
  {
   "cell_type": "code",
   "execution_count": 1,
   "id": "7ea214c7-d7c8-4810-a31b-978633a0c58e",
   "metadata": {},
   "outputs": [
    {
     "name": "stdout",
     "output_type": "stream",
     "text": [
      "10\n",
      "10\n"
     ]
    }
   ],
   "source": [
    "x = 10  # 전역 변수\n",
    "def my_function():\n",
    "    print(x)  # 전역 변수 x는 함수 내부에서도 접근할 수 있습니다.\n",
    "my_function()  # 출력: 10\n",
    "print(x)  # output: 10"
   ]
  },
  {
   "cell_type": "markdown",
   "id": "57eeeb1e",
   "metadata": {},
   "source": [
    "지역변수:\n",
    "함수 내부에서 선언된 변수로, 그 함수 안에서만 유효함"
   ]
  },
  {
   "cell_type": "code",
   "execution_count": 2,
   "id": "ab054d88",
   "metadata": {},
   "outputs": [
    {
     "name": "stdout",
     "output_type": "stream",
     "text": [
      "5\n"
     ]
    },
    {
     "ename": "NameError",
     "evalue": "name 'y' is not defined",
     "output_type": "error",
     "traceback": [
      "\u001b[1;31m---------------------------------------------------------------------------\u001b[0m",
      "\u001b[1;31mNameError\u001b[0m                                 Traceback (most recent call last)",
      "Cell \u001b[1;32mIn[2], line 5\u001b[0m\n\u001b[0;32m      3\u001b[0m     \u001b[38;5;28mprint\u001b[39m(y)\n\u001b[0;32m      4\u001b[0m my_function()  \u001b[38;5;66;03m# 출력: 5\u001b[39;00m\n\u001b[1;32m----> 5\u001b[0m \u001b[38;5;28mprint\u001b[39m(\u001b[43my\u001b[49m)  \u001b[38;5;66;03m# 오류 발생! y는 함수 외부에서 사용 불가\u001b[39;00m\n",
      "\u001b[1;31mNameError\u001b[0m: name 'y' is not defined"
     ]
    }
   ],
   "source": [
    "def my_function():\n",
    "    y = 5  # 지역 변수\n",
    "    print(y)\n",
    "my_function()  # 출력: 5\n",
    "print(y)  # 오류 발생! y는 함수 외부에서 사용 불가"
   ]
  },
  {
   "cell_type": "markdown",
   "id": "01f1acff",
   "metadata": {},
   "source": [
    "함께 사용할 경우"
   ]
  },
  {
   "cell_type": "code",
   "execution_count": 3,
   "id": "939270ff",
   "metadata": {},
   "outputs": [
    {
     "name": "stdout",
     "output_type": "stream",
     "text": [
      "5\n",
      "10\n"
     ]
    }
   ],
   "source": [
    "x = 10  # 전역 변수\n",
    "def my_function():\n",
    "    x = 5  # 지역 변수\n",
    "    print(x)  # 출력: 5 (전역 변수가 아니라, 함수 내의 지역 변수를 사용)\n",
    "my_function()\n",
    "print(x)  # 출력: 10 (전역 변수 x는 변경되지 않음)"
   ]
  },
  {
   "cell_type": "markdown",
   "id": "4a8a4588",
   "metadata": {},
   "source": [
    "2. 다양한 연산자 알아보기"
   ]
  },
  {
   "cell_type": "markdown",
   "id": "68dd7939",
   "metadata": {},
   "source": [
    "산술 연산자(Operator)는 기본적인 더하기, 빼기, 곱하기, 나누기 등 수학 연산을 수행하는 데 사용되며, 짝수와 홀수를 구분하는 수식이 되기도 한다(a=10, a/3=(나머지)1, a/2=(나머지)0 이므로 0은 짝수이고, 1은 홀수가 됨)"
   ]
  },
  {
   "cell_type": "code",
   "execution_count": 4,
   "id": "da21f65d",
   "metadata": {},
   "outputs": [
    {
     "name": "stdout",
     "output_type": "stream",
     "text": [
      "13\n",
      "7\n",
      "30\n",
      "3.3333333333333335\n",
      "1\n",
      "1000\n",
      "3\n"
     ]
    }
   ],
   "source": [
    "a = 10\n",
    "b = 3\n",
    "print(a + b)   # 13\n",
    "print(a - b)   # 7\n",
    "print(a * b)   # 30\n",
    "print(a / b)   # 3.33 (일반 나눗셈)\n",
    "print(a % b)   # 1 (나머지)\n",
    "print(a ** b)  # 1000 (10의 3제곱)\n",
    "print(a // b)  # 3 (몫, 소수점 이하 버림)"
   ]
  },
  {
   "cell_type": "markdown",
   "id": "ca931a16",
   "metadata": {},
   "source": [
    "비교 연산자는 두 값을 비교하여 참(True) 또는 거짓(False)을 반환한다."
   ]
  },
  {
   "cell_type": "code",
   "execution_count": 5,
   "id": "53705422",
   "metadata": {},
   "outputs": [
    {
     "name": "stdout",
     "output_type": "stream",
     "text": [
      "False\n",
      "True\n",
      "False\n",
      "True\n"
     ]
    }
   ],
   "source": [
    "x = 5\n",
    "y = 8\n",
    "print(x == y)  # False, 5는 8과 같지 않음\n",
    "print(x != y)  # True, 5는 8과 다름\n",
    "print(x > y)   # False, 5는 8보다 크지 않음\n",
    "print(x < y)   # True, 5는 8보다 작음"
   ]
  },
  {
   "cell_type": "markdown",
   "id": "0327aaca",
   "metadata": {},
   "source": [
    "논리 연산자는 논리값(True, False)을 결합하여 새로운 논리값을 반환한다. 이와 관련된 주요 연산자는 and, or, not이다."
   ]
  },
  {
   "cell_type": "code",
   "execution_count": 6,
   "id": "f342e360",
   "metadata": {},
   "outputs": [
    {
     "name": "stdout",
     "output_type": "stream",
     "text": [
      "False\n",
      "True\n",
      "False\n"
     ]
    }
   ],
   "source": [
    "a = True\n",
    "b = False\n",
    "print(a and b)  # False, 둘 다 참이 아니므로\n",
    "print(a or b)   # True, 하나라도 참이면 True\n",
    "print(not a)    # False, not은 a를 뒤집음"
   ]
  },
  {
   "cell_type": "markdown",
   "id": "31f097cc",
   "metadata": {},
   "source": [
    "대입 연산자는 변수에 값을 할당할 때 사용되며, 기본적인 '=' 외에도 여러 복합 대입 연산자가 존재한다."
   ]
  },
  {
   "cell_type": "code",
   "execution_count": 7,
   "id": "af8613f4",
   "metadata": {},
   "outputs": [
    {
     "name": "stdout",
     "output_type": "stream",
     "text": [
      "10\n",
      "8\n",
      "6\n",
      "14\n",
      "4.0\n",
      "1\n",
      "9\n",
      "5\n"
     ]
    }
   ],
   "source": [
    "x = 10  # x에 10을 할당\n",
    "print(x)  # 출력: 10\n",
    "\n",
    "x = 5\n",
    "x += 3  # 이는 x = x + 3과 같다.\n",
    "print(x)  # 출력: 8\n",
    "\n",
    "x = 10\n",
    "x -= 4  # 이는 x = x - 4와 같다.\n",
    "print(x)  # 출력: 6\n",
    "\n",
    "x = 7\n",
    "x *= 2  # 이는 x = x * 2와 같다.\n",
    "print(x)  # 출력: 14\n",
    "\n",
    "x = 20\n",
    "x /= 5  # 이는 x = x / 5와 같다.\n",
    "print(x)  # 출력: 4.0\n",
    "\n",
    "x = 9\n",
    "x %= 4  # 이는 x = x % 4와 같다(9를 4로 나눈 나머지).\n",
    "print(x)  # 출력: 1\n",
    "\n",
    "x = 3\n",
    "x **= 2  # 이는 x = x ** 2와 같다(3의 제곱).\n",
    "print(x)  # 출력: 9\n",
    "\n",
    "x = 17\n",
    "x //= 3  # 이는 x = x // 3과 같습니다 (몫을 구하는 나눗셈).\n",
    "print(x)  # 출력: 5"
   ]
  },
  {
   "cell_type": "markdown",
   "id": "8bb04123",
   "metadata": {},
   "source": [
    "비트 연산자는 이진수 수준(숫자 2개)에서 연산을 수행하며, 여러 기능을 가지고 있다."
   ]
  },
  {
   "cell_type": "markdown",
   "id": "134f8a09",
   "metadata": {},
   "source": [
    "비트 AND(&)\n",
    "두 숫자의 각 비트를 비교하여 두 비트가 모두 1인 경우에만 1을 반환함. 그렇지 않으면 0을 반환함"
   ]
  },
  {
   "cell_type": "code",
   "execution_count": 8,
   "id": "00ffdb1b",
   "metadata": {},
   "outputs": [
    {
     "name": "stdout",
     "output_type": "stream",
     "text": [
      "1\n"
     ]
    }
   ],
   "source": [
    "a = 5   # 이진수: 0101\n",
    "b = 3   # 이진수: 0011\n",
    "result = a & b  # 이진수: 0001\n",
    "print(result)   # 출력: 1 (십진수)"
   ]
  },
  {
   "cell_type": "markdown",
   "id": "bb8b103a",
   "metadata": {},
   "source": [
    "비트 OR (|)\n",
    "두 숫자의 각 비트를 비교하여 둘 중 하나라도 1이면 1을 반환함"
   ]
  },
  {
   "cell_type": "code",
   "execution_count": 9,
   "id": "6eb63105",
   "metadata": {},
   "outputs": [
    {
     "name": "stdout",
     "output_type": "stream",
     "text": [
      "7\n"
     ]
    }
   ],
   "source": [
    "a = 5   # 이진수: 0101\n",
    "b = 3   # 이진수: 0011\n",
    "result = a | b  # 이진수: 0111\n",
    "print(result)   # 출력: 7 (십진수)"
   ]
  },
  {
   "cell_type": "markdown",
   "id": "7f07e707",
   "metadata": {},
   "source": [
    "비트 XOR (^)\n",
    "두 숫자의 각 비트를 비교하여 하나만 1일 때 1을 반환함"
   ]
  },
  {
   "cell_type": "code",
   "execution_count": 10,
   "id": "0af40d57",
   "metadata": {},
   "outputs": [
    {
     "name": "stdout",
     "output_type": "stream",
     "text": [
      "6\n"
     ]
    }
   ],
   "source": [
    "a = 5   # 이진수: 0101\n",
    "b = 3   # 이진수: 0011\n",
    "result = a ^ b  # 이진수: 0110\n",
    "print(result)   # 출력: 6 (십진수)"
   ]
  },
  {
   "cell_type": "markdown",
   "id": "c36eb1ca",
   "metadata": {},
   "source": [
    "비트 NOT (~)\n",
    "비트 NOT 연산은 각 비트를 뒤집어 1을 0으로, 0을 1로 바꿈. 마지막으로 1을뺀 값으로 처리됨"
   ]
  },
  {
   "cell_type": "code",
   "execution_count": 11,
   "id": "c62134e6",
   "metadata": {},
   "outputs": [
    {
     "name": "stdout",
     "output_type": "stream",
     "text": [
      "-6\n",
      "4\n"
     ]
    }
   ],
   "source": [
    "a = 5   # 이진수: 0101\n",
    "result = ~a   # 이진수: ...11111010 \n",
    "print(result) # 출력: -6 (십진수)\n",
    "\n",
    "x = -5\n",
    "result = ~x\n",
    "print(result)  # 출력: 4\n"
   ]
  },
  {
   "cell_type": "markdown",
   "id": "e2e4ff5f",
   "metadata": {},
   "source": [
    "비트 왼쪽 시프트 (<<)\n",
    "모든 비트를 왼쪽으로 지정한 횟수만큼 이동시킴. 이때 각 시프트는 값을 2배로 만듦"
   ]
  },
  {
   "cell_type": "code",
   "execution_count": 12,
   "id": "ad7bb3f0",
   "metadata": {},
   "outputs": [
    {
     "name": "stdout",
     "output_type": "stream",
     "text": [
      "10\n",
      "20\n"
     ]
    }
   ],
   "source": [
    "a = 5   # 이진수: 0101\n",
    "result = a << 1  # 이진수: 1010\n",
    "print(result)    # 출력: 10 (십진수)\n",
    "\n",
    "a = 5  # 이진수: 0101\n",
    "result = a << 2  # 왼쪽으로 2비트 이동, 이진수: 10100\n",
    "print(result)    # 출력: 20 (십진수)"
   ]
  },
  {
   "cell_type": "markdown",
   "id": "0873d15f",
   "metadata": {},
   "source": [
    "비트 오른쪽 시프트 (<<)\n",
    "모든 비트를 오른쪽으로 지정한 횟수만큼 이동시킴. 이때 각 시프트는 값을 절반으로 만듦"
   ]
  },
  {
   "cell_type": "code",
   "execution_count": 14,
   "id": "230f87dc",
   "metadata": {},
   "outputs": [
    {
     "name": "stdout",
     "output_type": "stream",
     "text": [
      "2\n",
      "-2\n"
     ]
    }
   ],
   "source": [
    "a = 5   # 이진수: 0101\n",
    "result = a >> 1  # 이진수: 0010\n",
    "print(result)    # 출력: 2 (십진수)\n",
    "\n",
    "a = 5  # 이진수: 0101\n",
    "result = x >> 2  # 오른쪽으로 2비트 이동\n",
    "print(result)    # 출력: 1"
   ]
  },
  {
   "cell_type": "markdown",
   "id": "f99ae3c5",
   "metadata": {},
   "source": [
    "멤버십 연산자는 특정 값이 시퀀스(문자열, 리스트, 튜플 등)에 속해 있는지 확인하는 데 사용된다. 주요 연산자로는 'in'과 'not in'이 있으며, 'in'은 시퀀스에 값이 포함되어 있는지를, 'not in'은 포함되어 있지 않은지를 확인한다.\n",
    "  식별 연산자는 두 변수가 동일한 객체를 가리키는지 확인하는 데 사용되며, 'is'와 'is not'으로 구분된다. 'is'는 두 변수가 동일 객체인지 확인하고, 'is not'은 동일하지 않은지 확인한다."
   ]
  },
  {
   "cell_type": "markdown",
   "id": "140be693",
   "metadata": {},
   "source": [
    "멤버십 연산자: 값이 리스트나 문자열 같은 데이터에 들어 있는지 확인  \n",
    "-in: 값이 안에 있으면 참 / not in: 값이 없으면 참."
   ]
  },
  {
   "cell_type": "code",
   "execution_count": 15,
   "id": "399c1708",
   "metadata": {},
   "outputs": [
    {
     "name": "stdout",
     "output_type": "stream",
     "text": [
      "True\n",
      "True\n"
     ]
    }
   ],
   "source": [
    "fruits = [\"apple\", \"banana\", \"cherry\"]\n",
    "print(\"apple\" in fruits)      # True, \"apple\"은 리스트에 있음\n",
    "print(\"orange\" not in fruits) # True, \"orange\"는 리스트에 없음"
   ]
  },
  {
   "cell_type": "markdown",
   "id": "14eee5af",
   "metadata": {},
   "source": [
    "식별 연산자\n",
    "두 변수가 동일한 객체를 가리키는지 확인(변수: 괄호안의 숫자)  \n",
    "-is: 두 변수가 같은 객체일 때 참 / is not: 두 변수가 다른 객체일 때 참"
   ]
  },
  {
   "cell_type": "code",
   "execution_count": 16,
   "id": "52ac7703",
   "metadata": {},
   "outputs": [
    {
     "name": "stdout",
     "output_type": "stream",
     "text": [
      "True\n",
      "False\n",
      "True\n",
      "True\n",
      "False\n"
     ]
    }
   ],
   "source": [
    "x = [1, 2, 3]\n",
    "y = x\n",
    "z = [1, 2, 3]\n",
    "\n",
    "print(x is y)      # True, x와 y는 동일한 객체를 가리킴\n",
    "print(x is z)      # False, x와 z는 같은 값을 가지고 있지만 다른 객체임.\n",
    "print(x is not z)  # True, x와 z는 다른 객체이므로 True.\n",
    "\n",
    "a = 10\n",
    "b = 10\n",
    "c = 1000\n",
    "d = 1000\n",
    "\n",
    "print(a is b)  # True, 작은 정수는 동일한 객체로 취급됨\n",
    "print(c is d)  # False, 큰 숫자는 서로 다른 객체로 취급될 수 있음"
   ]
  }
 ],
 "metadata": {
  "kernelspec": {
   "display_name": "maricecil",
   "language": "python",
   "name": "python3"
  },
  "language_info": {
   "codemirror_mode": {
    "name": "ipython",
    "version": 3
   },
   "file_extension": ".py",
   "mimetype": "text/x-python",
   "name": "python",
   "nbconvert_exporter": "python",
   "pygments_lexer": "ipython3",
   "version": "3.12.5"
  }
 },
 "nbformat": 4,
 "nbformat_minor": 5
}
