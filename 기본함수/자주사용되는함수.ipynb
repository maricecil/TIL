{
 "cells": [
  {
   "cell_type": "markdown",
   "id": "a8f27d0c",
   "metadata": {},
   "source": [
    "1. 기본내장기능"
   ]
  },
  {
   "cell_type": "markdown",
   "id": "de35ff30",
   "metadata": {},
   "source": [
    "print(): 지정된 메시지를 표시합니다.\n",
    "\n"
   ]
  },
  {
   "cell_type": "code",
   "execution_count": 1,
   "id": "7ea214c7-d7c8-4810-a31b-978633a0c58e",
   "metadata": {},
   "outputs": [
    {
     "name": "stdout",
     "output_type": "stream",
     "text": [
      "Hello, world!\n"
     ]
    }
   ],
   "source": [
    "print(\"Hello, world!\")  # Output: Hello, world!"
   ]
  },
  {
   "cell_type": "markdown",
   "id": "57eeeb1e",
   "metadata": {},
   "source": [
    "len(): 객체(예: 목록, 문자열)의 길이를 반환합니다.\n"
   ]
  },
  {
   "cell_type": "code",
   "execution_count": 2,
   "id": "ab054d88",
   "metadata": {},
   "outputs": [
    {
     "name": "stdout",
     "output_type": "stream",
     "text": [
      "4\n"
     ]
    }
   ],
   "source": [
    "lst = [1, 2, 3, 4]\n",
    "print(len(lst))  # Output: 4"
   ]
  },
  {
   "cell_type": "markdown",
   "id": "2f7e9c7c",
   "metadata": {},
   "source": [
    "input(): 사용자 입력을 받습니다."
   ]
  },
  {
   "cell_type": "code",
   "execution_count": 1,
   "id": "c8b52356",
   "metadata": {},
   "outputs": [
    {
     "name": "stdout",
     "output_type": "stream",
     "text": [
      "Hello, Enter your name: \n"
     ]
    }
   ],
   "source": [
    "name = \"Enter your name: \"\n",
    "print(\"Hello, \" + name)"
   ]
  },
  {
   "cell_type": "markdown",
   "id": "01f1acff",
   "metadata": {},
   "source": [
    "type(): 변수 또는 값의 유형을 반환합니다.\n"
   ]
  },
  {
   "cell_type": "code",
   "execution_count": 47,
   "id": "19fb4698",
   "metadata": {},
   "outputs": [
    {
     "name": "stdout",
     "output_type": "stream",
     "text": [
      "2\n"
     ]
    }
   ],
   "source": [
    "print(type(42))  # Output: <class 'int'>"
   ]
  },
  {
   "cell_type": "markdown",
   "id": "4a8a4588",
   "metadata": {},
   "source": [
    "sum(): 반복 가능 항목(예: 목록)의 요소를 합산합니다.\n"
   ]
  },
  {
   "cell_type": "code",
   "execution_count": 1,
   "id": "b9dcf8f2",
   "metadata": {},
   "outputs": [
    {
     "name": "stdout",
     "output_type": "stream",
     "text": [
      "10\n"
     ]
    }
   ],
   "source": [
    "numbers = [1, 2, 3, 4]\n",
    "print(sum(numbers))  # Output: 10"
   ]
  },
  {
   "cell_type": "markdown",
   "id": "ce9cb578",
   "metadata": {},
   "source": [
    "2. 수학 및 통계 기능"
   ]
  },
  {
   "cell_type": "markdown",
   "id": "4f3bc229",
   "metadata": {},
   "source": [
    "max(): 가장 큰 항목을 반환합니다."
   ]
  },
  {
   "cell_type": "code",
   "execution_count": 1,
   "id": "cea4d3b9",
   "metadata": {},
   "outputs": [
    {
     "name": "stdout",
     "output_type": "stream",
     "text": [
      "7\n",
      "9\n"
     ]
    }
   ],
   "source": [
    "print(max(3, 5, 7))  # Output: 7\n",
    "lst = [1, 4, 9, 2]\n",
    "print(max(lst))  # Output: 9"
   ]
  },
  {
   "cell_type": "markdown",
   "id": "3c1488f8",
   "metadata": {},
   "source": [
    "min(): 가장 작은 항목을 반환합니다."
   ]
  },
  {
   "cell_type": "code",
   "execution_count": 2,
   "id": "eeaf8cb3",
   "metadata": {},
   "outputs": [
    {
     "name": "stdout",
     "output_type": "stream",
     "text": [
      "3\n",
      "1\n"
     ]
    }
   ],
   "source": [
    "print(min(3, 5, 7))  # Output: 3\n",
    "lst = [1, 4, 9, 2]\n",
    "print(min(lst))  # Output: 1"
   ]
  },
  {
   "cell_type": "markdown",
   "id": "ca931a16",
   "metadata": {},
   "source": [
    "abs(): 절대값을 반환합니다."
   ]
  },
  {
   "cell_type": "code",
   "execution_count": 3,
   "id": "53705422",
   "metadata": {},
   "outputs": [
    {
     "name": "stdout",
     "output_type": "stream",
     "text": [
      "10\n"
     ]
    }
   ],
   "source": [
    "print(abs(-10))  # Output: 10"
   ]
  },
  {
   "cell_type": "markdown",
   "id": "0327aaca",
   "metadata": {},
   "source": [
    "round(): 숫자를 주어진 소수 자릿수로 반올림합니다.\n"
   ]
  },
  {
   "cell_type": "code",
   "execution_count": 4,
   "id": "f342e360",
   "metadata": {},
   "outputs": [
    {
     "name": "stdout",
     "output_type": "stream",
     "text": [
      "3.14\n"
     ]
    }
   ],
   "source": [
    "print(round(3.14159, 2))  # Output: 3.14"
   ]
  },
  {
   "cell_type": "markdown",
   "id": "2ccf659d",
   "metadata": {},
   "source": [
    "pow(): 거듭제곱된 숫자를 반환합니다."
   ]
  },
  {
   "cell_type": "code",
   "execution_count": 5,
   "id": "a5c46bc0",
   "metadata": {},
   "outputs": [
    {
     "name": "stdout",
     "output_type": "stream",
     "text": [
      "8\n"
     ]
    }
   ],
   "source": [
    "print(pow(2, 3))  # Output: 8"
   ]
  },
  {
   "cell_type": "markdown",
   "id": "b0b75320",
   "metadata": {},
   "source": [
    "3. 데이터 구조 함수"
   ]
  },
  {
   "cell_type": "markdown",
   "id": "a6b05b56",
   "metadata": {},
   "source": [
    "append(): 목록 끝에 항목을 추가합니다."
   ]
  },
  {
   "cell_type": "code",
   "execution_count": 6,
   "id": "06dfcbb5",
   "metadata": {},
   "outputs": [
    {
     "name": "stdout",
     "output_type": "stream",
     "text": [
      "[1, 2, 3, 4]\n"
     ]
    }
   ],
   "source": [
    "lst = [1, 2, 3]\n",
    "lst.append(4)\n",
    "print(lst)  # Output: [1, 2, 3, 4]"
   ]
  },
  {
   "cell_type": "markdown",
   "id": "da71ede3",
   "metadata": {},
   "source": [
    "remove(): 목록에서 처음 나타나는 요소를 제거합니다."
   ]
  },
  {
   "cell_type": "code",
   "execution_count": 7,
   "id": "de729f7c",
   "metadata": {},
   "outputs": [
    {
     "name": "stdout",
     "output_type": "stream",
     "text": [
      "[1, 3, 2]\n"
     ]
    }
   ],
   "source": [
    "lst = [1, 2, 3, 2]\n",
    "lst.remove(2)\n",
    "print(lst)  # Output: [1, 3, 2]"
   ]
  },
  {
   "cell_type": "markdown",
   "id": "0dba93f4",
   "metadata": {},
   "source": [
    "sort(): 목록의 요소를 오름차순으로 정렬합니다.\n"
   ]
  },
  {
   "cell_type": "code",
   "execution_count": 8,
   "id": "5a4388ea",
   "metadata": {},
   "outputs": [
    {
     "name": "stdout",
     "output_type": "stream",
     "text": [
      "[1, 2, 3, 4]\n"
     ]
    }
   ],
   "source": [
    "lst = [3, 1, 4, 2]\n",
    "lst.sort()\n",
    "print(lst)  # Output: [1, 2, 3, 4]"
   ]
  },
  {
   "cell_type": "markdown",
   "id": "1a2b0334",
   "metadata": {},
   "source": [
    "sorted(): iterable 요소의 정렬된 목록을 반환합니다.\n"
   ]
  },
  {
   "cell_type": "code",
   "execution_count": 9,
   "id": "d3d4ede4",
   "metadata": {},
   "outputs": [
    {
     "name": "stdout",
     "output_type": "stream",
     "text": [
      "[1, 2, 3, 4]\n"
     ]
    }
   ],
   "source": [
    "lst = [3, 1, 4, 2]\n",
    "print(sorted(lst))  # Output: [1, 2, 3, 4]"
   ]
  },
  {
   "cell_type": "markdown",
   "id": "8ec65595",
   "metadata": {},
   "source": [
    "reverse(): 목록의 요소를 제자리에서 뒤집습니다.\n"
   ]
  },
  {
   "cell_type": "code",
   "execution_count": 10,
   "id": "e53ccfd3",
   "metadata": {},
   "outputs": [
    {
     "name": "stdout",
     "output_type": "stream",
     "text": [
      "[4, 3, 2, 1]\n"
     ]
    }
   ],
   "source": [
    "lst = [1, 2, 3, 4]\n",
    "lst.reverse()\n",
    "print(lst)  # Output: [4, 3, 2, 1]"
   ]
  },
  {
   "cell_type": "markdown",
   "id": "fc3a966e",
   "metadata": {},
   "source": [
    "set(): 목록에서 중복 항목을 제거하고 세트를 만듭니다.\n"
   ]
  },
  {
   "cell_type": "code",
   "execution_count": 11,
   "id": "a6eb8a34",
   "metadata": {},
   "outputs": [
    {
     "name": "stdout",
     "output_type": "stream",
     "text": [
      "{1, 2, 3, 4}\n"
     ]
    }
   ],
   "source": [
    "lst = [1, 2, 2, 3, 4]\n",
    "unique_lst = set(lst)\n",
    "print(unique_lst)  # Output: {1, 2, 3, 4}"
   ]
  },
  {
   "cell_type": "markdown",
   "id": "62afadc0",
   "metadata": {},
   "source": [
    "4. 문자열 함수"
   ]
  },
  {
   "cell_type": "markdown",
   "id": "f9901165",
   "metadata": {},
   "source": [
    "split(): 문자열을 목록으로 분할합니다.\n"
   ]
  },
  {
   "cell_type": "code",
   "execution_count": 13,
   "id": "6406b519",
   "metadata": {},
   "outputs": [
    {
     "name": "stdout",
     "output_type": "stream",
     "text": [
      "['Hello', 'world']\n"
     ]
    }
   ],
   "source": [
    "sentence = \"Hello world\"\n",
    "print(sentence.split())  # Output: ['Hello', 'world']"
   ]
  },
  {
   "cell_type": "markdown",
   "id": "50c98c78",
   "metadata": {},
   "source": [
    "join(): 목록의 요소를 문자열로 결합합니다.\n",
    "\n"
   ]
  },
  {
   "cell_type": "code",
   "execution_count": 14,
   "id": "7c0af0b6",
   "metadata": {},
   "outputs": [
    {
     "name": "stdout",
     "output_type": "stream",
     "text": [
      "Hello world\n"
     ]
    }
   ],
   "source": [
    "words = ['Hello', 'world']\n",
    "print(\" \".join(words))  # Output: Hello world"
   ]
  },
  {
   "cell_type": "markdown",
   "id": "1a7d6fc7",
   "metadata": {},
   "source": [
    "strip(): 문자열의 시작과 끝에서 공백을 제거합니다.\n",
    "\n"
   ]
  },
  {
   "cell_type": "code",
   "execution_count": 16,
   "id": "2a83d272",
   "metadata": {},
   "outputs": [
    {
     "name": "stdout",
     "output_type": "stream",
     "text": [
      "Hello\n"
     ]
    }
   ],
   "source": [
    "text = \"  Hello  \"\n",
    "print(text.strip())  # Output: Hello"
   ]
  },
  {
   "cell_type": "markdown",
   "id": "aaf6ca9b",
   "metadata": {},
   "source": [
    "replace(): 하위 문자열을 다른 하위 문자열로 바꿉니다.\n",
    "\n"
   ]
  },
  {
   "cell_type": "code",
   "execution_count": 18,
   "id": "5e3772ab",
   "metadata": {},
   "outputs": [
    {
     "name": "stdout",
     "output_type": "stream",
     "text": [
      "I like dogs\n"
     ]
    }
   ],
   "source": [
    "text = \"I like cats\"\n",
    "print(text.replace(\"cats\", \"dogs\"))  # Output: I like dogs\n"
   ]
  },
  {
   "cell_type": "markdown",
   "id": "5fe60646",
   "metadata": {},
   "source": [
    "upper() 및 lower(): 문자열을 대문자 또는 소문자로 변환합니다.\n"
   ]
  },
  {
   "cell_type": "code",
   "execution_count": 19,
   "id": "a1accdab",
   "metadata": {},
   "outputs": [
    {
     "name": "stdout",
     "output_type": "stream",
     "text": [
      "HELLO\n"
     ]
    }
   ],
   "source": [
    "print(\"hello\".upper())  # Output: HELLOprint(\"WORLD\".lower())  # Output: world\n"
   ]
  },
  {
   "cell_type": "markdown",
   "id": "e5669eba",
   "metadata": {},
   "source": [
    "5. 리스트 슬라이싱 및 인덱싱"
   ]
  },
  {
   "cell_type": "markdown",
   "id": "e8735304",
   "metadata": {},
   "source": [
    "lst[start:end:step]: 목록에서 요소를 추출합니다."
   ]
  },
  {
   "cell_type": "code",
   "execution_count": 20,
   "id": "86cc3832",
   "metadata": {},
   "outputs": [
    {
     "name": "stdout",
     "output_type": "stream",
     "text": [
      "[2, 3, 4]\n"
     ]
    }
   ],
   "source": [
    "lst = [1, 2, 3, 4, 5]\n",
    "print(lst[1:4])  # Output: [2, 3, 4]print(lst[::2])  # Output: [1, 3, 5]"
   ]
  },
  {
   "cell_type": "markdown",
   "id": "a21c1471",
   "metadata": {},
   "source": [
    "음수 인덱싱: 끝부터 시작하는 요소를 나타냅니다.\n",
    "\n"
   ]
  },
  {
   "cell_type": "code",
   "execution_count": 21,
   "id": "4517551e",
   "metadata": {},
   "outputs": [
    {
     "name": "stdout",
     "output_type": "stream",
     "text": [
      "5\n"
     ]
    }
   ],
   "source": [
    "print(lst[-1])  # Output: 5\n"
   ]
  },
  {
   "cell_type": "markdown",
   "id": "4f2e7163",
   "metadata": {},
   "source": [
    "6. 루핑 기능\n"
   ]
  },
  {
   "cell_type": "markdown",
   "id": "b64e581f",
   "metadata": {},
   "source": [
    "range(): 일련의 숫자를 생성합니다.\n",
    "\n"
   ]
  },
  {
   "cell_type": "code",
   "execution_count": 22,
   "id": "70140f7e",
   "metadata": {},
   "outputs": [
    {
     "name": "stdout",
     "output_type": "stream",
     "text": [
      "0\n",
      "1\n",
      "2\n",
      "3\n",
      "4\n"
     ]
    }
   ],
   "source": [
    "for i in range(5):\n",
    "    print(i)  # Output: 0, 1, 2, 3, 4"
   ]
  },
  {
   "cell_type": "markdown",
   "id": "6d95f9f8",
   "metadata": {},
   "source": [
    "enumerate(): 반복하는 동안 요소의 인덱스와 값을 모두 반환합니다."
   ]
  },
  {
   "cell_type": "code",
   "execution_count": 23,
   "id": "64d5dac3",
   "metadata": {},
   "outputs": [
    {
     "name": "stdout",
     "output_type": "stream",
     "text": [
      "0 apple\n",
      "1 banana\n",
      "2 cherry\n"
     ]
    }
   ],
   "source": [
    "fruits = ['apple', 'banana', 'cherry']\n",
    "for idx, fruit in enumerate(fruits):\n",
    "    print(idx, fruit)\n",
    "# Output:# 0 apple# 1 banana# 2 cherry"
   ]
  },
  {
   "cell_type": "markdown",
   "id": "9dd78696",
   "metadata": {},
   "source": [
    "7. 유틸리티 기능\n"
   ]
  },
  {
   "cell_type": "markdown",
   "id": "28a0c70b",
   "metadata": {},
   "source": [
    "map(): iterable의 모든 항목에 함수를 적용합니다.\n",
    "\n"
   ]
  },
  {
   "cell_type": "code",
   "execution_count": 24,
   "id": "8a042bbb",
   "metadata": {},
   "outputs": [
    {
     "name": "stdout",
     "output_type": "stream",
     "text": [
      "[1, 4, 9]\n"
     ]
    }
   ],
   "source": [
    "lst = [1, 2, 3]\n",
    "squared_lst = list(map(lambda x: x ** 2, lst))\n",
    "print(squared_lst)  # Output: [1, 4, 9]"
   ]
  },
  {
   "cell_type": "markdown",
   "id": "001cccbc",
   "metadata": {},
   "source": [
    "filter(): 반복 가능한 항목에서 요소를 필터링합니다.\n",
    "\n"
   ]
  },
  {
   "cell_type": "code",
   "execution_count": 25,
   "id": "b2ba0919",
   "metadata": {},
   "outputs": [
    {
     "name": "stdout",
     "output_type": "stream",
     "text": [
      "[2, 4]\n"
     ]
    }
   ],
   "source": [
    "lst = [1, 2, 3, 4, 5]\n",
    "even_lst = list(filter(lambda x: x % 2 == 0, lst))\n",
    "print(even_lst)  # Output: [2, 4]"
   ]
  },
  {
   "cell_type": "markdown",
   "id": "1c1dbb58",
   "metadata": {},
   "source": [
    "lambda: 익명 함수를 생성합니다.\n",
    "\n"
   ]
  },
  {
   "cell_type": "code",
   "execution_count": 26,
   "id": "1d1574e4",
   "metadata": {},
   "outputs": [
    {
     "name": "stdout",
     "output_type": "stream",
     "text": [
      "8\n"
     ]
    }
   ],
   "source": [
    "add = lambda x, y: x + y\n",
    "print(add(3, 5))  # Output: 8"
   ]
  },
  {
   "cell_type": "markdown",
   "id": "2e23e53d",
   "metadata": {},
   "source": [
    "8. 예외 처리\n"
   ]
  },
  {
   "cell_type": "markdown",
   "id": "11c65c63",
   "metadata": {},
   "source": [
    "시도 -제외\n",
    "\n",
    ": 프로그램 충돌을 방지하기 위해 예외를 처리합니다."
   ]
  },
  {
   "cell_type": "code",
   "execution_count": 29,
   "id": "69039904",
   "metadata": {},
   "outputs": [
    {
     "name": "stdout",
     "output_type": "stream",
     "text": [
      "Cannot divide by zero\n"
     ]
    }
   ],
   "source": [
    "try:\n",
    "    x = 10 / 0\n",
    "except ZeroDivisionError:\n",
    "    print(\"Cannot divide by zero\")"
   ]
  },
  {
   "cell_type": "markdown",
   "id": "36bc609b",
   "metadata": {},
   "source": [
    "9. 파일 처리\n"
   ]
  },
  {
   "cell_type": "markdown",
   "id": "6d646203",
   "metadata": {},
   "source": [
    "파일 열기: '열기()'  \n",
    "파일을 읽거나 쓰려면"
   ]
  },
  {
   "cell_type": "code",
   "execution_count": 30,
   "id": "f140009e",
   "metadata": {},
   "outputs": [],
   "source": [
    "with open('file.txt', 'w') as f:\n",
    "    f.write(\"Hello, world!\")"
   ]
  },
  {
   "cell_type": "markdown",
   "id": "7e0737cd",
   "metadata": {},
   "source": [
    "10. 랜덤 및 수학 모듈\n"
   ]
  },
  {
   "cell_type": "markdown",
   "id": "ab322699",
   "metadata": {},
   "source": [
    "random.randint(): 임의의 정수를 생성합니다.\n",
    "\n"
   ]
  },
  {
   "cell_type": "code",
   "execution_count": 31,
   "id": "74071248",
   "metadata": {},
   "outputs": [
    {
     "name": "stdout",
     "output_type": "stream",
     "text": [
      "9\n"
     ]
    }
   ],
   "source": [
    "import random\n",
    "print(random.randint(1, 10))  # Output: Random number between 1 and 10"
   ]
  },
  {
   "cell_type": "markdown",
   "id": "2c280973",
   "metadata": {},
   "source": [
    "math.sqrt(): 숫자의 제곱근을 반환합니다.\n",
    "\n"
   ]
  },
  {
   "cell_type": "code",
   "execution_count": 32,
   "id": "cdee8d7b",
   "metadata": {},
   "outputs": [
    {
     "name": "stdout",
     "output_type": "stream",
     "text": [
      "4.0\n"
     ]
    }
   ],
   "source": [
    "import math\n",
    "print(math.sqrt(16))  # Output: 4.0"
   ]
  }
 ],
 "metadata": {
  "kernelspec": {
   "display_name": "maricecil",
   "language": "python",
   "name": "python3"
  },
  "language_info": {
   "codemirror_mode": {
    "name": "ipython",
    "version": 3
   },
   "file_extension": ".py",
   "mimetype": "text/x-python",
   "name": "python",
   "nbconvert_exporter": "python",
   "pygments_lexer": "ipython3",
   "version": "3.12.5"
  }
 },
 "nbformat": 4,
 "nbformat_minor": 5
}
