{
 "cells": [
  {
   "cell_type": "markdown",
   "id": "1d073087",
   "metadata": {},
   "source": [
    "1. 함수의 매개변수  \n",
    "매개변수(Parameters)는 함수가 호출될 때 입력받는 값(인수, arguments)을 처리하기 위해 사용하는 변수로, 함수 내에서 활용된다. 기본값은 함수 정의 시 매개변수에 미리 지정된 값을 의미하여, 인수가 전달되지 않으면 기본값이 사용된다. 함수는 여러 매개변수에 대해 기본값을 가질 수 있으며, 콤마(,)로 구분된다. 기본값이 있는 매개변수는 항상 기본값이 없는 매개변수 뒤에 위치해야 한다. "
   ]
  },
  {
   "cell_type": "markdown",
   "id": "d4b906aa",
   "metadata": {},
   "source": [
    "가. 매개변수(Parameters): 함수가 작업을 수행할 때 필요한 입력값. 값을 전달하지 않으면 기본값이 사용됨"
   ]
  },
  {
   "cell_type": "code",
   "execution_count": 2,
   "id": "4c1d76f1",
   "metadata": {},
   "outputs": [
    {
     "name": "stdout",
     "output_type": "stream",
     "text": [
      "안녕하세요, 손님!\n",
      "안녕하세요, 철수님!\n",
      "안녕하세요, 손님!\n",
      "안녕하세요, Alice님!\n"
     ]
    }
   ],
   "source": [
    "def greet(name=\"손\"):\n",
    "    print(f\"안녕하세요, {name}님!\") \n",
    "greet()        # 출력: 안녕하세요, 손님! # 인수를 전달하지 않아 기본값이 사용됨\n",
    "greet(\"철수\")  #출력: 안녕하세요, 철수님!\n",
    "\n",
    "def greet(name=\"손\"):\n",
    "    return f\"안녕하세요, {name}님!\"\n",
    "print(greet())          # 안녕하세요, 손님!\n",
    "print(greet(\"Alice\"))   # 안녕하세요, Alice님!\n"
   ]
  },
  {
   "cell_type": "markdown",
   "id": "de35ff30",
   "metadata": {},
   "source": [
    "나. 매개변수 없는 함수(No Return Value): return문을 생략하거나 return None을 사용하여 작업을 마친 후 값을 반환하지 않을 수 있음"
   ]
  },
  {
   "cell_type": "code",
   "execution_count": 3,
   "id": "7ea214c7-d7c8-4810-a31b-978633a0c58e",
   "metadata": {},
   "outputs": [
    {
     "name": "stdout",
     "output_type": "stream",
     "text": [
      "안녕하세요!\n"
     ]
    }
   ],
   "source": [
    "def say_hello():\n",
    "    print(\"안녕하세요!\")\n",
    "say_hello()  # 함수를 호출하여 실행 # 출력: 안녕하세요!"
   ]
  },
  {
   "cell_type": "markdown",
   "id": "fe740a9a",
   "metadata": {},
   "source": [
    "다. 다중 매개변수(Multiple Parameters): 여러 값을 전달받아 작업을 수행함"
   ]
  },
  {
   "cell_type": "code",
   "execution_count": 4,
   "id": "ab054d88",
   "metadata": {},
   "outputs": [
    {
     "name": "stdout",
     "output_type": "stream",
     "text": [
      "8\n",
      "24\n",
      "사과 1개 주문하셨습니다. 총 가격은 1000원입니다.\n",
      "바나나 2개 주문하셨습니다. 총 가격은 2000원입니다.\n",
      "딸기 3개 주문하셨습니다. 총 가격은 4500원입니다.\n"
     ]
    }
   ],
   "source": [
    "def add(a, b):\n",
    "    return a + b\n",
    "result = add(3, 5)\n",
    "print(result) #출력: 8\n",
    "\n",
    "def multiply(x, y, z):\n",
    "    return x * y * z\n",
    "result = multiply(2, 3, 4)\n",
    "print(result)  # 출력: 24\n",
    "\n",
    "def order(item, quantity=1, price=1000):\n",
    "    return f\"{item} {quantity}개 주문하셨습니다. 총 가격은 {quantity * price}원입니다.\"\n",
    "print(order(\"사과\"))                   # 출력: 사과 1개 주문하셨습니다. 총 가격은 1000원입니다.\n",
    "print(order(\"바나나\", 2))              # 출력: 바나나 2개 주문하셨습니다. 총 가격은 2000원입니다.\n",
    "print(order(\"딸기\", 3, 1500))          # 출력: 딸기 3개 주문하셨습니다. 총 가격은 4500원입니다."
   ]
  },
  {
   "cell_type": "markdown",
   "id": "656f1f03",
   "metadata": {},
   "source": [
    "2. 함수의 반환값  \n",
    "반환값은 함수가 작업을 완료한 후 호출된 위치로 돌려주는 값이며, return 키워드를 사용해 지정할 수 있다. Python에서는 함수가 여러 값을 튜플로 반환할 수 있으며, calculate 함수는 합과 차를 동시에 반환하여 각각 s와 d에 할당된다. 함수에서 return 문을 생략하거나 반환값 없이 단순히 return을 사용하면, 함수는 None을 반환한다."
   ]
  },
  {
   "cell_type": "markdown",
   "id": "732d7326",
   "metadata": {},
   "source": [
    "가. 반환값(Return Value): 함수가 작업을 마친 후 호출한 곳으로 돌려줌"
   ]
  },
  {
   "cell_type": "code",
   "execution_count": 5,
   "id": "c8b52356",
   "metadata": {},
   "outputs": [
    {
     "name": "stdout",
     "output_type": "stream",
     "text": [
      "16\n"
     ]
    }
   ],
   "source": [
    "def square(number):\n",
    "    return number * number\n",
    "result = square(4)\n",
    "print(result)  # 출력: 16"
   ]
  },
  {
   "cell_type": "markdown",
   "id": "01f1acff",
   "metadata": {},
   "source": [
    "나. 복수반환값(Multiple Return Values): 여러 개의 값을 튜플형태로 반환함. 기본값이 없는 매개변수는 기본값이 있는 매개변수보다 앞에 와야함"
   ]
  },
  {
   "cell_type": "code",
   "execution_count": 6,
   "id": "939270ff",
   "metadata": {},
   "outputs": [
    {
     "name": "stdout",
     "output_type": "stream",
     "text": [
      "이름: 철수, 나이: 10\n",
      "이름: 철수, 나이: 20, 도시: 서울\n",
      "이름: 영희, 나이: 25, 도시: 서울\n",
      "이름: 민수, 나이: 30, 도시: 부산\n"
     ]
    }
   ],
   "source": [
    "def get_info():\n",
    "    name = \"철수\"\n",
    "    age = 10\n",
    "    return name, age  # 두 개의 값을 반환\n",
    "name, age = get_info()  # 튜플의 각 요소를 name과 age에 저장\n",
    "print(f\"이름: {name}, 나이: {age}\")  # 출력: 이름: 철수, 나이: 10\n",
    "\n",
    "def describe_person(name, age=20, city=\"서울\"):\n",
    "    print(f\"이름: {name}, 나이: {age}, 도시: {city}\")\n",
    "describe_person(\"철수\")  # 출력: 이름: 철수, 나이: 20, 도시: 서울  # 기본값이 없는 매개변수만 전달\n",
    "describe_person(\"영희\", 25)  # 출력: 이름: 영희, 나이: 25, 도시: 서울  # 나이만 변경\n",
    "describe_person(\"민수\", 30, \"부산\")  # 출력: 이름: 민수, 나이: 30, 도시: 부산  # 모든 매개변수 전달"
   ]
  },
  {
   "cell_type": "markdown",
   "id": "4a8a4588",
   "metadata": {},
   "source": [
    "다. 함수 내에서 다른 함수 호출하기: 작업을 분리하여 복잡한 작업을 간단한 함수들로 처리함"
   ]
  },
  {
   "cell_type": "code",
   "execution_count": 7,
   "id": "da21f65d",
   "metadata": {},
   "outputs": [
    {
     "name": "stdout",
     "output_type": "stream",
     "text": [
      "합계: 7, 곱: 12\n"
     ]
    }
   ],
   "source": [
    "def add(a, b):\n",
    "    return a + b\n",
    "\n",
    "def multiply(a, b):\n",
    "    return a * b\n",
    "\n",
    "def calculate(a, b):\n",
    "    sum_result = add(a, b)         # add 함수 호출\n",
    "    product_result = multiply(a, b)  # multiply 함수 호출\n",
    "    return sum_result, product_result\n",
    "\n",
    "sum_value, product_value = calculate(3, 4)\n",
    "print(f\"합계: {sum_value}, 곱: {product_value}\")  # 합계: 7, 곱: 12"
   ]
  },
  {
   "cell_type": "markdown",
   "id": "4573299b",
   "metadata": {},
   "source": [
    "3. 가변 매개변수  \n",
    "가변 매개변수는 함수가 정해지지 않은 개수의 인수를 받을 수 있도록 하며, 대표적으로 args와 kwargs 두 가지 형태가 있다. args는 임의의 위치 인수를 받아 위치 인수의 튜플로 처리하며, 인수의 개수가 정해지지 않았을 때 유용하다. 예를 들어, add 함수는 가변 인수 args를 통해 여러 숫자를 받아 모두 더한 결과를 반환한다.\n",
    "반면, kwargs는 임의의 키워드 인수를 받아 딕셔너리 형태로 처리하여 인수의 이름과 값을 기록한다. 함수에서 args와 kwargs를 함께 사용할 경우, args를 먼저, kwargs를 나중에 정의해야 한다."
   ]
  },
  {
   "cell_type": "markdown",
   "id": "404d238d",
   "metadata": {},
   "source": [
    "가. 가변인자 args와 kwargs 매개변수의 개수가 정해지지 않았을 때 "
   ]
  },
  {
   "cell_type": "code",
   "execution_count": 12,
   "id": "35fefa2e",
   "metadata": {},
   "outputs": [
    {
     "name": "stdout",
     "output_type": "stream",
     "text": [
      "15\n",
      "name: 철수\n",
      "age: 10\n",
      "city: 서울\n"
     ]
    }
   ],
   "source": [
    "# args: 여러 개의 매개변수를 튜플로 받음\n",
    "def add(*args):\n",
    "    return sum(args)\n",
    "result = add(1, 2, 3, 4, 5)  \n",
    "print(result)  # 출력: 15 # add()숫자를 합친 값\n",
    "\n",
    "# kwargs: 키워드 인자를 딕셔너리로 받음\n",
    "def print_info(**kwargs):\n",
    "    for key, value in kwargs.items():\n",
    "        print(f\"{key}: {value}\")\n",
    "\n",
    "print_info(name=\"철수\", age=10, city=\"서울\")"
   ]
  },
  {
   "cell_type": "markdown",
   "id": "ca931a16",
   "metadata": {},
   "source": [
    "나. args와 kwargs를 함께 사용하기"
   ]
  },
  {
   "cell_type": "code",
   "execution_count": 13,
   "id": "53705422",
   "metadata": {},
   "outputs": [
    {
     "name": "stdout",
     "output_type": "stream",
     "text": [
      "위치 인자: (1, 2, 3)\n",
      "키워드 인자: {'name': '철수', 'age': 20}\n"
     ]
    }
   ],
   "source": [
    "def func_example(*args, **kwargs):\n",
    "    print(\"위치 인자:\", args)\n",
    "    print(\"키워드 인자:\", kwargs)\n",
    "func_example(1, 2, 3, name=\"철수\", age=20)"
   ]
  }
 ],
 "metadata": {
  "kernelspec": {
   "display_name": "maricecil",
   "language": "python",
   "name": "python3"
  },
  "language_info": {
   "codemirror_mode": {
    "name": "ipython",
    "version": 3
   },
   "file_extension": ".py",
   "mimetype": "text/x-python",
   "name": "python",
   "nbconvert_exporter": "python",
   "pygments_lexer": "ipython3",
   "version": "3.12.5"
  }
 },
 "nbformat": 4,
 "nbformat_minor": 5
}
