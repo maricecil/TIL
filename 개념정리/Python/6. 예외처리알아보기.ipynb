{
 "cells": [
  {
   "cell_type": "markdown",
   "id": "1d073087",
   "metadata": {},
   "source": [
    "1. 예외처리  \n",
    "예외 처리를 통해 프로그램이 계속 실행되도록 할 수 있으며, try와 except 블록으로 예외를 처리한다. try 블록에 예외 발생 가능성이 있는 코드를 작성하고, except 블록에서 해당 예외를 처리한다. 특정 예외를 지정하지 않고 모든 예외를 처리할 수 있으나, 이 경우 어떤 예외가 발생했는지 명확히 알지 못한다."
   ]
  },
  {
   "cell_type": "markdown",
   "id": "d4b906aa",
   "metadata": {},
   "source": [
    "가. 예외 처리 "
   ]
  },
  {
   "cell_type": "code",
   "execution_count": 1,
   "id": "4c1d76f1",
   "metadata": {},
   "outputs": [
    {
     "name": "stdout",
     "output_type": "stream",
     "text": [
      "0으로 나눌 수 없습니다.\n"
     ]
    }
   ],
   "source": [
    "try:\n",
    "    result = 10 / 0\n",
    "except ZeroDivisionError:\n",
    "    print(\"0으로 나눌 수 없습니다.\")"
   ]
  },
  {
   "cell_type": "markdown",
   "id": "de35ff30",
   "metadata": {},
   "source": [
    "나. 다중 예외처리 "
   ]
  },
  {
   "cell_type": "code",
   "execution_count": 15,
   "id": "7ea214c7-d7c8-4810-a31b-978633a0c58e",
   "metadata": {},
   "outputs": [
    {
     "name": "stdout",
     "output_type": "stream",
     "text": [
      "0으로 나눌 수 없습니다.\n"
     ]
    }
   ],
   "source": [
    "try:\n",
    "    x = 0\n",
    "    result = 10 / x\n",
    "    print(result)\n",
    "except ValueError:\n",
    "    print(\"유효한 숫자가 아닙니다.\")\n",
    "except ZeroDivisionError:\n",
    "    print(\"0으로 나눌 수 없습니다.\")"
   ]
  },
  {
   "cell_type": "markdown",
   "id": "fe740a9a",
   "metadata": {},
   "source": [
    "다. 모든 예외처리 "
   ]
  },
  {
   "cell_type": "code",
   "execution_count": 17,
   "id": "ab054d88",
   "metadata": {},
   "outputs": [
    {
     "name": "stdout",
     "output_type": "stream",
     "text": [
      "예외가 발생했습니다: division by zero\n"
     ]
    }
   ],
   "source": [
    "try:\n",
    "    result = 10 / 0\n",
    "except Exception as e:\n",
    "    print(f\"예외가 발생했습니다: {e}\")"
   ]
  },
  {
   "cell_type": "markdown",
   "id": "656f1f03",
   "metadata": {},
   "source": [
    "라. else와 finally 사용하기\n"
   ]
  },
  {
   "cell_type": "code",
   "execution_count": 18,
   "id": "c8b52356",
   "metadata": {},
   "outputs": [
    {
     "name": "stdout",
     "output_type": "stream",
     "text": [
      "결과는 5.0입니다.\n",
      "프로그램을 종료합니다.\n",
      "0으로 나눌 수 없습니다.\n",
      "프로그램을 종료합니다.\n"
     ]
    }
   ],
   "source": [
    "try:\n",
    "    result = 10 / 2\n",
    "except ZeroDivisionError:\n",
    "    print(\"0으로 나눌 수 없습니다.\")\n",
    "else:\n",
    "    print(f\"결과는 {result}입니다.\")\n",
    "finally:\n",
    "    print(\"프로그램을 종료합니다.\")\n",
    "# 출력 # 예외가 발생하지 않았을 때\n",
    "#결과는 5.0입니다.\n",
    "#프로그램을 종료합니다.\n",
    "\n",
    "try:\n",
    "    result = 10 / 0\n",
    "except ZeroDivisionError:\n",
    "    print(\"0으로 나눌 수 없습니다.\")\n",
    "else:\n",
    "    print(f\"결과는 {result}입니다.\")\n",
    "finally:\n",
    "    print(\"프로그램을 종료합니다.\")\n",
    "# 출력 # 예외가 발생했을 때\n",
    "#0으로 나눌 수 없습니다.\n",
    "#프로그램을 종료합니다."
   ]
  },
  {
   "cell_type": "markdown",
   "id": "01f1acff",
   "metadata": {},
   "source": [
    "마. 사용자 정의 예외  \n",
    "특정 상황에서 특별한 예외를 발생시키고 싶을 때 사용자만의 예외 클래스를 정의할 수 있음"
   ]
  },
  {
   "cell_type": "code",
   "execution_count": 19,
   "id": "939270ff",
   "metadata": {},
   "outputs": [
    {
     "name": "stdout",
     "output_type": "stream",
     "text": [
      "사용자 정의 예외 발생: 값이 음수일 수 없습니다.\n"
     ]
    }
   ],
   "source": [
    "class CustomError(Exception):\n",
    "    pass\n",
    "def check_value(value):\n",
    "    if value < 0:\n",
    "        raise CustomError(\"값이 음수일 수 없습니다.\")\n",
    "try:\n",
    "    check_value(-10)\n",
    "except CustomError as e:\n",
    "    print(f\"사용자 정의 예외 발생: {e}\")"
   ]
  },
  {
   "cell_type": "markdown",
   "id": "4a8a4588",
   "metadata": {},
   "source": [
    "바. 예외 발생시키기  \n",
    "특정 상황에서 강제로 예외를 발생시킬 수 있음"
   ]
  },
  {
   "cell_type": "code",
   "execution_count": 20,
   "id": "da21f65d",
   "metadata": {},
   "outputs": [
    {
     "name": "stdout",
     "output_type": "stream",
     "text": [
      "예외 발생: b는 0일 수 없습니다.\n"
     ]
    }
   ],
   "source": [
    "def divide(a, b):\n",
    "    if b == 0:\n",
    "        raise ZeroDivisionError(\"b는 0일 수 없습니다.\")\n",
    "    return a / b\n",
    "try:\n",
    "    result = divide(10, 0)\n",
    "except ZeroDivisionError as e:\n",
    "    print(f\"예외 발생: {e}\")"
   ]
  }
 ],
 "metadata": {
  "kernelspec": {
   "display_name": "maricecil",
   "language": "python",
   "name": "python3"
  },
  "language_info": {
   "codemirror_mode": {
    "name": "ipython",
    "version": 3
   },
   "file_extension": ".py",
   "mimetype": "text/x-python",
   "name": "python",
   "nbconvert_exporter": "python",
   "pygments_lexer": "ipython3",
   "version": "3.12.5"
  }
 },
 "nbformat": 4,
 "nbformat_minor": 5
}
