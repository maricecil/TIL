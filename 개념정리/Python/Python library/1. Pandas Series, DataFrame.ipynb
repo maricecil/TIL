{
 "cells": [
  {
   "cell_type": "markdown",
   "id": "1d073087",
   "metadata": {},
   "source": [
    "1. 판다스 시리즈(Series)  \n",
    "판다스의 시리즈는 1차원 배열(정수, 부동 소수점, 문자열 등을 보유할 수 있음)과 같은 데이터 구조로, 인덱스(Index)와 데이터 값(Value)이 쌍으로 구성된다."
   ]
  },
  {
   "cell_type": "code",
   "execution_count": 2,
   "id": "6d5549bf",
   "metadata": {},
   "outputs": [
    {
     "name": "stdout",
     "output_type": "stream",
     "text": [
      "0    1\n",
      "1    2\n",
      "2    3\n",
      "3    4\n",
      "dtype: int64\n",
      "a    1\n",
      "b    2\n",
      "c    3\n",
      "d    4\n",
      "dtype: int64\n"
     ]
    }
   ],
   "source": [
    "import pandas as pd\n",
    "\n",
    "# 기본 인덱스가 자동으로 부여된 Series\n",
    "s = pd.Series([1, 2, 3, 4])\n",
    "print(s)\n",
    "\n",
    "# 사용자 정의 인덱스를 지정한 Series\n",
    "s_custom = pd.Series([1, 2, 3, 4], index=['a', 'b', 'c', 'd'])\n",
    "print(s_custom)"
   ]
  },
  {
   "cell_type": "markdown",
   "id": "adc5cf83",
   "metadata": {},
   "source": [
    "2. 판다스 데이터프레임(DataFrame)  \n",
    "데이터프레임은 행(row)과 열(column)로 구성된 2차원 표 형식의 데이터로, 각 행은 데이터 레코드를 나타내고, 각 열은 서로 다른 데이터 타입을 가지며 시리즈에 해당한다."
   ]
  },
  {
   "cell_type": "code",
   "execution_count": 3,
   "id": "4c1d76f1",
   "metadata": {},
   "outputs": [
    {
     "name": "stdout",
     "output_type": "stream",
     "text": [
      "    Name  Age      City\n",
      "0   John   28  New York\n",
      "1   Anna   24     Paris\n",
      "2  Peter   35    Berlin\n",
      "3  Linda   32    London\n"
     ]
    }
   ],
   "source": [
    "import pandas as pd\n",
    "\n",
    "# 딕셔너리로 DataFrame 생성\n",
    "data = {'Name': ['John', 'Anna', 'Peter', 'Linda'],\n",
    "        'Age': [28, 24, 35, 32],\n",
    "        'City': ['New York', 'Paris', 'Berlin', 'London']}\n",
    "\n",
    "df = pd.DataFrame(data)\n",
    "print(df)"
   ]
  },
  {
   "cell_type": "markdown",
   "id": "41d3e7b6",
   "metadata": {},
   "source": [
    "3. NumPy  \n",
    "NumPy는 Numerical Python의 줄임말로, 다차원 배열 객체인 ndarray와 배열을 효율적으로 처리하는 다양한 함수를 제공하는 강력한 성능의 파이썬 라이브러리이다. 데이터 분석, 머신러닝, 딥러닝에 필수적인 라이브러리로, 판다스와 자주 함께 사용된다.  `pip install numpy`를 입력하여 먼저 설치해야 하며, 가상환경을 사용하는 경우 해당 환경에 설치하면 된다. 설치 후 파이썬 코드에서 import numpy as np로 NumPy를 사용할 수 있다. "
   ]
  },
  {
   "cell_type": "code",
   "execution_count": 7,
   "id": "b07b64a3",
   "metadata": {},
   "outputs": [
    {
     "name": "stdout",
     "output_type": "stream",
     "text": [
      "[1 2 3 4]\n",
      "[[1 2 3]\n",
      " [4 5 6]]\n",
      "2\n",
      "(2, 3)\n",
      "int32\n"
     ]
    }
   ],
   "source": [
    "import numpy as np\n",
    "\n",
    "# 1차원 배열 생성\n",
    "arr1 = np.array([1, 2, 3, 4])\n",
    "print(arr1)   # 출력: [1 2 3 4]\n",
    "\n",
    "# 2차원 배열 생성\n",
    "arr2 = np.array([[1, 2, 3], [4, 5, 6]])\n",
    "print(arr2)\n",
    "\n",
    "print(arr2.ndim)  # 배열의 차원\n",
    "print(arr2.shape)  # 배열의 형상\n",
    "print(arr2.dtype)  # 배열의 데이터 타입\n",
    "\n",
    "\n"
   ]
  },
  {
   "cell_type": "code",
   "execution_count": 9,
   "id": "4787dd94",
   "metadata": {},
   "outputs": [
    {
     "name": "stdout",
     "output_type": "stream",
     "text": [
      "[[1. 1.]\n",
      " [1. 1.]]\n",
      "[[0.54257793 0.37765794]\n",
      " [0.42240926 0.39887301]\n",
      " [0.40255583 0.83829385]]\n"
     ]
    }
   ],
   "source": [
    "# 1로 채워진 배열 생성\n",
    "ones = np.ones((2, 2))\n",
    "print(ones)\n",
    "\n",
    "# 랜덤 값으로 채워진 배열 생성\n",
    "random = np.random.rand(3, 2)\n",
    "print(random)"
   ]
  },
  {
   "cell_type": "markdown",
   "id": "2586b612",
   "metadata": {},
   "source": [
    "4. 인덱싱(Indexing)과 슬라이싱(Slicing)  \n",
    "인덱싱은 배열의 특정 위치에 접근하는 방법이다. 배열 생성 후 첫 번째 원소에 접근하기 위해 arr[0]을 사용하고, 마지막 원소는 arr[-1]로 접근한다. 슬라이싱은 배열의 일부분을 잘라내는 방법이다."
   ]
  },
  {
   "cell_type": "code",
   "execution_count": 10,
   "id": "ec56b68b",
   "metadata": {},
   "outputs": [
    {
     "name": "stdout",
     "output_type": "stream",
     "text": [
      "20\n",
      "[[40 50]\n",
      " [70 80]]\n"
     ]
    }
   ],
   "source": [
    "arr = np.array([[10, 20, 30], [40, 50, 60], [70, 80, 90]])\n",
    "\n",
    "# 특정 요소 접근\n",
    "print(arr[0, 1])  # 첫 번째 행, 두 번째 열의 값  # 출력: 20  \n",
    "\n",
    "# 슬라이싱\n",
    "print(arr[1:, :2])  # 두 번째 행부터 첫 두 열까지 슬라이싱"
   ]
  },
  {
   "cell_type": "markdown",
   "id": "589ebeea",
   "metadata": {},
   "source": [
    "5. 배열 연산 및 브로드캐스팅(Broadcasting)  \n",
    " 배열 간 연산을 할 때 배열의 크기가 동일해야 하지만, 브로드캐스팅을 통해 작은 배열을 큰 배열의 크기에 맞춰 확장하여 연산을 수행할 수 있다."
   ]
  },
  {
   "cell_type": "code",
   "execution_count": 16,
   "id": "907c84a0",
   "metadata": {},
   "outputs": [
    {
     "name": "stdout",
     "output_type": "stream",
     "text": [
      "[3 4 5]\n",
      "[[2 4 6]\n",
      " [5 7 9]]\n"
     ]
    }
   ],
   "source": [
    "import numpy as np\n",
    "\n",
    "arr = np.array([1, 2, 3])\n",
    "result = arr + 2  # 스칼라 2가 배열에 브로드캐스팅되어 더해짐\n",
    "print(result) \n",
    "\n",
    "arr1 = np.array([[1, 2, 3], [4, 5, 6]])  # (2, 3) 크기의 배열\n",
    "arr2 = np.array([1, 2, 3])  # (3,) 크기의 배열\n",
    "\n",
    "result = arr1 + arr2  # arr2가 arr1의 각 행에 브로드캐스팅되어 더해짐\n",
    "print(result)\n"
   ]
  },
  {
   "cell_type": "code",
   "execution_count": 15,
   "id": "6f398c5d",
   "metadata": {},
   "outputs": [
    {
     "ename": "ValueError",
     "evalue": "operands could not be broadcast together with shapes (3,) (2,) ",
     "output_type": "error",
     "traceback": [
      "\u001b[1;31m---------------------------------------------------------------------------\u001b[0m",
      "\u001b[1;31mValueError\u001b[0m                                Traceback (most recent call last)",
      "Cell \u001b[1;32mIn[15], line 5\u001b[0m\n\u001b[0;32m      2\u001b[0m arr1 \u001b[38;5;241m=\u001b[39m np\u001b[38;5;241m.\u001b[39marray([\u001b[38;5;241m1\u001b[39m, \u001b[38;5;241m2\u001b[39m, \u001b[38;5;241m3\u001b[39m])\n\u001b[0;32m      3\u001b[0m arr2 \u001b[38;5;241m=\u001b[39m np\u001b[38;5;241m.\u001b[39marray([\u001b[38;5;241m4\u001b[39m, \u001b[38;5;241m5\u001b[39m])  \u001b[38;5;66;03m# 크기가 맞지 않음\u001b[39;00m\n\u001b[1;32m----> 5\u001b[0m result \u001b[38;5;241m=\u001b[39m \u001b[43marr1\u001b[49m\u001b[43m \u001b[49m\u001b[38;5;241;43m+\u001b[39;49m\u001b[43m \u001b[49m\u001b[43marr2\u001b[49m  \u001b[38;5;66;03m# 오류 발생\u001b[39;00m\n\u001b[0;32m      6\u001b[0m \u001b[38;5;28mprint\u001b[39m(result)\n",
      "\u001b[1;31mValueError\u001b[0m: operands could not be broadcast together with shapes (3,) (2,) "
     ]
    }
   ],
   "source": [
    "#두 배열의 크기가 브로드캐스팅 규칙에 맞지 않으면 ValueError가 발생함\n",
    "arr1 = np.array([1, 2, 3])\n",
    "arr2 = np.array([4, 5])  # 크기가 맞지 않음\n",
    "\n",
    "result = arr1 + arr2  # 오류 발생\n",
    "print(result)"
   ]
  }
 ],
 "metadata": {
  "kernelspec": {
   "display_name": "maricecil",
   "language": "python",
   "name": "python3"
  },
  "language_info": {
   "codemirror_mode": {
    "name": "ipython",
    "version": 3
   },
   "file_extension": ".py",
   "mimetype": "text/x-python",
   "name": "python",
   "nbconvert_exporter": "python",
   "pygments_lexer": "ipython3",
   "version": "3.12.5"
  }
 },
 "nbformat": 4,
 "nbformat_minor": 5
}
