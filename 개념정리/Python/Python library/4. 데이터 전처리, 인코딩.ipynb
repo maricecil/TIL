{
 "cells": [
  {
   "cell_type": "markdown",
   "id": "1d073087",
   "metadata": {},
   "source": [
    "1. isna()와 isnull()로 결측치 탐지  \n",
    "isna()와 isnull() 함수는 데이터프레임의 각 요소가 결측치인지 여부를 확인한다. 두 함수는 동일한 기능을 한다.  \n",
    "(1)isna(), isnull(): 결측값인 경우 True, 아닌 경우 False를 반환함  \n",
    "(2)notna(), notnull(): 결측값인 경우 False, 아닌 경우 True를 반환함"
   ]
  },
  {
   "cell_type": "code",
   "execution_count": 1,
   "id": "6d5549bf",
   "metadata": {},
   "outputs": [
    {
     "name": "stdout",
     "output_type": "stream",
     "text": [
      "      이름     나이     직업\n",
      "0  False  False  False\n",
      "1  False  False  False\n",
      "2  False   True  False\n",
      "3  False  False   True\n"
     ]
    }
   ],
   "source": [
    "import pandas as pd\n",
    "data = {\n",
    "    '이름': ['철수', '영희', '민수', '지수'],\n",
    "    '나이': [25, 30, None, 35],\n",
    "    '직업': ['학생', '회사원', '학생', None]\n",
    "}\n",
    "df = pd.DataFrame(data)\n",
    "print(df.isna()) "
   ]
  },
  {
   "cell_type": "code",
   "execution_count": 4,
   "id": "2ac83c6b",
   "metadata": {},
   "outputs": [
    {
     "name": "stdout",
     "output_type": "stream",
     "text": [
      "이름    0\n",
      "나이    1\n",
      "직업    1\n",
      "dtype: int64\n"
     ]
    }
   ],
   "source": [
    "# 결측치의 총 개수를 확인하려면 isna() 또는 isnull()과 sum()을 조합해 사용함\n",
    "print(df.isna().sum())  "
   ]
  },
  {
   "cell_type": "markdown",
   "id": "35d54980",
   "metadata": {},
   "source": [
    "가. 결측치 제거  \n",
    "(1) dropna() 함수를 사용결측치가 포함된 행이나 열을 삭제함  \n",
    "(2) dropna(axis=0): 결측값이 있는 행을 제거함  \n",
    "(3) dropna(axis=1): 결측값이 있는 열을 제거함  \n",
    "(4) how: 'any' 또는 'all'로 설정하여 일부 또는 모든 값이 결측값인 경우에만 제거함  "
   ]
  },
  {
   "cell_type": "code",
   "execution_count": 5,
   "id": "7e1f6a31",
   "metadata": {},
   "outputs": [
    {
     "name": "stdout",
     "output_type": "stream",
     "text": [
      "   이름    나이   직업\n",
      "0  철수  25.0   학생\n",
      "1  영희  30.0  회사원\n"
     ]
    }
   ],
   "source": [
    "df_dropped_rows = df.dropna()  # 결측치가 있는 행 제거\n",
    "print(df_dropped_rows) "
   ]
  },
  {
   "cell_type": "code",
   "execution_count": null,
   "id": "beb48c23",
   "metadata": {},
   "outputs": [
    {
     "name": "stdout",
     "output_type": "stream",
     "text": [
      "   이름\n",
      "0  철수\n",
      "1  영희\n",
      "2  민수\n",
      "3  지수\n"
     ]
    }
   ],
   "source": [
    "df_dropped_columns = df.dropna(axis=1)  # 결측치가 있는 열 제거\n",
    "print(df_dropped_columns)"
   ]
  },
  {
   "cell_type": "markdown",
   "id": "1a47d042",
   "metadata": {},
   "source": [
    "나. 결측치 대체(채우기)  \n",
    "fillna() 함수를 사용하여 결측치를 특정 값으로 대체할 수 있다. 대체할 값은 평균, 중앙값, 최빈값 등 다양한 방식으로 설정할 수 있다."
   ]
  },
  {
   "cell_type": "code",
   "execution_count": 7,
   "id": "a7e23863",
   "metadata": {},
   "outputs": [
    {
     "name": "stdout",
     "output_type": "stream",
     "text": [
      "   이름    나이   직업\n",
      "0  철수  25.0   학생\n",
      "1  영희  30.0  회사원\n",
      "2  민수    없음   학생\n",
      "3  지수  35.0   없음\n"
     ]
    }
   ],
   "source": [
    "df_filled = df.fillna('없음')  # 결측치를 '없음'으로 대체\n",
    "print(df_filled)"
   ]
  },
  {
   "cell_type": "code",
   "execution_count": 9,
   "id": "ade81d9b",
   "metadata": {},
   "outputs": [
    {
     "name": "stdout",
     "output_type": "stream",
     "text": [
      "   이름    나이    직업\n",
      "0  철수  25.0    학생\n",
      "1  영희  30.0   회사원\n",
      "2  민수  30.0    학생\n",
      "3  지수  35.0  None\n"
     ]
    }
   ],
   "source": [
    "df['나이'] = df['나이'].fillna(df['나이'].mean())  # '나이' 열의 결측치를 평균값으로 대체\n",
    "print(df)"
   ]
  },
  {
   "cell_type": "markdown",
   "id": "39b8c665",
   "metadata": {},
   "source": [
    "다. 결측치 보간(Interpolation)  \n",
    "interpolate() 함수를 사용하여 결측치를 주변 값들을 기반으로 보간할 수 있어 시간 데이터를 다룰 때 유용하다. 선형보간법은 앞뒤 데이터 포인트의 값을 이용해 직선으로 연결하여 그 사이의 값을 예측한다."
   ]
  },
  {
   "cell_type": "code",
   "execution_count": 10,
   "id": "425958de",
   "metadata": {},
   "outputs": [
    {
     "name": "stdout",
     "output_type": "stream",
     "text": [
      "          날짜    온도\n",
      "0 2023-01-01  20.0\n",
      "1 2023-01-02  22.0\n",
      "2 2023-01-03  23.0\n",
      "3 2023-01-04  24.0\n",
      "4 2023-01-05  25.0\n"
     ]
    }
   ],
   "source": [
    "data = {\n",
    "    '날짜': pd.date_range('2023-01-01', periods=5),\n",
    "    '온도': [20, 22, None, 24, 25]\n",
    "}\n",
    "df2 = pd.DataFrame(data)\n",
    "\n",
    "# 선형 보간법으로 결측치 채우기 \n",
    "df2['온도'] = df2['온도'].interpolate() \n",
    "print(df2) "
   ]
  },
  {
   "cell_type": "code",
   "execution_count": 11,
   "id": "50a82b89",
   "metadata": {},
   "outputs": [
    {
     "name": "stdout",
     "output_type": "stream",
     "text": [
      "   이름    나이    직업\n",
      "0  철수  25.0    학생\n",
      "1  영희  30.0   회사원\n",
      "2  민수  30.0    학생\n",
      "3  지수  35.0  None\n"
     ]
    }
   ],
   "source": [
    "# '직업'이 '학생'인 경우 '나이'를 20으로 채우기\n",
    "df.loc[(df['직업'] == '학생') & (df['나이'].isna()), '나이'] = 20\n",
    "print(df) "
   ]
  },
  {
   "cell_type": "code",
   "execution_count": 12,
   "id": "12ad775c",
   "metadata": {},
   "outputs": [
    {
     "name": "stdout",
     "output_type": "stream",
     "text": [
      "   이름    나이    직업\n",
      "0  철수  25.0    학생\n",
      "1  영희  30.0   회사원\n",
      "2  민수  30.0    학생\n",
      "3  지수  35.0  None\n"
     ]
    }
   ],
   "source": [
    "# 예시: '나이'가 결측치일 경우, 기본값으로 18을 채우는 함수\n",
    "def fill_missing_age(x):\n",
    "    if pd.isna(x):  # 값이 결측값(NaN)인지 확인\n",
    "        return 18  # 결측값일 경우 18로 대체\n",
    "    return x  # 결측값이 아니면 원래 값을 반환\n",
    "#결측값을 fill_missing_age 함수로 처리\n",
    "df['나이'] = df['나이'].apply(fill_missing_age)  \n",
    "print(df)"
   ]
  },
  {
   "cell_type": "markdown",
   "id": "70d32871",
   "metadata": {},
   "source": [
    "2. 데이터 전처리: 이상치 탐지 및 처리  \n",
    "이상치(outlier)는 데이터의 일반적인 패턴에서 극단적으로 다르거나 떨어져 있는 값으로 분석 결과에 큰 영향을 줄 수 있다. 탐지 방법으로는 기술 통계량 확인, 시각화(박스플롯, 히스토그램), IQR(사분위수 범위)을 활용한 방법 등이 있다.   \n",
    "기술 통계 기반으로는 describe() 함수로 데이터의 기본 통계량을 확인하고, 이상치를 의심할 수 있다. 시각화 기법인 박스플롯과 히스토그램을 통해 데이터의 분포를 확인하여 이상치를 탐지할 수 있다. IQR을 이용해 1사분위수(Q1)와 3사분위수(Q3)의 차이로 이상치를 판단하고, 이 범위를 벗어나는 데이터를 이상치로 간주할 수 있다. 처리 방법으로는 이상치 제거, 특정 값으로 대체, 또는 로그를 사용하는 방법이 있다."
   ]
  },
  {
   "cell_type": "markdown",
   "id": "21039651",
   "metadata": {},
   "source": [
    "가. 기술 통계 기반 이상치 탐지  \n",
    "describe() 함수를 사용하여 데이터의 기본 통계량을 확인하고, 이상치를 의심할 수 있음"
   ]
  },
  {
   "cell_type": "code",
   "execution_count": 4,
   "id": "c64c3886",
   "metadata": {},
   "outputs": [
    {
     "name": "stdout",
     "output_type": "stream",
     "text": [
      "count      5.000000\n",
      "mean      46.400000\n",
      "std       41.440319\n",
      "min       22.000000\n",
      "25%       25.000000\n",
      "50%       30.000000\n",
      "75%       35.000000\n",
      "max      120.000000\n",
      "Name: 나이, dtype: float64\n"
     ]
    }
   ],
   "source": [
    "import pandas as pd\n",
    "data = {\n",
    "    '이름': ['철수', '영희', '민수', '지수', '상수'],\n",
    "    '나이': [25, 30, 22, 35, 120],  # 120은 이상치로 의심됨\n",
    "    '점수': [90, 85, 95, 80, 88]\n",
    "}\n",
    "df = pd.DataFrame(data)\n",
    "\n",
    "print(df['나이'].describe()) "
   ]
  },
  {
   "cell_type": "markdown",
   "id": "a17c96e5",
   "metadata": {},
   "source": [
    "나. 시각화를 사용한 이상치 탐지  \n",
    "박스플롯(Box Plot)과 히스토그램을 사용하면 데이터의 분포를 시각적으로 확인할 수 있음"
   ]
  },
  {
   "cell_type": "code",
   "execution_count": 2,
   "id": "2a60b86f",
   "metadata": {},
   "outputs": [
    {
     "name": "stderr",
     "output_type": "stream",
     "text": [
      "c:\\Users\\USER\\anaconda3\\envs\\maricecil\\Lib\\site-packages\\IPython\\core\\pylabtools.py:170: UserWarning: Glyph 45208 (\\N{HANGUL SYLLABLE NA}) missing from font(s) DejaVu Sans.\n",
      "  fig.canvas.print_figure(bytes_io, **kw)\n",
      "c:\\Users\\USER\\anaconda3\\envs\\maricecil\\Lib\\site-packages\\IPython\\core\\pylabtools.py:170: UserWarning: Glyph 51060 (\\N{HANGUL SYLLABLE I}) missing from font(s) DejaVu Sans.\n",
      "  fig.canvas.print_figure(bytes_io, **kw)\n",
      "c:\\Users\\USER\\anaconda3\\envs\\maricecil\\Lib\\site-packages\\IPython\\core\\pylabtools.py:170: UserWarning: Glyph 51032 (\\N{HANGUL SYLLABLE YI}) missing from font(s) DejaVu Sans.\n",
      "  fig.canvas.print_figure(bytes_io, **kw)\n",
      "c:\\Users\\USER\\anaconda3\\envs\\maricecil\\Lib\\site-packages\\IPython\\core\\pylabtools.py:170: UserWarning: Glyph 48149 (\\N{HANGUL SYLLABLE BAG}) missing from font(s) DejaVu Sans.\n",
      "  fig.canvas.print_figure(bytes_io, **kw)\n",
      "c:\\Users\\USER\\anaconda3\\envs\\maricecil\\Lib\\site-packages\\IPython\\core\\pylabtools.py:170: UserWarning: Glyph 49828 (\\N{HANGUL SYLLABLE SEU}) missing from font(s) DejaVu Sans.\n",
      "  fig.canvas.print_figure(bytes_io, **kw)\n",
      "c:\\Users\\USER\\anaconda3\\envs\\maricecil\\Lib\\site-packages\\IPython\\core\\pylabtools.py:170: UserWarning: Glyph 54540 (\\N{HANGUL SYLLABLE PEUL}) missing from font(s) DejaVu Sans.\n",
      "  fig.canvas.print_figure(bytes_io, **kw)\n",
      "c:\\Users\\USER\\anaconda3\\envs\\maricecil\\Lib\\site-packages\\IPython\\core\\pylabtools.py:170: UserWarning: Glyph 47215 (\\N{HANGUL SYLLABLE ROS}) missing from font(s) DejaVu Sans.\n",
      "  fig.canvas.print_figure(bytes_io, **kw)\n"
     ]
    },
    {
     "data": {
      "image/png": "[encoded data removed]",
      "text/plain": [
       "<Figure size 640x480 with 1 Axes>"
      ]
     },
     "metadata": {},
     "output_type": "display_data"
    }
   ],
   "source": [
    "import matplotlib.pyplot as plt\n",
    "\n",
    "# 박스플롯으로 이상치 시각화\n",
    "plt.boxplot(df['나이'])\n",
    "plt.title('나이의 박스플롯')\n",
    "plt.show()"
   ]
  },
  {
   "cell_type": "markdown",
   "id": "46ba16d2",
   "metadata": {},
   "source": [
    "다. IQR(Interquartile Range)을 사용한 이상치 탐지  \n",
    "IQR은 1사분위수(Q1)와 3사분위수(Q3)의 차이로, 이 범위를 벗어나는 데이터를 이상치로 간주할 수 있다. 1.5 * IQR보다 작거나 큰 값들을 이상값으로 간주한다."
   ]
  },
  {
   "cell_type": "code",
   "execution_count": 6,
   "id": "91a85cb3",
   "metadata": {},
   "outputs": [
    {
     "name": "stdout",
     "output_type": "stream",
     "text": [
      "   이름   나이  점수\n",
      "4  상수  120  88\n"
     ]
    }
   ],
   "source": [
    "# quantile()는 백분위수로 0에서 1 사이의 비율을 나타냄. 괄호 안의 숫자는 해당 비율 위치에 있는 값을 의미하므로 하위 25%, 하위 75% 지점의 값을 반환함  \n",
    "# 사분위수는 4개 구간으로 나눈 값을 의미함(0.25, 0.5, 0.75)\n",
    "\n",
    "Q1 = df['나이'].quantile(0.25)  # 1사분위수 계산\n",
    "Q3 = df['나이'].quantile(0.75)  # 3사분위수 계산\n",
    "IQR = Q3 - Q1  # IQR 계산\n",
    "\n",
    "lower_bound = Q1 - 1.5 * IQR  # 이상값 하한\n",
    "upper_bound = Q3 + 1.5 * IQR  # 이상값 상한\n",
    "\n",
    "outliers = df[(df['나이'] < lower_bound) | (df['나이'] > upper_bound)]  # 이상값 탐지\n",
    "print(outliers)"
   ]
  },
  {
   "cell_type": "markdown",
   "id": "a876e4b3",
   "metadata": {},
   "source": [
    "3. 이상치 처리방법  \n",
    "제거, 대체, 데이터 변환, 모델 기반 처리와 같은 방법으로 이상값을 처리할 수 있음"
   ]
  },
  {
   "cell_type": "markdown",
   "id": "62302272",
   "metadata": {},
   "source": [
    "가. 이상치 제거  \n",
    "이상값을 데이터에서 제거하여 분석의 정확성을 높일 수 있지만, 중요한 정보를 가진 이상값일 경우 제거하지 않는 것이 좋다."
   ]
  },
  {
   "cell_type": "code",
   "execution_count": 7,
   "id": "85ccd753",
   "metadata": {},
   "outputs": [
    {
     "name": "stdout",
     "output_type": "stream",
     "text": [
      "   이름  나이  점수\n",
      "0  철수  25  90\n",
      "1  영희  30  85\n",
      "2  민수  22  95\n",
      "3  지수  35  80\n"
     ]
    }
   ],
   "source": [
    "# 이상치를 제거한 데이터프레임\n",
    "df_without_outliers = df[(df['나이'] >= lower_bound) & (df['나이'] <= upper_bound)]\n",
    "print(df_without_outliers)"
   ]
  },
  {
   "cell_type": "markdown",
   "id": "b02c6d36",
   "metadata": {},
   "source": [
    "나. 이상치를 특정 값으로 대체  \n",
    "이상값을 데이터셋에서 제거하는 대신, 평균, 중앙값, 특정 값 등으로 대체할 수 있음"
   ]
  },
  {
   "cell_type": "code",
   "execution_count": 8,
   "id": "43dd9a40",
   "metadata": {},
   "outputs": [
    {
     "name": "stdout",
     "output_type": "stream",
     "text": [
      "   이름    나이  점수\n",
      "0  철수  25.0  90\n",
      "1  영희  30.0  85\n",
      "2  민수  22.0  95\n",
      "3  지수  35.0  80\n",
      "4  상수  30.0  88\n"
     ]
    }
   ],
   "source": [
    "# '나이'의 중앙값으로 이상치 대체\n",
    "median_age = df['나이'].median()\n",
    "df['나이'] = df['나이'].apply(lambda x: median_age if x > upper_bound or x < lower_bound else x)\n",
    "print(df)"
   ]
  },
  {
   "cell_type": "markdown",
   "id": "8b13be33",
   "metadata": {},
   "source": [
    "다. 로그변환  \n",
    "값의 범위를 압축하여 큰 값의 영향을 감소시키고, 데이터의 왜곡을 줄이는 데 효과적임"
   ]
  },
  {
   "cell_type": "code",
   "execution_count": null,
   "id": "71287b9f",
   "metadata": {},
   "outputs": [
    {
     "name": "stdout",
     "output_type": "stream",
     "text": [
      "   이름    나이  점수   Log_Age\n",
      "0  철수  25.0  90  3.218876\n",
      "1  영희  30.0  85  3.401197\n",
      "2  민수  22.0  95  3.091042\n",
      "3  지수  35.0  80  3.555348\n",
      "4  상수  30.0  88  3.401197\n"
     ]
    }
   ],
   "source": [
    "import numpy as np\n",
    "\n",
    "# 'Age' 열에 로그 변환 적용 (자연 로그)\n",
    "df['Log_Age'] = np.log(df['나이'])  # 자연 로그 사용\n",
    "# 또는 상용 로그를 사용하려면 np.log10(df['나이'])를 사용\n",
    "print(df)"
   ]
  },
  {
   "cell_type": "markdown",
   "id": "1167613f",
   "metadata": {},
   "source": [
    "1. 데이터 정규화와 Min-Max 정규화 방법  \n",
    "정규화(Normalization)는 데이터를 특정 범위 (일반적으로 [0, 1] 또는 [-1, 1])로 스케일링하는 과정이다. 최소값과 최대값의 차이를 기준으로 모든 데이터를 동일한 범위로 변환함으로써 비교하기 쉽게 만든다. 주로 Min-Max 스케일링을 사용하는데, 각 데이터를 최소값을 0, 최대값을 1로 변환하는 식이다."
   ]
  },
  {
   "cell_type": "code",
   "execution_count": 1,
   "id": "3dd204c8",
   "metadata": {},
   "outputs": [
    {
     "name": "stdout",
     "output_type": "stream",
     "text": [
      "    특성1   특성2\n",
      "0  0.00  0.00\n",
      "1  0.25  0.25\n",
      "2  0.50  0.50\n",
      "3  0.75  0.75\n",
      "4  1.00  1.00\n"
     ]
    }
   ],
   "source": [
    "import pandas as pd\n",
    "from sklearn.preprocessing import MinMaxScaler\n",
    "\n",
    "data = {\n",
    "    '특성1': [10, 20, 30, 40, 50],\n",
    "    '특성2': [1, 2, 3, 4, 5]\n",
    "}\n",
    "df = pd.DataFrame(data)\n",
    "\n",
    "scaler = MinMaxScaler()  # Min-Max 정규화\n",
    "normalized_df = pd.DataFrame(scaler.fit_transform(df), columns=df.columns)\n",
    "print(normalized_df)  "
   ]
  },
  {
   "cell_type": "markdown",
   "id": "a0f3cd59",
   "metadata": {},
   "source": [
    "2. 데이터 표준화 과정과 Z-점수 표준화  \n",
    "표준화(Standardization)는 데이터를 평균 0과 표준편차 1로 변환하는 과정으로, 이는 정규 분포를 가정한 다양한 분석 기법에 유리하다. Z-점수 표준화가 대표적으로, 데이터에서 평균을 빼고 표준편차로 나누어 모든 데이터가 표준 정규분포(평균 0, 표준편차 1)를 따르도록 만든다. "
   ]
  },
  {
   "cell_type": "code",
   "execution_count": 2,
   "id": "2432e822",
   "metadata": {},
   "outputs": [
    {
     "name": "stdout",
     "output_type": "stream",
     "text": [
      "        특성1       특성2\n",
      "0 -1.414214 -1.414214\n",
      "1 -0.707107 -0.707107\n",
      "2  0.000000  0.000000\n",
      "3  0.707107  0.707107\n",
      "4  1.414214  1.414214\n"
     ]
    }
   ],
   "source": [
    "from sklearn.preprocessing import StandardScaler\n",
    "\n",
    "scaler = StandardScaler()  # Z-점수 표준화\n",
    "standardized_df = pd.DataFrame(scaler.fit_transform(df), columns=df.columns)\n",
    "print(standardized_df)"
   ]
  },
  {
   "cell_type": "markdown",
   "id": "470ce718",
   "metadata": {},
   "source": [
    "3. 비선형 변환(Non-linear Transformation)  \n",
    "비선형 변환은 데이터의 왜도(skewness)를 줄이거나 비정상적인 데이터 분포를 정규 분포에 가깝게 변환하는데 사용된다. 대표적인 방법으로 로그 변환, 제곱근 변환, 박스-콕스 변환 등이 있다."
   ]
  },
  {
   "cell_type": "markdown",
   "id": "888c5416",
   "metadata": {},
   "source": [
    "가. 로그(Log) 변환  \n",
    "로그 변환은 양수의 값에 대해 로그를 취해 큰 값의 변화를 줄이고 분포를 정규화함으로써 데이터의 분포를 좁히는 데 유용하다. 특히, 지수 분포를 가진 데이터를 다룰 때 효과적이다."
   ]
  },
  {
   "cell_type": "code",
   "execution_count": 3,
   "id": "50796712",
   "metadata": {},
   "outputs": [
    {
     "name": "stdout",
     "output_type": "stream",
     "text": [
      "   특성1  특성2   특성1_log\n",
      "0   10    1  2.302585\n",
      "1   20    2  2.995732\n",
      "2   30    3  3.401197\n",
      "3   40    4  3.688879\n",
      "4   50    5  3.912023\n"
     ]
    }
   ],
   "source": [
    "import numpy as np\n",
    "\n",
    "df['특성1_log'] = np.log(df['특성1'])\n",
    "print(df)"
   ]
  },
  {
   "cell_type": "markdown",
   "id": "c652cb71",
   "metadata": {},
   "source": [
    "나. 제곱근(Square Root) 변환  \n",
    "제곱근 변환은 데이터의 분포를 평탄하게 만들기 위해 사용되며, 주로 포아송 분포를 가진 데이터에서 사용된다."
   ]
  },
  {
   "cell_type": "code",
   "execution_count": 4,
   "id": "d72001ed",
   "metadata": {},
   "outputs": [
    {
     "name": "stdout",
     "output_type": "stream",
     "text": [
      "   특성1  특성2   특성1_log  특성1_sqrt\n",
      "0   10    1  2.302585  3.162278\n",
      "1   20    2  2.995732  4.472136\n",
      "2   30    3  3.401197  5.477226\n",
      "3   40    4  3.688879  6.324555\n",
      "4   50    5  3.912023  7.071068\n"
     ]
    }
   ],
   "source": [
    "df['특성1_sqrt'] = np.sqrt(df['특성1'])\n",
    "print(df)"
   ]
  },
  {
   "cell_type": "markdown",
   "id": "b10ea76c",
   "metadata": {},
   "source": [
    "다. 박스-콕스(Box-Cox) 변환  \n",
    "양수의 데이터에 대해서만 사용되며, 비정규 분포를 정규 분포에 가깝게 변환할 수 있다."
   ]
  },
  {
   "cell_type": "code",
   "execution_count": 5,
   "id": "5be43533",
   "metadata": {},
   "outputs": [
    {
     "name": "stdout",
     "output_type": "stream",
     "text": [
      "   특성1  특성2   특성1_log  특성1_sqrt  특성1_boxcox\n",
      "0   10    1  2.302585  3.162278    5.651388\n",
      "1   20    2  2.995732  4.472136   10.008081\n",
      "2   30    3  3.401197  5.477226   13.708443\n",
      "3   40    4  3.688879  6.324555   17.038106\n",
      "4   50    5  3.912023  7.071068   20.116742\n"
     ]
    }
   ],
   "source": [
    "from scipy.stats import boxcox\n",
    "\n",
    "df['특성1_boxcox'], _ = boxcox(df['특성1'])\n",
    "print(df)  "
   ]
  },
  {
   "cell_type": "markdown",
   "id": "45f73aa3",
   "metadata": {},
   "source": [
    "1. 범주형 데이터를 수치형 데이터로 변환하는 인코딩  \n",
    "인코딩(Encoding)은 범주형 데이터(Categorical Data)를 수치형 데이터로 변환하는 과정이며, 많은 머신러닝 모델이 수치형 데이터만 처리할 수 있기 때문에 이를 수행하는 것이 필수적이다. "
   ]
  },
  {
   "cell_type": "markdown",
   "id": "7bef4425",
   "metadata": {},
   "source": [
    "가. 라벨 인코딩(Label Encoding)  \n",
    "라벨 인코딩은 범주형 데이터를 순서가 있는 숫자로 변환하며, 각 범주에 고유한 정수 값을 할당한다. 순서가 없는 데이터에 사용하면 모델이 이 값을 크기로 인식하여 잘못된 결과를 초래할 수 있다. "
   ]
  },
  {
   "cell_type": "code",
   "execution_count": 1,
   "id": "ec642033",
   "metadata": {},
   "outputs": [
    {
     "name": "stdout",
     "output_type": "stream",
     "text": [
      "    과일  과일_인코딩\n",
      "0   사과       1\n",
      "1  바나나       0\n",
      "2   사과       1\n",
      "3  오렌지       2\n",
      "4  바나나       0\n"
     ]
    }
   ],
   "source": [
    "import pandas as pd\n",
    "from sklearn.preprocessing import LabelEncoder\n",
    "\n",
    "data = {'과일': ['사과', '바나나', '사과', '오렌지', '바나나']}\n",
    "df = pd.DataFrame(data)\n",
    "\n",
    "label_encoder = LabelEncoder()  \n",
    "df['과일_인코딩'] = label_encoder.fit_transform(df['과일'])\n",
    "print(df)  "
   ]
  },
  {
   "cell_type": "markdown",
   "id": "0934d41e",
   "metadata": {},
   "source": [
    "나. 원-핫 인코딩(One-Hot Encoding)  \n",
    "원-핫 인코딩은 각 범주를 이진 벡터로 변환하며 순서가 없는 범주형 데이터에 사용된다. 각 범주에 고유한 열을 부여하여 해당 열에는 1, 나머지 열에는 0이 할당된다. 모델이 범주 간 순서나 관계를 인식하지 않고 각 범주를 독립적으로 처리할 수 있는 장점이 있다. "
   ]
  },
  {
   "cell_type": "code",
   "execution_count": 3,
   "id": "af0e5098",
   "metadata": {},
   "outputs": [
    {
     "name": "stdout",
     "output_type": "stream",
     "text": [
      "   과일_바나나  과일_사과  과일_오렌지\n",
      "0   False   True   False\n",
      "1    True  False   False\n",
      "2   False   True   False\n",
      "3   False  False    True\n",
      "4    True  False   False\n"
     ]
    }
   ],
   "source": [
    "df_one_hot = pd.get_dummies(df['과일'], prefix='과일')\n",
    "print(df_one_hot) "
   ]
  },
  {
   "cell_type": "markdown",
   "id": "32ef812c",
   "metadata": {},
   "source": [
    "다. 차원 축소 인코딩 (Count or Frequency Encoding)  \n",
    "차원 축소 인코딩은 고차원 데이터에서 특징을 줄이면서 중요한 정보를 유지하므로 범주형 데이터가 많을 때 유용하다. 각 범주를 데이터셋 내에서의 출현 빈도로 인코딩하며, 주성분 분석(PCA)과 같은 기법이 사용된다."
   ]
  },
  {
   "cell_type": "code",
   "execution_count": 4,
   "id": "c84e7ab9",
   "metadata": {},
   "outputs": [
    {
     "name": "stdout",
     "output_type": "stream",
     "text": [
      "    과일  과일_인코딩  과일_빈도\n",
      "0   사과       1      2\n",
      "1  바나나       0      2\n",
      "2   사과       1      2\n",
      "3  오렌지       2      1\n",
      "4  바나나       0      2\n"
     ]
    }
   ],
   "source": [
    "# 빈도 기반 인코딩\n",
    "df['과일_빈도'] = df['과일'].map(df['과일'].value_counts())\n",
    "print(df) "
   ]
  },
  {
   "cell_type": "markdown",
   "id": "72203c3c",
   "metadata": {},
   "source": [
    "라. 순서형 인코딩 (Ordinal Encoding)  \n",
    "순서형 인코딩은 순서가 있는 범주형 데이터를 그 순서에 따라 숫자로 변환하는 방식이다. 시간 순서나 이벤트의 순서를 표현할 수 있다."
   ]
  },
  {
   "cell_type": "code",
   "execution_count": 5,
   "id": "e6e807d9",
   "metadata": {},
   "outputs": [
    {
     "name": "stdout",
     "output_type": "stream",
     "text": [
      "   등급  등급_인코딩\n",
      "0  낮음       1\n",
      "1  중간       2\n",
      "2  높음       3\n",
      "3  중간       2\n",
      "4  높음       3\n"
     ]
    }
   ],
   "source": [
    "data = {'등급': ['낮음', '중간', '높음', '중간', '높음']}\n",
    "df = pd.DataFrame(data)\n",
    "\n",
    "order = {'낮음': 1, '중간': 2, '높음': 3}\n",
    "df['등급_인코딩'] = df['등급'].map(order)\n",
    "print(df) "
   ]
  }
 ],
 "metadata": {
  "kernelspec": {
   "display_name": "maricecil",
   "language": "python",
   "name": "python3"
  },
  "language_info": {
   "codemirror_mode": {
    "name": "ipython",
    "version": 3
   },
   "file_extension": ".py",
   "mimetype": "text/x-python",
   "name": "python",
   "nbconvert_exporter": "python",
   "pygments_lexer": "ipython3",
   "version": "3.12.5"
  }
 },
 "nbformat": 4,
 "nbformat_minor": 5
}
