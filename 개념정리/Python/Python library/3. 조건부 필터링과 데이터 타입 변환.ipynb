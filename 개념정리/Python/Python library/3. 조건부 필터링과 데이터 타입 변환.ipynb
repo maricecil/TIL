{
 "cells": [
  {
   "cell_type": "markdown",
   "id": "1d073087",
   "metadata": {},
   "source": [
    "1. 다양한 조건으로 데이터 필터링 방법  \n",
    "여러 조건을 결합하여 데이터를 필터링할 수 있다. 조건부 필터링은 특정 조건을 만족하는 데이터만 선택하는 강력한 도구로, 복잡한 조건을 구성하기 위해 &, |, ~ 등의 연산자를 결합할 수 있다. 데이터 타입 변환은 데이터를 올바르게 처리하기 위해 필수적이며, astype(), pd.to_datetime() 등을 통해 변환할 수 있다. 정확한 데이터 타입지정으로 메모리 절약과 성능향상을 기대할 수 있다. "
   ]
  },
  {
   "cell_type": "code",
   "execution_count": 14,
   "id": "6d5549bf",
   "metadata": {},
   "outputs": [
    {
     "name": "stdout",
     "output_type": "stream",
     "text": [
      "   이름  나이    직업\n",
      "0  철수  25    학생\n",
      "1  영희  30   회사원\n",
      "3  지수  35  프리랜서\n",
      "   이름  나이  직업\n",
      "0  철수  25  학생\n",
      "   이름  나이    직업\n",
      "0  철수  25    학생\n",
      "2  민수  22    학생\n",
      "3  지수  35  프리랜서\n",
      "   이름  나이    직업\n",
      "1  영희  30   회사원\n",
      "3  지수  35  프리랜서\n"
     ]
    }
   ],
   "source": [
    "import pandas as pd\n",
    "data = {\n",
    "    '이름': ['철수', '영희', '민수', '지수'],\n",
    "    '나이': [25, 30, 22, 35],\n",
    "    '직업': ['학생', '회사원', '학생', '프리랜서']\n",
    "}\n",
    "df = pd.DataFrame(data)\n",
    "\n",
    "filtered_df = df[df['나이'] >= 25]  # 나이가 25 이상인 행만 선택\n",
    "filtered_df = df.query('나이>=25')  # query() 메서드를 사용하면 더욱 간결해짐\n",
    "\n",
    "print(filtered_df)\n",
    "\n",
    "# 나이가 25 이상이고, 직업이 '학생'인 행만 선택\n",
    "filtered_df = df[(df['나이'] >= 25) & (df['직업'] == '학생')]\n",
    "print(filtered_df) \n",
    "\n",
    "# 특정 값들이 포함된 행을 필터링\n",
    "filtered_df = df[df['직업'].isin(['학생', '프리랜서'])]\n",
    "print(filtered_df)  \n",
    "\n",
    "# ~ 연산자를 사용하여 특정 조건을 부정함\n",
    "filtered_df = df[~(df['직업'] == '학생')]\n",
    "print(filtered_df)  "
   ]
  },
  {
   "cell_type": "code",
   "execution_count": 15,
   "id": "2ac83c6b",
   "metadata": {},
   "outputs": [
    {
     "name": "stdout",
     "output_type": "stream",
     "text": [
      "이름    object\n",
      "나이     int64\n",
      "직업    object\n",
      "dtype: object\n",
      "이름     object\n",
      "나이    float64\n",
      "직업     object\n",
      "dtype: object\n"
     ]
    }
   ],
   "source": [
    "print(df.dtypes) # dtype으로 데이터 타입 확인\n",
    "\n",
    "df['나이'] = df['나이'].astype(float) # '나이' 열을 정수형(int)에서 실수형(float)으로 변환\n",
    "print(df.dtypes)\n"
   ]
  },
  {
   "cell_type": "code",
   "execution_count": 23,
   "id": "7e1f6a31",
   "metadata": {},
   "outputs": [
    {
     "name": "stdout",
     "output_type": "stream",
     "text": [
      "이름             object\n",
      "가입일    datetime64[ns]\n",
      "dtype: object\n"
     ]
    }
   ],
   "source": [
    "data = {\n",
    "    '이름': ['철수', '영희', '민수'],\n",
    "    '가입일': ['2023-01-01', '2022-12-15', '2023-05-22']\n",
    "}\n",
    "df = pd.DataFrame(data)\n",
    "\n",
    "# '가입일'을 날짜 타입으로 변환\n",
    "df['가입일'] = pd.to_datetime(df['가입일'])\n",
    "print(df.dtypes)\n"
   ]
  },
  {
   "cell_type": "code",
   "execution_count": 30,
   "id": "beb48c23",
   "metadata": {},
   "outputs": [
    {
     "name": "stdout",
     "output_type": "stream",
     "text": [
      "   이름  나이    직업\n",
      "0  철수  25    학생\n",
      "1  영희  30   회사원\n",
      "2  민수  22    학생\n",
      "3  지수  35  프리랜서\n",
      "   이름  나이    직업\n",
      "3  지수  35  프리랜서\n",
      "0  철수  25    학생\n",
      "2  민수  22    학생\n",
      "1  영희  30   회사원\n",
      "   이름  나이    직업\n",
      "0  철수  25    학생\n",
      "1  영희  30   회사원\n",
      "2  민수  22    학생\n",
      "3  지수  35  프리랜서\n"
     ]
    }
   ],
   "source": [
    "import pandas as pd\n",
    "data = {\n",
    "    '이름': ['철수', '영희', '민수', '지수'],\n",
    "    '나이': [25, 30, 22, 35],\n",
    "    '직업': ['학생', '회사원', '학생', '프리랜서']\n",
    "}\n",
    "df = pd.DataFrame(data)\n",
    "\n",
    "print(df)  \n",
    "\n",
    "# '나이' 기준으로 오름차순 정렬  #내림차순의 경우(by='나이', ascending=False)를 추가함\n",
    "sorted_df = df.sort_values(by='나이')  \n",
    "\n",
    "# '직업'을 기준으로 오름차순, '나이' 내림차순 정렬\n",
    "sorted_df_multi = df.sort_values(by=['직업', '나이'], ascending=[True, False])\n",
    "print(sorted_df_multi)\n",
    "\n",
    "# 인덱스 기준으로 정렬\n",
    "sorted_index_df = df.sort_index()\n",
    "print(sorted_index_df)\n"
   ]
  },
  {
   "cell_type": "code",
   "execution_count": 32,
   "id": "a7e23863",
   "metadata": {},
   "outputs": [
    {
     "name": "stdout",
     "output_type": "stream",
     "text": [
      "   이름  나이   직업\n",
      "0  철수  25   학생\n",
      "1  영희  30  회사원\n"
     ]
    }
   ],
   "source": [
    "# merge()를 사용한 데이터 병합\n",
    "df1 = pd.DataFrame({\n",
    "    '이름': ['철수', '영희', '민수'],\n",
    "    '나이': [25, 30, 22]\n",
    "})\n",
    "\n",
    "df2 = pd.DataFrame({\n",
    "    '이름': ['철수', '영희', '지수'],\n",
    "    '직업': ['학생', '회사원', '프리랜서']\n",
    "})\n",
    "\n",
    "merged_df = pd.merge(df1, df2, on='이름')  # '이름'을 기준으로 병합\n",
    "# pd.merge()는 기본적으로 내부조인을 수행하여 지정된 열에서 일치하는 값만 찾음\n",
    "\n",
    "print(merged_df)  "
   ]
  },
  {
   "cell_type": "code",
   "execution_count": null,
   "id": "4ec2a95b",
   "metadata": {},
   "outputs": [
    {
     "name": "stdout",
     "output_type": "stream",
     "text": [
      "   이름    나이    직업\n",
      "0  민수  22.0   NaN\n",
      "1  영희  30.0   회사원\n",
      "2  지수   NaN  프리랜서\n",
      "3  철수  25.0    학생\n"
     ]
    }
   ],
   "source": [
    "# outer join을 사용한 병합\n",
    "merged_df_outer = pd.merge(df1, df2, on='이름', how='outer')\n",
    "print(merged_df_outer) "
   ]
  },
  {
   "cell_type": "code",
   "execution_count": 35,
   "id": "b79bcca3",
   "metadata": {},
   "outputs": [
    {
     "name": "stdout",
     "output_type": "stream",
     "text": [
      "   이름    나이    직업\n",
      "0  철수  25.0   NaN\n",
      "1  영희  30.0   NaN\n",
      "2  민수  22.0   NaN\n",
      "0  철수   NaN    학생\n",
      "1  영희   NaN   회사원\n",
      "2  지수   NaN  프리랜서\n"
     ]
    }
   ],
   "source": [
    "# concat()을 사용한 데이터프레임 연결  # 열 단위(라로방향)로 연결할 경우 `axis=1`을 지정\n",
    "concat_df = pd.concat([df1, df2], axis=0)  \n",
    "print(concat_df)  "
   ]
  },
  {
   "cell_type": "code",
   "execution_count": 37,
   "id": "a4db597d",
   "metadata": {},
   "outputs": [
    {
     "name": "stdout",
     "output_type": "stream",
     "text": [
      "    나이   직업      연봉\n",
      "이름                 \n",
      "철수  25   학생  2000.0\n",
      "영희  30  회사원  3000.0\n",
      "민수  22  NaN     NaN\n"
     ]
    }
   ],
   "source": [
    "# join()을 사용한 데이터프레임 병합\n",
    "df3 = pd.DataFrame({\n",
    "    '직업': ['학생', '회사원', '프리랜서'],\n",
    "    '연봉': [2000, 3000, 4000]\n",
    "}, index=['철수', '영희', '지수'])\n",
    "\n",
    "# 인덱스를 기준으로 병합\n",
    "joined_df = df1.set_index('이름').join(df3)\n",
    "print(joined_df) "
   ]
  },
  {
   "cell_type": "markdown",
   "id": "bdbf4f10",
   "metadata": {},
   "source": [
    "1. 데이터프레임 그룹화 및 집계 함수 사용하기  \n",
    "groupby()로 그룹화한 데이터에 대해 mean, sum, count 등의 집계 함수를 사용할 수 있으며, 여러 집계 함수를 동시에 사용해 점수의 합계와 평균을 계산할 수 있다. 다양한 열을 기준으로 그룹화하여 통계낼 수 있다."
   ]
  },
  {
   "cell_type": "code",
   "execution_count": 1,
   "id": "162346d9",
   "metadata": {},
   "outputs": [
    {
     "name": "stdout",
     "output_type": "stream",
     "text": [
      "Name\n",
      "Alice       72500.0\n",
      "Bob         82500.0\n",
      "Charlie    122500.0\n",
      "Name: Salary, dtype: float64\n",
      "City         Age\n",
      "Chicago      35     245000\n",
      "Los Angeles  30     165000\n",
      "New York     25     145000\n",
      "Name: Salary, dtype: int64\n"
     ]
    }
   ],
   "source": [
    "# groupby()를 사용한 그룹화\n",
    "import pandas as pd\n",
    "data = {\n",
    "    'Name': ['Alice', 'Bob', 'Charlie', 'Alice', 'Bob', 'Charlie'],\n",
    "    'Age': [25, 30, 35, 25, 30, 35],\n",
    "    'City': ['New York', 'Los Angeles', 'Chicago', 'New York', 'Los Angeles', 'Chicago'],\n",
    "    'Salary': [70000, 80000, 120000, 75000, 85000, 125000]\n",
    "}\n",
    "df = pd.DataFrame(data)\n",
    "\n",
    "# 'Name'을 기준으로 그룹화하고 평균 Salary 계산\n",
    "grouped = df.groupby('Name')['Salary'].mean()\n",
    "print(grouped)\n",
    "\n",
    "# 'City'와 'Age'를 기준으로 그룹화하여 Salary 합계 계산\n",
    "grouped = df.groupby(['City', 'Age'])['Salary'].sum()\n",
    "print(grouped)\n"
   ]
  },
  {
   "cell_type": "code",
   "execution_count": 2,
   "id": "6d0a1e63",
   "metadata": {},
   "outputs": [
    {
     "name": "stdout",
     "output_type": "stream",
     "text": [
      "           Salary                   Age\n",
      "             mean     sum     max count\n",
      "Name                                   \n",
      "Alice     72500.0  145000   75000     2\n",
      "Bob       82500.0  165000   85000     2\n",
      "Charlie  122500.0  245000  125000     2\n"
     ]
    }
   ],
   "source": [
    "# 여러 함수를 사용하여 Salary 집계\n",
    "agg_result = df.groupby('Name').agg({\n",
    "    'Salary': ['mean', 'sum', 'max'],\n",
    "    'Age': 'count'\n",
    "})\n",
    "print(agg_result)  "
   ]
  },
  {
   "cell_type": "code",
   "execution_count": 3,
   "id": "3d06dca7",
   "metadata": {},
   "outputs": [
    {
     "name": "stdout",
     "output_type": "stream",
     "text": [
      "City      Chicago  Los Angeles  New York\n",
      "Name                                    \n",
      "Alice         NaN          NaN   72500.0\n",
      "Bob           NaN      82500.0       NaN\n",
      "Charlie  122500.0          NaN       NaN\n"
     ]
    }
   ],
   "source": [
    "# 'name'을 인덱스로, 'city'을 컬럼으로 하여 평균 Salary 계산\n",
    "pivot = pd.pivot_table(df, values='Salary', index='Name', columns='City', aggfunc='mean')\n",
    "print(pivot) "
   ]
  },
  {
   "cell_type": "code",
   "execution_count": 4,
   "id": "b59cce4d",
   "metadata": {},
   "outputs": [
    {
     "name": "stdout",
     "output_type": "stream",
     "text": [
      "             mean                            sum                      \n",
      "City      Chicago Los Angeles New York   Chicago Los Angeles  New York\n",
      "Name                                                                  \n",
      "Alice         NaN         NaN  72500.0       NaN         NaN  145000.0\n",
      "Bob           NaN     82500.0      NaN       NaN    165000.0       NaN\n",
      "Charlie  122500.0         NaN      NaN  245000.0         NaN       NaN\n"
     ]
    }
   ],
   "source": [
    "# 여러 집계 함수로 피벗 테이블을 생성할 수도 있음\n",
    "pivot_multi = pd.pivot_table(df, values='Salary', index='Name', columns='City', aggfunc=['mean', 'sum'])\n",
    "print(pivot_multi)"
   ]
  },
  {
   "cell_type": "code",
   "execution_count": 5,
   "id": "43a51fe1",
   "metadata": {},
   "outputs": [
    {
     "name": "stdout",
     "output_type": "stream",
     "text": [
      "City\n",
      "Chicago        122500.0\n",
      "Los Angeles     82500.0\n",
      "Name: Salary, dtype: float64\n",
      "Name\n",
      "Charlie    245000\n",
      "Bob        165000\n",
      "Alice      145000\n",
      "Name: Salary, dtype: int64\n"
     ]
    }
   ],
   "source": [
    "#급여가 80000 이상인 경우에만 그룹화  \n",
    "filtered_df = df[df['Salary'] >= 80000]  # 필터링 후 그룹화\n",
    "grouped_filtered = filtered_df.groupby('City')['Salary'].mean()\n",
    "print(grouped_filtered)\n",
    "\n",
    "# 'Salary' 합계 기준으로 내림차순 정렬\n",
    "sorted_grouped = df.groupby('Name')['Salary'].sum().sort_values(ascending=False)\n",
    "print(sorted_grouped)"
   ]
  }
 ],
 "metadata": {
  "kernelspec": {
   "display_name": "maricecil",
   "language": "python",
   "name": "python3"
  },
  "language_info": {
   "codemirror_mode": {
    "name": "ipython",
    "version": 3
   },
   "file_extension": ".py",
   "mimetype": "text/x-python",
   "name": "python",
   "nbconvert_exporter": "python",
   "pygments_lexer": "ipython3",
   "version": "3.12.5"
  }
 },
 "nbformat": 4,
 "nbformat_minor": 5
}
