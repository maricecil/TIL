{
 "cells": [
  {
   "cell_type": "markdown",
   "id": "1d073087",
   "metadata": {},
   "source": [
    "1. isna()와 isnull()로 결측치 탐지  \n",
    "isna()와 isnull() 함수는 데이터프레임의 각 요소가 결측치인지 여부를 확인한다. 두 함수는 동일한 기능을 한다.  \n",
    "(1)isna(), isnull(): 결측값인 경우 True, 아닌 경우 False를 반환함  \n",
    "(2)notna(), notnull(): 결측값인 경우 False, 아닌 경우 True를 반환함"
   ]
  },
  {
   "cell_type": "code",
   "execution_count": 1,
   "id": "6d5549bf",
   "metadata": {},
   "outputs": [
    {
     "name": "stdout",
     "output_type": "stream",
     "text": [
      "      이름     나이     직업\n",
      "0  False  False  False\n",
      "1  False  False  False\n",
      "2  False   True  False\n",
      "3  False  False   True\n"
     ]
    }
   ],
   "source": [
    "import pandas as pd\n",
    "data = {\n",
    "    '이름': ['철수', '영희', '민수', '지수'],\n",
    "    '나이': [25, 30, None, 35],\n",
    "    '직업': ['학생', '회사원', '학생', None]\n",
    "}\n",
    "df = pd.DataFrame(data)\n",
    "print(df.isna()) "
   ]
  },
  {
   "cell_type": "code",
   "execution_count": 4,
   "id": "2ac83c6b",
   "metadata": {},
   "outputs": [
    {
     "name": "stdout",
     "output_type": "stream",
     "text": [
      "이름    0\n",
      "나이    1\n",
      "직업    1\n",
      "dtype: int64\n"
     ]
    }
   ],
   "source": [
    "# 결측치의 총 개수를 확인하려면 isna() 또는 isnull()과 sum()을 조합해 사용함\n",
    "print(df.isna().sum())  "
   ]
  },
  {
   "cell_type": "markdown",
   "id": "35d54980",
   "metadata": {},
   "source": [
    "가. 결측치 제거  \n",
    "(1) dropna() 함수를 사용결측치가 포함된 행이나 열을 삭제함  \n",
    "(2) dropna(axis=0): 결측값이 있는 행을 제거함  \n",
    "(3) dropna(axis=1): 결측값이 있는 열을 제거함  \n",
    "(4) how: 'any' 또는 'all'로 설정하여 일부 또는 모든 값이 결측값인 경우에만 제거함  "
   ]
  },
  {
   "cell_type": "code",
   "execution_count": 5,
   "id": "7e1f6a31",
   "metadata": {},
   "outputs": [
    {
     "name": "stdout",
     "output_type": "stream",
     "text": [
      "   이름    나이   직업\n",
      "0  철수  25.0   학생\n",
      "1  영희  30.0  회사원\n"
     ]
    }
   ],
   "source": [
    "df_dropped_rows = df.dropna()  # 결측치가 있는 행 제거\n",
    "print(df_dropped_rows) "
   ]
  },
  {
   "cell_type": "code",
   "execution_count": null,
   "id": "beb48c23",
   "metadata": {},
   "outputs": [
    {
     "name": "stdout",
     "output_type": "stream",
     "text": [
      "   이름\n",
      "0  철수\n",
      "1  영희\n",
      "2  민수\n",
      "3  지수\n"
     ]
    }
   ],
   "source": [
    "df_dropped_columns = df.dropna(axis=1)  # 결측치가 있는 열 제거\n",
    "print(df_dropped_columns)"
   ]
  },
  {
   "cell_type": "markdown",
   "id": "1a47d042",
   "metadata": {},
   "source": [
    "나. 결측치 대체(채우기)  \n",
    "fillna() 함수를 사용하여 결측치를 특정 값으로 대체할 수 있다. 대체할 값은 평균, 중앙값, 최빈값 등 다양한 방식으로 설정할 수 있다."
   ]
  },
  {
   "cell_type": "code",
   "execution_count": 7,
   "id": "a7e23863",
   "metadata": {},
   "outputs": [
    {
     "name": "stdout",
     "output_type": "stream",
     "text": [
      "   이름    나이   직업\n",
      "0  철수  25.0   학생\n",
      "1  영희  30.0  회사원\n",
      "2  민수    없음   학생\n",
      "3  지수  35.0   없음\n"
     ]
    }
   ],
   "source": [
    "df_filled = df.fillna('없음')  # 결측치를 '없음'으로 대체\n",
    "print(df_filled)"
   ]
  },
  {
   "cell_type": "code",
   "execution_count": 9,
   "id": "ade81d9b",
   "metadata": {},
   "outputs": [
    {
     "name": "stdout",
     "output_type": "stream",
     "text": [
      "   이름    나이    직업\n",
      "0  철수  25.0    학생\n",
      "1  영희  30.0   회사원\n",
      "2  민수  30.0    학생\n",
      "3  지수  35.0  None\n"
     ]
    }
   ],
   "source": [
    "df['나이'] = df['나이'].fillna(df['나이'].mean())  # '나이' 열의 결측치를 평균값으로 대체\n",
    "print(df)"
   ]
  },
  {
   "cell_type": "markdown",
   "id": "39b8c665",
   "metadata": {},
   "source": [
    "다. 결측치 보간(Interpolation)  \n",
    "interpolate() 함수를 사용하여 결측치를 주변 값들을 기반으로 보간할 수 있어 시간 데이터를 다룰 때 유용하다. 선형보간법은 앞뒤 데이터 포인트의 값을 이용해 직선으로 연결하여 그 사이의 값을 예측한다."
   ]
  },
  {
   "cell_type": "code",
   "execution_count": 10,
   "id": "425958de",
   "metadata": {},
   "outputs": [
    {
     "name": "stdout",
     "output_type": "stream",
     "text": [
      "          날짜    온도\n",
      "0 2023-01-01  20.0\n",
      "1 2023-01-02  22.0\n",
      "2 2023-01-03  23.0\n",
      "3 2023-01-04  24.0\n",
      "4 2023-01-05  25.0\n"
     ]
    }
   ],
   "source": [
    "data = {\n",
    "    '날짜': pd.date_range('2023-01-01', periods=5),\n",
    "    '온도': [20, 22, None, 24, 25]\n",
    "}\n",
    "df2 = pd.DataFrame(data)\n",
    "\n",
    "# 선형 보간법으로 결측치 채우기 \n",
    "df2['온도'] = df2['온도'].interpolate() \n",
    "print(df2) "
   ]
  },
  {
   "cell_type": "code",
   "execution_count": 11,
   "id": "50a82b89",
   "metadata": {},
   "outputs": [
    {
     "name": "stdout",
     "output_type": "stream",
     "text": [
      "   이름    나이    직업\n",
      "0  철수  25.0    학생\n",
      "1  영희  30.0   회사원\n",
      "2  민수  30.0    학생\n",
      "3  지수  35.0  None\n"
     ]
    }
   ],
   "source": [
    "# '직업'이 '학생'인 경우 '나이'를 20으로 채우기\n",
    "df.loc[(df['직업'] == '학생') & (df['나이'].isna()), '나이'] = 20\n",
    "print(df) "
   ]
  },
  {
   "cell_type": "code",
   "execution_count": 12,
   "id": "12ad775c",
   "metadata": {},
   "outputs": [
    {
     "name": "stdout",
     "output_type": "stream",
     "text": [
      "   이름    나이    직업\n",
      "0  철수  25.0    학생\n",
      "1  영희  30.0   회사원\n",
      "2  민수  30.0    학생\n",
      "3  지수  35.0  None\n"
     ]
    }
   ],
   "source": [
    "# 예시: '나이'가 결측치일 경우, 기본값으로 18을 채우는 함수\n",
    "def fill_missing_age(x):\n",
    "    if pd.isna(x):  # 값이 결측값(NaN)인지 확인\n",
    "        return 18  # 결측값일 경우 18로 대체\n",
    "    return x  # 결측값이 아니면 원래 값을 반환\n",
    "#결측값을 fill_missing_age 함수로 처리\n",
    "df['나이'] = df['나이'].apply(fill_missing_age)  \n",
    "print(df)"
   ]
  },
  {
   "cell_type": "markdown",
   "id": "70d32871",
   "metadata": {},
   "source": [
    "2. 데이터 전처리: 이상치 탐지 및 처리  \n",
    "이상치(outlier)는 데이터의 일반적인 패턴에서 극단적으로 다르거나 떨어져 있는 값으로 분석 결과에 큰 영향을 줄 수 있다. 탐지 방법으로는 기술 통계량 확인, 시각화(박스플롯, 히스토그램), IQR(사분위수 범위)을 활용한 방법 등이 있다.   \n",
    "기술 통계 기반으로는 describe() 함수로 데이터의 기본 통계량을 확인하고, 이상치를 의심할 수 있다. 시각화 기법인 박스플롯과 히스토그램을 통해 데이터의 분포를 확인하여 이상치를 탐지할 수 있다. IQR을 이용해 1사분위수(Q1)와 3사분위수(Q3)의 차이로 이상치를 판단하고, 이 범위를 벗어나는 데이터를 이상치로 간주할 수 있다. 처리 방법으로는 이상치 제거, 특정 값으로 대체, 또는 로그를 사용하는 방법이 있다."
   ]
  },
  {
   "cell_type": "markdown",
   "id": "21039651",
   "metadata": {},
   "source": [
    "가. 기술 통계 기반 이상치 탐지  \n",
    "describe() 함수를 사용하여 데이터의 기본 통계량을 확인하고, 이상치를 의심할 수 있음"
   ]
  },
  {
   "cell_type": "code",
   "execution_count": 4,
   "id": "c64c3886",
   "metadata": {},
   "outputs": [
    {
     "name": "stdout",
     "output_type": "stream",
     "text": [
      "count      5.000000\n",
      "mean      46.400000\n",
      "std       41.440319\n",
      "min       22.000000\n",
      "25%       25.000000\n",
      "50%       30.000000\n",
      "75%       35.000000\n",
      "max      120.000000\n",
      "Name: 나이, dtype: float64\n"
     ]
    }
   ],
   "source": [
    "import pandas as pd\n",
    "data = {\n",
    "    '이름': ['철수', '영희', '민수', '지수', '상수'],\n",
    "    '나이': [25, 30, 22, 35, 120],  # 120은 이상치로 의심됨\n",
    "    '점수': [90, 85, 95, 80, 88]\n",
    "}\n",
    "df = pd.DataFrame(data)\n",
    "\n",
    "print(df['나이'].describe()) "
   ]
  },
  {
   "cell_type": "markdown",
   "id": "a17c96e5",
   "metadata": {},
   "source": [
    "나. 시각화를 사용한 이상치 탐지  \n",
    "박스플롯(Box Plot)과 히스토그램을 사용하면 데이터의 분포를 시각적으로 확인할 수 있음"
   ]
  },
  {
   "cell_type": "code",
   "execution_count": 2,
   "id": "2a60b86f",
   "metadata": {},
   "outputs": [
    {
     "name": "stderr",
     "output_type": "stream",
     "text": [
      "c:\\Users\\USER\\anaconda3\\envs\\maricecil\\Lib\\site-packages\\IPython\\core\\pylabtools.py:170: UserWarning: Glyph 45208 (\\N{HANGUL SYLLABLE NA}) missing from font(s) DejaVu Sans.\n",
      "  fig.canvas.print_figure(bytes_io, **kw)\n",
      "c:\\Users\\USER\\anaconda3\\envs\\maricecil\\Lib\\site-packages\\IPython\\core\\pylabtools.py:170: UserWarning: Glyph 51060 (\\N{HANGUL SYLLABLE I}) missing from font(s) DejaVu Sans.\n",
      "  fig.canvas.print_figure(bytes_io, **kw)\n",
      "c:\\Users\\USER\\anaconda3\\envs\\maricecil\\Lib\\site-packages\\IPython\\core\\pylabtools.py:170: UserWarning: Glyph 51032 (\\N{HANGUL SYLLABLE YI}) missing from font(s) DejaVu Sans.\n",
      "  fig.canvas.print_figure(bytes_io, **kw)\n",
      "c:\\Users\\USER\\anaconda3\\envs\\maricecil\\Lib\\site-packages\\IPython\\core\\pylabtools.py:170: UserWarning: Glyph 48149 (\\N{HANGUL SYLLABLE BAG}) missing from font(s) DejaVu Sans.\n",
      "  fig.canvas.print_figure(bytes_io, **kw)\n",
      "c:\\Users\\USER\\anaconda3\\envs\\maricecil\\Lib\\site-packages\\IPython\\core\\pylabtools.py:170: UserWarning: Glyph 49828 (\\N{HANGUL SYLLABLE SEU}) missing from font(s) DejaVu Sans.\n",
      "  fig.canvas.print_figure(bytes_io, **kw)\n",
      "c:\\Users\\USER\\anaconda3\\envs\\maricecil\\Lib\\site-packages\\IPython\\core\\pylabtools.py:170: UserWarning: Glyph 54540 (\\N{HANGUL SYLLABLE PEUL}) missing from font(s) DejaVu Sans.\n",
      "  fig.canvas.print_figure(bytes_io, **kw)\n",
      "c:\\Users\\USER\\anaconda3\\envs\\maricecil\\Lib\\site-packages\\IPython\\core\\pylabtools.py:170: UserWarning: Glyph 47215 (\\N{HANGUL SYLLABLE ROS}) missing from font(s) DejaVu Sans.\n",
      "  fig.canvas.print_figure(bytes_io, **kw)\n"
     ]
    },
    {
     "data": {
      "image/png": "[encoded data removed]",
      "text/plain": [
       "<Figure size 640x480 with 1 Axes>"
      ]
     },
     "metadata": {},
     "output_type": "display_data"
    }
   ],
   "source": [
    "import matplotlib.pyplot as plt\n",
    "\n",
    "# 박스플롯으로 이상치 시각화\n",
    "plt.boxplot(df['나이'])\n",
    "plt.title('나이의 박스플롯')\n",
    "plt.show()"
   ]
  },
  {
   "cell_type": "markdown",
   "id": "46ba16d2",
   "metadata": {},
   "source": [
    "다. IQR(Interquartile Range)을 사용한 이상치 탐지  \n",
    "IQR은 1사분위수(Q1)와 3사분위수(Q3)의 차이로, 이 범위를 벗어나는 데이터를 이상치로 간주할 수 있다. 1.5 * IQR보다 작거나 큰 값들을 이상값으로 간주한다."
   ]
  },
  {
   "cell_type": "code",
   "execution_count": 6,
   "id": "91a85cb3",
   "metadata": {},
   "outputs": [
    {
     "name": "stdout",
     "output_type": "stream",
     "text": [
      "   이름   나이  점수\n",
      "4  상수  120  88\n"
     ]
    }
   ],
   "source": [
    "# quantile()는 백분위수로 0에서 1 사이의 비율을 나타냄. 괄호 안의 숫자는 해당 비율 위치에 있는 값을 의미하므로 하위 25%, 하위 75% 지점의 값을 반환함  \n",
    "# 사분위수는 4개 구간으로 나눈 값을 의미함(0.25, 0.5, 0.75)\n",
    "\n",
    "Q1 = df['나이'].quantile(0.25)  # 1사분위수 계산\n",
    "Q3 = df['나이'].quantile(0.75)  # 3사분위수 계산\n",
    "IQR = Q3 - Q1  # IQR 계산\n",
    "\n",
    "lower_bound = Q1 - 1.5 * IQR  # 이상값 하한\n",
    "upper_bound = Q3 + 1.5 * IQR  # 이상값 상한\n",
    "\n",
    "outliers = df[(df['나이'] < lower_bound) | (df['나이'] > upper_bound)]  # 이상값 탐지\n",
    "print(outliers)"
   ]
  },
  {
   "cell_type": "markdown",
   "id": "a876e4b3",
   "metadata": {},
   "source": [
    "3. 이상치 처리방법  \n",
    "제거, 대체, 데이터 변환, 모델 기반 처리와 같은 방법으로 이상값을 처리할 수 있음"
   ]
  },
  {
   "cell_type": "markdown",
   "id": "62302272",
   "metadata": {},
   "source": [
    "가. 이상치 제거  \n",
    "이상값을 데이터에서 제거하여 분석의 정확성을 높일 수 있지만, 중요한 정보를 가진 이상값일 경우 제거하지 않는 것이 좋다."
   ]
  },
  {
   "cell_type": "code",
   "execution_count": 7,
   "id": "85ccd753",
   "metadata": {},
   "outputs": [
    {
     "name": "stdout",
     "output_type": "stream",
     "text": [
      "   이름  나이  점수\n",
      "0  철수  25  90\n",
      "1  영희  30  85\n",
      "2  민수  22  95\n",
      "3  지수  35  80\n"
     ]
    }
   ],
   "source": [
    "# 이상치를 제거한 데이터프레임\n",
    "df_without_outliers = df[(df['나이'] >= lower_bound) & (df['나이'] <= upper_bound)]\n",
    "print(df_without_outliers)"
   ]
  },
  {
   "cell_type": "markdown",
   "id": "b02c6d36",
   "metadata": {},
   "source": [
    "나. 이상치를 특정 값으로 대체  \n",
    "이상값을 데이터셋에서 제거하는 대신, 평균, 중앙값, 특정 값 등으로 대체할 수 있음"
   ]
  },
  {
   "cell_type": "code",
   "execution_count": 8,
   "id": "43dd9a40",
   "metadata": {},
   "outputs": [
    {
     "name": "stdout",
     "output_type": "stream",
     "text": [
      "   이름    나이  점수\n",
      "0  철수  25.0  90\n",
      "1  영희  30.0  85\n",
      "2  민수  22.0  95\n",
      "3  지수  35.0  80\n",
      "4  상수  30.0  88\n"
     ]
    }
   ],
   "source": [
    "# '나이'의 중앙값으로 이상치 대체\n",
    "median_age = df['나이'].median()\n",
    "df['나이'] = df['나이'].apply(lambda x: median_age if x > upper_bound or x < lower_bound else x)\n",
    "print(df)"
   ]
  },
  {
   "cell_type": "markdown",
   "id": "8b13be33",
   "metadata": {},
   "source": [
    "다. 로그변환  \n",
    "값의 범위를 압축하여 큰 값의 영향을 감소시키고, 데이터의 왜곡을 줄이는 데 효과적임"
   ]
  },
  {
   "cell_type": "code",
   "execution_count": null,
   "id": "71287b9f",
   "metadata": {},
   "outputs": [
    {
     "name": "stdout",
     "output_type": "stream",
     "text": [
      "   이름    나이  점수   Log_Age\n",
      "0  철수  25.0  90  3.218876\n",
      "1  영희  30.0  85  3.401197\n",
      "2  민수  22.0  95  3.091042\n",
      "3  지수  35.0  80  3.555348\n",
      "4  상수  30.0  88  3.401197\n"
     ]
    }
   ],
   "source": [
    "import numpy as np\n",
    "\n",
    "# 'Age' 열에 로그 변환 적용 (자연 로그)\n",
    "df['Log_Age'] = np.log(df['나이'])  # 자연 로그 사용\n",
    "# 또는 상용 로그를 사용하려면 np.log10(df['나이'])를 사용\n",
    "print(df)"
   ]
  }
 ],
 "metadata": {
  "kernelspec": {
   "display_name": "maricecil",
   "language": "python",
   "name": "python3"
  },
  "language_info": {
   "codemirror_mode": {
    "name": "ipython",
    "version": 3
   },
   "file_extension": ".py",
   "mimetype": "text/x-python",
   "name": "python",
   "nbconvert_exporter": "python",
   "pygments_lexer": "ipython3",
   "version": "3.12.5"
  }
 },
 "nbformat": 4,
 "nbformat_minor": 5
}
