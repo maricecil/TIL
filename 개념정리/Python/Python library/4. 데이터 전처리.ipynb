{
 "cells": [
  {
   "cell_type": "markdown",
   "id": "1d073087",
   "metadata": {},
   "source": [
    "1. isna()와 isnull()로 결측치 탐지  \n",
    "isna()와 isnull() 함수는 데이터프레임의 각 요소가 결측치인지 여부를 확인한다. 두 함수는 동일한 기능을 한다.  \n",
    "(1)isna(), isnull(): 결측값인 경우 True, 아닌 경우 False를 반환함  \n",
    "(2)notna(), notnull(): 결측값인 경우 False, 아닌 경우 True를 반환함"
   ]
  },
  {
   "cell_type": "code",
   "execution_count": 1,
   "id": "6d5549bf",
   "metadata": {},
   "outputs": [
    {
     "name": "stdout",
     "output_type": "stream",
     "text": [
      "      이름     나이     직업\n",
      "0  False  False  False\n",
      "1  False  False  False\n",
      "2  False   True  False\n",
      "3  False  False   True\n"
     ]
    }
   ],
   "source": [
    "import pandas as pd\n",
    "data = {\n",
    "    '이름': ['철수', '영희', '민수', '지수'],\n",
    "    '나이': [25, 30, None, 35],\n",
    "    '직업': ['학생', '회사원', '학생', None]\n",
    "}\n",
    "df = pd.DataFrame(data)\n",
    "print(df.isna()) "
   ]
  },
  {
   "cell_type": "code",
   "execution_count": 4,
   "id": "2ac83c6b",
   "metadata": {},
   "outputs": [
    {
     "name": "stdout",
     "output_type": "stream",
     "text": [
      "이름    0\n",
      "나이    1\n",
      "직업    1\n",
      "dtype: int64\n"
     ]
    }
   ],
   "source": [
    "# 결측치의 총 개수를 확인하려면 isna() 또는 isnull()과 sum()을 조합해 사용함\n",
    "print(df.isna().sum())  "
   ]
  },
  {
   "cell_type": "markdown",
   "id": "35d54980",
   "metadata": {},
   "source": [
    "가. 결측치 제거  \n",
    "(1) dropna() 함수를 사용결측치가 포함된 행이나 열을 삭제함  \n",
    "(2) dropna(axis=0): 결측값이 있는 행을 제거함  \n",
    "(3) dropna(axis=1): 결측값이 있는 열을 제거함  \n",
    "(4) how: 'any' 또는 'all'로 설정하여 일부 또는 모든 값이 결측값인 경우에만 제거함  "
   ]
  },
  {
   "cell_type": "code",
   "execution_count": 5,
   "id": "7e1f6a31",
   "metadata": {},
   "outputs": [
    {
     "name": "stdout",
     "output_type": "stream",
     "text": [
      "   이름    나이   직업\n",
      "0  철수  25.0   학생\n",
      "1  영희  30.0  회사원\n"
     ]
    }
   ],
   "source": [
    "df_dropped_rows = df.dropna()  # 결측치가 있는 행 제거\n",
    "print(df_dropped_rows) "
   ]
  },
  {
   "cell_type": "code",
   "execution_count": null,
   "id": "beb48c23",
   "metadata": {},
   "outputs": [
    {
     "name": "stdout",
     "output_type": "stream",
     "text": [
      "   이름\n",
      "0  철수\n",
      "1  영희\n",
      "2  민수\n",
      "3  지수\n"
     ]
    }
   ],
   "source": [
    "df_dropped_columns = df.dropna(axis=1)  # 결측치가 있는 열 제거\n",
    "print(df_dropped_columns)"
   ]
  },
  {
   "cell_type": "markdown",
   "id": "1a47d042",
   "metadata": {},
   "source": [
    "나. 결측치 대체(채우기)  \n",
    "fillna() 함수를 사용하여 결측치를 특정 값으로 대체할 수 있다. 대체할 값은 평균, 중앙값, 최빈값 등 다양한 방식으로 설정할 수 있다."
   ]
  },
  {
   "cell_type": "code",
   "execution_count": 7,
   "id": "a7e23863",
   "metadata": {},
   "outputs": [
    {
     "name": "stdout",
     "output_type": "stream",
     "text": [
      "   이름    나이   직업\n",
      "0  철수  25.0   학생\n",
      "1  영희  30.0  회사원\n",
      "2  민수    없음   학생\n",
      "3  지수  35.0   없음\n"
     ]
    }
   ],
   "source": [
    "df_filled = df.fillna('없음')  # 결측치를 '없음'으로 대체\n",
    "print(df_filled)"
   ]
  },
  {
   "cell_type": "code",
   "execution_count": 9,
   "id": "ade81d9b",
   "metadata": {},
   "outputs": [
    {
     "name": "stdout",
     "output_type": "stream",
     "text": [
      "   이름    나이    직업\n",
      "0  철수  25.0    학생\n",
      "1  영희  30.0   회사원\n",
      "2  민수  30.0    학생\n",
      "3  지수  35.0  None\n"
     ]
    }
   ],
   "source": [
    "df['나이'] = df['나이'].fillna(df['나이'].mean())  # '나이' 열의 결측치를 평균값으로 대체\n",
    "print(df)"
   ]
  },
  {
   "cell_type": "markdown",
   "id": "39b8c665",
   "metadata": {},
   "source": [
    "다. 결측치 보간(Interpolation)  \n",
    "interpolate() 함수를 사용하여 결측치를 주변 값들을 기반으로 보간할 수 있어 시간 데이터를 다룰 때 유용하다. 선형보간법은 앞뒤 데이터 포인트의 값을 이용해 직선으로 연결하여 그 사이의 값을 예측한다."
   ]
  },
  {
   "cell_type": "code",
   "execution_count": 10,
   "id": "425958de",
   "metadata": {},
   "outputs": [
    {
     "name": "stdout",
     "output_type": "stream",
     "text": [
      "          날짜    온도\n",
      "0 2023-01-01  20.0\n",
      "1 2023-01-02  22.0\n",
      "2 2023-01-03  23.0\n",
      "3 2023-01-04  24.0\n",
      "4 2023-01-05  25.0\n"
     ]
    }
   ],
   "source": [
    "data = {\n",
    "    '날짜': pd.date_range('2023-01-01', periods=5),\n",
    "    '온도': [20, 22, None, 24, 25]\n",
    "}\n",
    "df2 = pd.DataFrame(data)\n",
    "\n",
    "# 선형 보간법으로 결측치 채우기 \n",
    "df2['온도'] = df2['온도'].interpolate() \n",
    "print(df2) "
   ]
  },
  {
   "cell_type": "code",
   "execution_count": 11,
   "id": "50a82b89",
   "metadata": {},
   "outputs": [
    {
     "name": "stdout",
     "output_type": "stream",
     "text": [
      "   이름    나이    직업\n",
      "0  철수  25.0    학생\n",
      "1  영희  30.0   회사원\n",
      "2  민수  30.0    학생\n",
      "3  지수  35.0  None\n"
     ]
    }
   ],
   "source": [
    "# '직업'이 '학생'인 경우 '나이'를 20으로 채우기\n",
    "df.loc[(df['직업'] == '학생') & (df['나이'].isna()), '나이'] = 20\n",
    "print(df) "
   ]
  },
  {
   "cell_type": "code",
   "execution_count": 12,
   "id": "12ad775c",
   "metadata": {},
   "outputs": [
    {
     "name": "stdout",
     "output_type": "stream",
     "text": [
      "   이름    나이    직업\n",
      "0  철수  25.0    학생\n",
      "1  영희  30.0   회사원\n",
      "2  민수  30.0    학생\n",
      "3  지수  35.0  None\n"
     ]
    }
   ],
   "source": [
    "# 예시: '나이'가 결측치일 경우, 기본값으로 18을 채우는 함수\n",
    "def fill_missing_age(x):\n",
    "    if pd.isna(x):  # 값이 결측값(NaN)인지 확인\n",
    "        return 18  # 결측값일 경우 18로 대체\n",
    "    return x  # 결측값이 아니면 원래 값을 반환\n",
    "#결측값을 fill_missing_age 함수로 처리\n",
    "df['나이'] = df['나이'].apply(fill_missing_age)  \n",
    "print(df)"
   ]
  }
 ],
 "metadata": {
  "kernelspec": {
   "display_name": "maricecil",
   "language": "python",
   "name": "python3"
  },
  "language_info": {
   "codemirror_mode": {
    "name": "ipython",
    "version": 3
   },
   "file_extension": ".py",
   "mimetype": "text/x-python",
   "name": "python",
   "nbconvert_exporter": "python",
   "pygments_lexer": "ipython3",
   "version": "3.12.5"
  }
 },
 "nbformat": 4,
 "nbformat_minor": 5
}
