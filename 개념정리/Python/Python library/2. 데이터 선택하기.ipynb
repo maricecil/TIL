{
 "cells": [
  {
   "cell_type": "markdown",
   "id": "1d073087",
   "metadata": {},
   "source": [
    "1. 판다스에서의 인덱스 사용법  \n",
    "데이터프레임에서 인덱스는 각 행을 고유하게 식별할 수 있는 라벨로, 특정 행이나 그룹을 쉽게 선택할 수 있다. 특정 열을 인덱스로 설정하면 데이터 선택이 더욱 직관적이다. 단일 열 선택은 열 이름을 사용하여 가능하다. 행 선택을 위해 iloc[]을 사용하면 정수 인덱스로 행을 선택할 수 있으며, 'loc[]'을 사용하면 인덱스 라벨로 특정 행을 선택할 수 있다. 여러 행을 선택하거나 부분적으로 선택하는 것도 가능하다. "
   ]
  },
  {
   "cell_type": "code",
   "execution_count": null,
   "id": "6d5549bf",
   "metadata": {},
   "outputs": [
    {
     "name": "stdout",
     "output_type": "stream",
     "text": [
      "    나이    직업\n",
      "이름          \n",
      "철수  25    학생\n",
      "영희  30   회사원\n",
      "민수  35  프리랜서\n",
      "이름\n",
      "철수    25\n",
      "영희    30\n",
      "민수    35\n",
      "Name: 나이, dtype: int64\n",
      "    나이    직업\n",
      "이름          \n",
      "철수  25    학생\n",
      "영희  30   회사원\n",
      "민수  35  프리랜서\n",
      "나이     30\n",
      "직업    회사원\n",
      "Name: 영희, dtype: object\n",
      "나이    25\n",
      "직업    학생\n",
      "Name: 철수, dtype: object\n"
     ]
    }
   ],
   "source": [
    "#둘 이상의 열을 인덱스로 설정함  # reset_index() 함수로 재설정 가능\n",
    "import pandas as pd\n",
    "data = {\n",
    "    '이름': ['철수', '영희', '민수'],\n",
    "    '나이': [25, 30, 35],\n",
    "    '직업': ['학생', '회사원', '프리랜서']\n",
    "}\n",
    "df = pd.DataFrame(data)\n",
    "\n",
    "df = df.set_index('이름')  # '이름' 열을 인덱스로 설정\n",
    "print(df)\n",
    "\n",
    "# '나이' 열 선택\n",
    "print(df['나이'])\n",
    "\n",
    "# 여러 열 선택\n",
    "print(df[['나이', '직업']])\n",
    "\n",
    "# 라벨 값을 기반으로한 특정 행 선택\n",
    "print(df.loc['영희'])\n",
    "\n",
    "# 정수 값을 기반으로한 특정 행 선택\n",
    "print(df.iloc[0])   # 첫 번째 행 지정"
   ]
  },
  {
   "cell_type": "code",
   "execution_count": null,
   "id": "2ac83c6b",
   "metadata": {},
   "outputs": [
    {
     "name": "stdout",
     "output_type": "stream",
     "text": [
      "      Name  Age         City  Salary\n",
      "0    Alice   25     New York   70000\n",
      "1      Bob   30  Los Angeles   80000\n",
      "2  Charlie   35      Chicago  120000\n",
      "3    David   40      Houston   90000\n",
      "4      Eve   45      Phoenix   95000\n",
      "    Name         City\n",
      "1    Bob  Los Angeles\n",
      "3  David      Houston\n",
      "4    Eve      Phoenix\n"
     ]
    }
   ],
   "source": [
    "import pandas as pd # 여러 행 선택하기\n",
    "data = {\n",
    "    'Name': ['Alice', 'Bob', 'Charlie', 'David', 'Eve'],\n",
    "    'Age': [25, 30, 35, 40, 45],\n",
    "    'City': ['New York', 'Los Angeles', 'Chicago', 'Houston', 'Phoenix'],\n",
    "    'Salary': [70000, 80000, 120000, 90000, 95000]\n",
    "}\n",
    "df = pd.DataFrame(data)\n",
    "print(df) \n",
    "\n",
    "selected_data = df.iloc[[1, 3, 4], [0, 2]]  # 1, 3, 4번 행과 0, 2번 열 선택\n",
    "print(selected_data) "
   ]
  }
 ],
 "metadata": {
  "kernelspec": {
   "display_name": "maricecil",
   "language": "python",
   "name": "python3"
  },
  "language_info": {
   "codemirror_mode": {
    "name": "ipython",
    "version": 3
   },
   "file_extension": ".py",
   "mimetype": "text/x-python",
   "name": "python",
   "nbconvert_exporter": "python",
   "pygments_lexer": "ipython3",
   "version": "3.12.5"
  }
 },
 "nbformat": 4,
 "nbformat_minor": 5
}
