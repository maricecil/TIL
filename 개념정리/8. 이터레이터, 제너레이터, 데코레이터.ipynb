{
 "cells": [
  {
   "cell_type": "markdown",
   "id": "1d073087",
   "metadata": {},
   "source": [
    "1. 이터레이터(Iterator)  \n",
    "연속적인 데이터를 한 번에 하나씩 처리할 수 있게 해주는 객체로, __iter__()와 __next__() 메서드를 통해 동작한다.  __iter__()는 이터레이터를 반환하고, __next__()는 다음 요소를 반환한다. 더 이상 반환할 요소가 없으면 StopIteration 예외가 발생한다."
   ]
  },
  {
   "cell_type": "code",
   "execution_count": 5,
   "id": "4c1d76f1",
   "metadata": {},
   "outputs": [
    {
     "name": "stdout",
     "output_type": "stream",
     "text": [
      "h\n",
      "i\n",
      "1\n",
      "2\n",
      "3\n"
     ]
    }
   ],
   "source": [
    "my_string = \"hi\"  # my_string은 iterable 객체로, 각 문자를 하나씩 처리함\n",
    "\n",
    "for char in my_string:\n",
    "    print(char)\n",
    "\n",
    "my_list = [1, 2, 3]\n",
    "my_iter = iter(my_list)  # 리스트로부터 이터레이터 생성\n",
    "\n",
    "print(next(my_iter))\n",
    "print(next(my_iter))\n",
    "print(next(my_iter))"
   ]
  },
  {
   "cell_type": "markdown",
   "id": "41d3e7b6",
   "metadata": {},
   "source": [
    "2. 제너레이터(Generator)   \n",
    "이터레이터의 한 종류로, yield 키워드를 사용한다. return은 값을 반환하고 종료되지만 yield는 값을 반환한 후 상태를 유지하고, 다시 호출되면 이어서 작업을 진행한다. 따라서 메모리 효율성이 높고, 큰 데이터셋을 처리할 때 유용하다."
   ]
  },
  {
   "cell_type": "code",
   "execution_count": 7,
   "id": "b07b64a3",
   "metadata": {},
   "outputs": [
    {
     "name": "stdout",
     "output_type": "stream",
     "text": [
      "1\n",
      "2\n",
      "3\n",
      "0\n",
      "2\n",
      "4\n"
     ]
    }
   ],
   "source": [
    "def count_up_to(max_num):\n",
    "    num = 1\n",
    "    while num <= max_num:\n",
    "        yield num  # yield로 값을 반환하면서 상태를 저장\n",
    "        num += 1\n",
    "\n",
    "counter = count_up_to(3)\n",
    "\n",
    "print(next(counter))  \n",
    "print(next(counter))  \n",
    "print(next(counter)) \n",
    "\n",
    "def even_numbers(n):\n",
    "    for i in range(n):\n",
    "        if i % 2 == 0:\n",
    "            yield i\n",
    "\n",
    "evens = even_numbers(6)  # 0부터 5까지 짝수를 생성\n",
    "\n",
    "for num in evens:\n",
    "    print(num)"
   ]
  },
  {
   "cell_type": "markdown",
   "id": "2586b612",
   "metadata": {},
   "source": [
    "3. 데코레이터(Decorator)  \n",
    "함수나 메서드를 변경하지 않고, 그 함수의 전후에 코드를 실행하는 방법을 제공한다. 보통 함수나 메서드에 추가적인 기능을 주고 싶을 때 사용한다. 이를 통해 함수의 동작을 수정하거나, 로깅, 권한 확인 등의 작업을 쉽게 추가할 수 있다."
   ]
  },
  {
   "cell_type": "code",
   "execution_count": 9,
   "id": "ec56b68b",
   "metadata": {},
   "outputs": [
    {
     "name": "stdout",
     "output_type": "stream",
     "text": [
      "함수가 실행되기 전입니다.\n",
      "안녕하세요!\n",
      "함수가 실행된 후입니다.\n",
      "함수 slow_function 시작합니다.\n",
      "함수가 실행 중입니다.\n",
      "함수 slow_function 종료. 실행 시간: 2.0006초\n"
     ]
    }
   ],
   "source": [
    "def my_decorator(func):\n",
    "    def wrapper():\n",
    "        print(\"함수가 실행되기 전입니다.\")\n",
    "        func()\n",
    "        print(\"함수가 실행된 후입니다.\")\n",
    "    return wrapper\n",
    "\n",
    "@my_decorator  # 데코레이터 적용\n",
    "def say_hello():\n",
    "    print(\"안녕하세요!\")\n",
    "\n",
    "say_hello()\n",
    "\n",
    "\n",
    "import time\n",
    "\n",
    "def log_decorator(func):\n",
    "    def wrapper(*args, **kwargs):\n",
    "        start_time = time.time()  # 시작 시간 기록\n",
    "        print(f\"함수 {func.__name__} 시작합니다.\")   \n",
    "        result = func(*args, **kwargs)\n",
    "        end_time = time.time()  # 종료 시간 기록\n",
    "        print(f\"함수 {func.__name__} 종료. 실행 시간: {end_time - start_time:.4f}초\")\n",
    "        return result\n",
    "    return wrapper\n",
    "\n",
    "@log_decorator\n",
    "def slow_function():\n",
    "    time.sleep(2)  # 2초 동안 멈춤 (가상으로 시간이 오래 걸리는 함수)\n",
    "    print(\"함수가 실행 중입니다.\")  \n",
    "\n",
    "slow_function()"
   ]
  },
  {
   "cell_type": "markdown",
   "id": "589ebeea",
   "metadata": {},
   "source": [
    "4. 컨텍스트 매니저(Context Manager)  \n",
    "특정 리소스를 열고 닫는 과정을 자동으로 처리해 주는 도구로, 파일이나 데이터베이스 연결 같은 리소스를 열 때 with 문과 함께 사용되며, 자동으로 리소스를 정리한다. Python에서는 **__enter__()**와 __exit__() 메서드를 구현하여 직접 컨텍스트 매니저를 만들 수 있다."
   ]
  },
  {
   "cell_type": "code",
   "execution_count": null,
   "id": "907c84a0",
   "metadata": {},
   "outputs": [
    {
     "name": "stdout",
     "output_type": "stream",
     "text": [
      "컨텍스트 매니저로 파일을 처리합니다.\n",
      "\n"
     ]
    }
   ],
   "source": [
    "class FileManager:  \n",
    "    def __init__(self, filename, mode):  # 클래스 초기화\n",
    "        self.filename = filename  # 파일명 저장\n",
    "        self.mode = mode  # 모드 저장\n",
    "\n",
    "    def __enter__(self):  #__enter__은 with블록이 시작할 때 자동으로 호출\n",
    "        self.file = open(self.filename, self.mode)\n",
    "        return self.file\n",
    "\n",
    "    def __exit__(self, exc_type, exc_value, traceback): #__exit__는 with블록이 끝날 때 자동으로 호출\n",
    "        self.file.close()  # 블록을 벗어날 때 자동으로 닫아줌\n",
    "        if exc_type is not None:  # 예외 확인\n",
    "            print(\"파일 처리 중 예외가 발생했습니다.\")\n",
    "        return True  # 예외 발생 후에도 프로그램이 계속 실행됨\n",
    "\n",
    "# 컨텍스트 매니저로 파일 처리\n",
    "with FileManager(\"example.txt\", \"w\") as f: # 쓰기 작업\n",
    "    f.write(\"컨텍스트 매니저로 파일을 처리합니다.\\n\")\n",
    "\n",
    "with FileManager(\"example.txt\", \"r\") as f: # 읽기 모드로 열기\n",
    "    content = f.read()\n",
    "    print(content)"
   ]
  }
 ],
 "metadata": {
  "kernelspec": {
   "display_name": "maricecil",
   "language": "python",
   "name": "python3"
  },
  "language_info": {
   "codemirror_mode": {
    "name": "ipython",
    "version": 3
   },
   "file_extension": ".py",
   "mimetype": "text/x-python",
   "name": "python",
   "nbconvert_exporter": "python",
   "pygments_lexer": "ipython3",
   "version": "3.12.5"
  }
 },
 "nbformat": 4,
 "nbformat_minor": 5
}
