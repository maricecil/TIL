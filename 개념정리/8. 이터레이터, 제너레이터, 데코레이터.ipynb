{
 "cells": [
  {
   "cell_type": "markdown",
   "id": "1d073087",
   "metadata": {},
   "source": [
    "1. 이터레이터(Iterator)  \n",
    "연속적인 데이터를 한 번에 하나씩 처리할 수 있게 해주는 객체로, __iter__()와 __next__() 메서드를 통해 동작한다.  __iter__()는 이터레이터를 반환하고, __next__()는 다음 요소를 반환한다. 더 이상 반환할 요소가 없으면 StopIteration 예외가 발생한다."
   ]
  },
  {
   "cell_type": "code",
   "execution_count": 5,
   "id": "4c1d76f1",
   "metadata": {},
   "outputs": [
    {
     "name": "stdout",
     "output_type": "stream",
     "text": [
      "h\n",
      "i\n",
      "1\n",
      "2\n",
      "3\n"
     ]
    }
   ],
   "source": [
    "my_string = \"hi\"  # my_string은 iterable 객체로, 각 문자를 하나씩 처리함\n",
    "\n",
    "for char in my_string:\n",
    "    print(char)\n",
    "\n",
    "my_list = [1, 2, 3]\n",
    "my_iter = iter(my_list)  # 리스트로부터 이터레이터 생성\n",
    "\n",
    "print(next(my_iter))\n",
    "print(next(my_iter))\n",
    "print(next(my_iter))"
   ]
  },
  {
   "cell_type": "markdown",
   "id": "41d3e7b6",
   "metadata": {},
   "source": [
    "2. 제너레이터(Generator)   \n",
    "이터레이터의 한 종류로, yield 키워드를 사용한다. return은 값을 반환하고 종료되지만 yield는 값을 반환한 후 상태를 유지하고, 다시 호출되면 이어서 작업을 진행한다. 따라서 메모리 효율성이 높고, 큰 데이터셋을 처리할 때 유용하다."
   ]
  },
  {
   "cell_type": "code",
   "execution_count": 7,
   "id": "b07b64a3",
   "metadata": {},
   "outputs": [
    {
     "name": "stdout",
     "output_type": "stream",
     "text": [
      "1\n",
      "2\n",
      "3\n",
      "0\n",
      "2\n",
      "4\n"
     ]
    }
   ],
   "source": [
    "def count_up_to(max_num):\n",
    "    num = 1\n",
    "    while num <= max_num:\n",
    "        yield num  # yield로 값을 반환하면서 상태를 저장\n",
    "        num += 1\n",
    "\n",
    "counter = count_up_to(3)\n",
    "\n",
    "print(next(counter))  \n",
    "print(next(counter))  \n",
    "print(next(counter)) \n",
    "\n",
    "def even_numbers(n):\n",
    "    for i in range(n):\n",
    "        if i % 2 == 0:\n",
    "            yield i\n",
    "\n",
    "evens = even_numbers(6)  # 0부터 5까지 짝수를 생성\n",
    "\n",
    "for num in evens:\n",
    "    print(num)"
   ]
  },
  {
   "cell_type": "markdown",
   "id": "2586b612",
   "metadata": {},
   "source": [
    "3. 데코레이터(Decorator)  \n",
    "함수나 메서드를 변경하지 않고, 그 함수의 전후에 코드를 실행하는 방법을 제공한다. 보통 함수나 메서드에 추가적인 기능을 주고 싶을 때 사용한다. 이를 통해 함수의 동작을 수정하거나, 로깅, 권한 확인 등의 작업을 쉽게 추가할 수 있다."
   ]
  },
  {
   "cell_type": "code",
   "execution_count": 9,
   "id": "ec56b68b",
   "metadata": {},
   "outputs": [
    {
     "name": "stdout",
     "output_type": "stream",
     "text": [
      "함수가 실행되기 전입니다.\n",
      "안녕하세요!\n",
      "함수가 실행된 후입니다.\n",
      "함수 slow_function 시작합니다.\n",
      "함수가 실행 중입니다.\n",
      "함수 slow_function 종료. 실행 시간: 2.0006초\n"
     ]
    }
   ],
   "source": [
    "def my_decorator(func):\n",
    "    def wrapper():\n",
    "        print(\"함수가 실행되기 전입니다.\")\n",
    "        func()\n",
    "        print(\"함수가 실행된 후입니다.\")\n",
    "    return wrapper\n",
    "\n",
    "@my_decorator  # 데코레이터 적용\n",
    "def say_hello():\n",
    "    print(\"안녕하세요!\")\n",
    "\n",
    "say_hello()\n",
    "\n",
    "\n",
    "import time\n",
    "\n",
    "def log_decorator(func):\n",
    "    def wrapper(*args, **kwargs):\n",
    "        start_time = time.time()  # 시작 시간 기록\n",
    "        print(f\"함수 {func.__name__} 시작합니다.\")   \n",
    "        result = func(*args, **kwargs)\n",
    "        end_time = time.time()  # 종료 시간 기록\n",
    "        print(f\"함수 {func.__name__} 종료. 실행 시간: {end_time - start_time:.4f}초\")\n",
    "        return result\n",
    "    return wrapper\n",
    "\n",
    "@log_decorator\n",
    "def slow_function():\n",
    "    time.sleep(2)  # 2초 동안 멈춤 (가상으로 시간이 오래 걸리는 함수)\n",
    "    print(\"함수가 실행 중입니다.\")  \n",
    "\n",
    "slow_function()"
   ]
  },
  {
   "cell_type": "markdown",
   "id": "589ebeea",
   "metadata": {},
   "source": [
    "4. 컨텍스트 매니저(Context Manager)  \n",
    "특정 리소스를 열고 닫는 과정을 자동으로 처리해 주는 도구로, 파일이나 데이터베이스 연결 같은 리소스를 열 때 with 문과 함께 사용되며, 자동으로 리소스를 정리한다. Python에서는 **__enter__()**와 __exit__() 메서드를 구현하여 직접 컨텍스트 매니저를 만들 수 있다."
   ]
  },
  {
   "cell_type": "code",
   "execution_count": null,
   "id": "907c84a0",
   "metadata": {},
   "outputs": [
    {
     "name": "stdout",
     "output_type": "stream",
     "text": [
      "컨텍스트 매니저로 파일을 처리합니다.\n",
      "\n"
     ]
    }
   ],
   "source": [
    "class FileManager:  \n",
    "    def __init__(self, filename, mode):  # 클래스 초기화\n",
    "        self.filename = filename  # 파일명 저장\n",
    "        self.mode = mode  # 모드 저장\n",
    "\n",
    "    def __enter__(self):  #__enter__은 with블록이 시작할 때 자동으로 호출\n",
    "        self.file = open(self.filename, self.mode)\n",
    "        return self.file\n",
    "\n",
    "    def __exit__(self, exc_type, exc_value, traceback): #__exit__는 with블록이 끝날 때 자동으로 호출\n",
    "        self.file.close()  # 블록을 벗어날 때 자동으로 닫아줌\n",
    "        if exc_type is not None:  # 예외 확인\n",
    "            print(\"파일 처리 중 예외가 발생했습니다.\")\n",
    "        return True  # 예외 발생 후에도 프로그램이 계속 실행됨\n",
    "\n",
    "# 컨텍스트 매니저로 파일 처리\n",
    "with FileManager(\"example.txt\", \"w\") as f: # 쓰기 작업\n",
    "    f.write(\"컨텍스트 매니저로 파일을 처리합니다.\\n\")\n",
    "\n",
    "with FileManager(\"example.txt\", \"r\") as f: # 읽기 모드로 열기\n",
    "    content = f.read()\n",
    "    print(content)"
   ]
  },
  {
   "cell_type": "markdown",
   "id": "47c62dee",
   "metadata": {},
   "source": [
    "2. 객체지향 프로그래밍(OOP)의 핵심 개념  \n",
    "객체지향 프로그래밍(OOP)은 클래스와 객체를 사용해 프로그램을 설계하고 구현하는 방식으로, 이는 코드의 재사용성, 확장성, 유지보수성을 높이는 데 유용하다. OOP의 4대 핵심 원칙에는 캡슐화, 상속, 다형성, 추상화가 포함된다. "
   ]
  },
  {
   "cell_type": "markdown",
   "id": "de35ff30",
   "metadata": {},
   "source": [
    "가. 캡슐화   \n",
    "캡슐화는 중요한 정보를 숨기는 것으로, 이름 앞에 __을 붙인다. get_color() 같은 특정 함수로만 접근할 수 있다."
   ]
  },
  {
   "cell_type": "code",
   "execution_count": 10,
   "id": "7ea214c7-d7c8-4810-a31b-978633a0c58e",
   "metadata": {},
   "outputs": [
    {
     "name": "stdout",
     "output_type": "stream",
     "text": [
      "파란색 기아 자동차가 달립니다!\n"
     ]
    }
   ],
   "source": [
    "class Car:\n",
    "    def __init__(self, color, brand):  # 초기화 메서드, Car 클래스의 객체를 만들 때 처음 실행되는 함수\n",
    "        self.__color = color  # 속성을 숨김 (앞에 __ 붙이기)\n",
    "        self.brand = brand  # brand라는 속성에 값을 저장\n",
    "\n",
    "    def get_color(self):  # 숨겨진 속성에 접근하는 메서드\n",
    "        return self.__color  # color 속성 값을 반환\n",
    "\n",
    "    def drive(self):  # 자동차가 달리는 것을 표현하는 메서드\n",
    "        print(f\"{self.get_color()} {self.brand} 자동차가 달립니다!\")  # 자동차 색상과 브랜드 이름과 함께 \"자동차가 달립니다!\"를 출력\n",
    "\n",
    "# 객체 생성하기\n",
    "my_car = Car(\"파란색\", \"기아\")  # Car 클래스의 인스턴스인 my_car 객체를 생성, 색상은 '파란색'이고 브랜드는 '기아'\n",
    "my_car.drive()  # drive 메서드를 호출하여 'The 파란색 기아 자동차가 달립니다!'를 출력"
   ]
  },
  {
   "cell_type": "markdown",
   "id": "fe740a9a",
   "metadata": {},
   "source": [
    "나. 상속  \n",
    "상속은 기존 클래스의 기능을 물려받아 새로운 클래스를 만드는 것이다."
   ]
  },
  {
   "cell_type": "code",
   "execution_count": 13,
   "id": "ab054d88",
   "metadata": {},
   "outputs": [
    {
     "name": "stdout",
     "output_type": "stream",
     "text": [
      "동물이 걷습니다.\n",
      "개가 짖습니다!\n"
     ]
    }
   ],
   "source": [
    "class Animal:\n",
    "    def walk(self):\n",
    "        print(\"동물이 걷습니다.\")  # 출력: 동물이 걷습니다.\n",
    "\n",
    "class Dog(Animal):  # Animal 클래스를 상속받음\n",
    "    def bark(self):\n",
    "        print(\"개가 짖습니다!\")  # 출력: 개가 짖습니다!\n",
    "\n",
    "my_dog = Dog()\n",
    "my_dog.walk()  # 동물의 걷는 기능 사용\n",
    "my_dog.bark()  # 개의 짖는 기능 사용"
   ]
  },
  {
   "cell_type": "markdown",
   "id": "656f1f03",
   "metadata": {},
   "source": [
    "다. 다형성  \n",
    "다형성은 같은 이름의 함수가 여러 클래스에서 다르게 동작할 수 있는 것으로, 예를 들면, 소리내기라는 행동에 대해 사람은 말하고 개는 짖는다는 식으로 다르게 동작한다. "
   ]
  },
  {
   "cell_type": "code",
   "execution_count": null,
   "id": "c8b52356",
   "metadata": {},
   "outputs": [
    {
     "name": "stdout",
     "output_type": "stream",
     "text": [
      "멍멍\n",
      "야옹\n"
     ]
    }
   ],
   "source": [
    "class Animal:\n",
    "    def sound(self):\n",
    "        print(\"동물의 소리\")\n",
    "\n",
    "class Dog(Animal):\n",
    "    def sound(self):\n",
    "        print(\"멍멍\")  #출력: 멍멍\n",
    "\n",
    "class Cat(Animal):\n",
    "    def sound(self):\n",
    "        print(\"야옹\")  #출력: 야옹\n",
    "\n",
    "my_dog = Dog()\n",
    "my_cat = Cat()\n",
    "\n",
    "my_dog.sound()  # 개는 멍멍\n",
    "my_cat.sound()  # 고양이는 야옹"
   ]
  },
  {
   "cell_type": "markdown",
   "id": "01f1acff",
   "metadata": {},
   "source": [
    "라. 추상화  \n",
    "추상화는 중요한 기능만 남기고 복잡한 것을 숨기는 것이다. 일관성, 확장성을 위해 대규모 앱에 유용하다."
   ]
  },
  {
   "cell_type": "code",
   "execution_count": 15,
   "id": "939270ff",
   "metadata": {},
   "outputs": [
    {
     "name": "stdout",
     "output_type": "stream",
     "text": [
      "TV가 켜집니다.\n"
     ]
    }
   ],
   "source": [
    "from abc import ABC, abstractmethod\n",
    "\n",
    "class RemoteControl(ABC):  # 추상 클래스\n",
    "    @abstractmethod\n",
    "    def press_button(self):\n",
    "        pass\n",
    "\n",
    "class TVRemote(RemoteControl):   # 구체 클래스\n",
    "    def press_button(self):\n",
    "        print(\"TV가 켜집니다.\")  # 출력: TV가 켜집니다.\n",
    "\n",
    "my_remote = TVRemote()\n",
    "my_remote.press_button()"
   ]
  },
  {
   "cell_type": "markdown",
   "id": "da0d0af5",
   "metadata": {},
   "source": [
    "3. 신경망클래스 설계  \n",
    "신경망은 데이터를 받아 학습을 통해 예측하는 인공지능 모델이다."
   ]
  },
  {
   "cell_type": "code",
   "execution_count": null,
   "id": "33bc2b5e",
   "metadata": {},
   "outputs": [
    {
     "name": "stdout",
     "output_type": "stream",
     "text": [
      "출력: [2.50815165 1.41178104]\n"
     ]
    }
   ],
   "source": [
    "import numpy as np # 수치 계산에 사용되는 Python라이브러리\n",
    "\n",
    "class SimpleNeuralNetwork: # 코드를 무작위로 초기화된 가중치를 가짐\n",
    "    def __init__(self, input_size, output_size):  # 입력과 출력을 받음\n",
    "        self.weights = np.random.rand(input_size, output_size)  # 임의 가중치 행렬을 생성함\n",
    "    \n",
    "    def forward(self, x):\n",
    "        return np.dot(x, self.weights)\n",
    "\n",
    "# 입력 크기: 3, 출력 크기: 2인 신경망\n",
    "nn = SimpleNeuralNetwork(3, 2) # 선형 변환만 수행하는 기본적인 형태임\n",
    "input_data = np.array([1, 2, 3])\n",
    "output = nn.forward(input_data) # 순방향 전파\n",
    "print(\"출력:\", output)  # 출력: [6.4821, 7.1244] (예시 값, 실행마다 다름)"
   ]
  },
  {
   "cell_type": "markdown",
   "id": "c5fc8399",
   "metadata": {},
   "source": [
    "가. PyTorch에서 신경망 구현  \n",
    "PyTorch는 신경망을 더 쉽게 만들고 학습시킬 수 있어 딥러닝을 더 쉽게 구현할 수 있는 도구이다."
   ]
  },
  {
   "cell_type": "code",
   "execution_count": null,
   "id": "d811a87d",
   "metadata": {},
   "outputs": [
    {
     "name": "stdout",
     "output_type": "stream",
     "text": [
      "출력: tensor([-0.6661,  0.5789], grad_fn=<ViewBackward0>)\n"
     ]
    }
   ],
   "source": [
    "import torch\n",
    "import torch.nn as nn\n",
    "\n",
    "class SimpleNN(nn.Module):  # nn.Module을 상속받아 신경망 정의\n",
    "    def __init__(self):\n",
    "        super(SimpleNN, self).__init__()\n",
    "        self.fc = nn.Linear(3, 2)  # 입력 3, 출력 2\n",
    "    \n",
    "    def forward(self, x):  # 순전파 정의(데이터 전달 방식)\n",
    "        return self.fc(x)\n",
    "\n",
    "# 신경망 만들기\n",
    "model = SimpleNN()  # 신경망 인스턴스 생성\n",
    "input_data = torch.tensor([1.0, 2.0, 3.0]) # 텐서 정의\n",
    "output = model(input_data)\n",
    "print(\"출력:\", output)  # 출력: tensor([0.3124, -0.2273] (예시값, 매번 다름)\n",
    "# grad_fn=<AddBackward0>) ; 이것은 역전파 시 기울기를 계산하는데 정보를 나타냄\n"
   ]
  }
 ],
 "metadata": {
  "kernelspec": {
   "display_name": "maricecil",
   "language": "python",
   "name": "python3"
  },
  "language_info": {
   "codemirror_mode": {
    "name": "ipython",
    "version": 3
   },
   "file_extension": ".py",
   "mimetype": "text/x-python",
   "name": "python",
   "nbconvert_exporter": "python",
   "pygments_lexer": "ipython3",
   "version": "3.12.5"
  }
 },
 "nbformat": 4,
 "nbformat_minor": 5
}
