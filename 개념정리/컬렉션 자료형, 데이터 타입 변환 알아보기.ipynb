{
 "cells": [
  {
   "cell_type": "markdown",
   "id": "de35ff30",
   "metadata": {},
   "source": [
    "1. 리스트(List)란?"
   ]
  },
  {
   "cell_type": "markdown",
   "id": "b0db0fd4",
   "metadata": {},
   "source": [
    "리스트는 여러 항목을 순서대로 저장할 수 있는 가변 자료형이다. 대괄호([])로 표현하며, 각 요소는 쉼표(,)로 구분된다. 순서가 있어 인덱스로 접근할 수 있고, 가변적이어서 요소를 추가하거나 변경할 수 있다. 중복된 요소를 가질 수 있으므로 목록, 할 일 등을 작성하는데 적합하다."
   ]
  },
  {
   "cell_type": "code",
   "execution_count": 12,
   "id": "7ea214c7-d7c8-4810-a31b-978633a0c58e",
   "metadata": {},
   "outputs": [
    {
     "name": "stdout",
     "output_type": "stream",
     "text": [
      "[0, 2, 3, 4, 5]\n",
      "[1, 2, 'orange', 3]\n",
      "[1, 2, 3, 4]\n",
      "[4, 3, 2, 1]\n",
      "[1, 2, 3, 4]\n",
      "3\n",
      "2\n",
      "[1, 4]\n",
      "4\n"
     ]
    }
   ],
   "source": [
    "my_list = [1, 2, 3, 4]\n",
    "my_list.append(5)  # 리스트에 5 추가\n",
    "my_list[0] = 0  # 첫 번째 요소를 1에서 0으로 변경\n",
    "print(my_list)  # 변경 확인: [0, 2, 3, 4, 5]\n",
    "\n",
    "my_list = [1, 2, 'apple', 3, 4]\n",
    "my_list.insert(2, 'orange')  # 인덱스 2에 'orange' 삽입\n",
    "my_list.remove('apple')  # 'apple' 삭제\n",
    "my_list.pop()  # 지정된 인덱스의 항목을 제거하며, 지정하지 않으면 마지막 항목을 제거\n",
    "print(my_list)  # 변경 확인: [1, 2, 'orange', 3]\n",
    "\n",
    "my_list = [3, 1, 4, 2]\n",
    "my_list.sort()  # 오름차순 정렬\n",
    "print(my_list)  # 출력: [1, 2, 3, 4]\n",
    "my_list.sort(reverse=True)  # 내림차순 정렬\n",
    "print(my_list)  # 출력: [4, 3, 2, 1]\n",
    "my_list.reverse()  # 리스트의 요소 순서 뒤집기\n",
    "print(my_list)  # 출력: [1, 2, 3, 4]\n",
    "\n",
    "my_list = [3, 1, 4, 2]\n",
    "print(my_list[0])  # 출력: 3  # 첫 번째 항목 출력\n",
    "print(my_list[-1])  # 출력: 2  # 끝에서 첫 번째 항목 출력\n",
    "print(my_list[1:3])  # 출력: [1, 4]  # 인덱스 1부터 3까지의 요소 출력 (슬라이싱, 끝 인덱스는 포함하지 않음)\n",
    "print(len(my_list))  # 출력: 4  # 리스트의 길이 확인"
   ]
  },
  {
   "cell_type": "markdown",
   "id": "fe740a9a",
   "metadata": {},
   "source": [
    "2. 튜플(Tuple) 정의 및 특징"
   ]
  },
  {
   "cell_type": "markdown",
   "id": "57eeeb1e",
   "metadata": {},
   "source": [
    "튜플은 리스트와 유사하지만, 한 번 생성되면 수정할 수 없는 불변 자료형이다. 튜플은 소괄호(())로 표현되며, 다음과 같은 특징을 가지고 있다: 순서가 있으며 (Indexing), 불변적이고 (Immutable), 여러 데이터와 중복된 요소를 가질 수 있으므로 요일과 좌표 등 고정된 데이터를 다룰 때 적합하다. "
   ]
  },
  {
   "cell_type": "code",
   "execution_count": 15,
   "id": "ab054d88",
   "metadata": {},
   "outputs": [
    {
     "ename": "TypeError",
     "evalue": "'tuple' object does not support item assignment",
     "output_type": "error",
     "traceback": [
      "\u001b[1;31m---------------------------------------------------------------------------\u001b[0m",
      "\u001b[1;31mTypeError\u001b[0m                                 Traceback (most recent call last)",
      "Cell \u001b[1;32mIn[15], line 2\u001b[0m\n\u001b[0;32m      1\u001b[0m my_tuple \u001b[38;5;241m=\u001b[39m (\u001b[38;5;241m1\u001b[39m, \u001b[38;5;241m1\u001b[39m, \u001b[38;5;124m\"\u001b[39m\u001b[38;5;124m사과\u001b[39m\u001b[38;5;124m\"\u001b[39m, \u001b[38;5;28;01mTrue\u001b[39;00m)\n\u001b[1;32m----> 2\u001b[0m \u001b[43mmy_tuple\u001b[49m\u001b[43m[\u001b[49m\u001b[38;5;241;43m1\u001b[39;49m\u001b[43m]\u001b[49m \u001b[38;5;241m=\u001b[39m \u001b[38;5;241m5\u001b[39m  \u001b[38;5;66;03m# 튜플은 수정할 수 없기 때문에 오류가 발생함\u001b[39;00m\n",
      "\u001b[1;31mTypeError\u001b[0m: 'tuple' object does not support item assignment"
     ]
    }
   ],
   "source": [
    "my_tuple = (1, 1, \"사과\", True)\n",
    "my_tuple[1] = 5  # 튜플은 수정할 수 없기 때문에 오류가 발생함"
   ]
  },
  {
   "cell_type": "code",
   "execution_count": 19,
   "id": "c8b52356",
   "metadata": {},
   "outputs": [
    {
     "name": "stdout",
     "output_type": "stream",
     "text": [
      "10\n",
      "20\n",
      "30\n",
      "빨강\n",
      "파랑\n",
      "초록\n"
     ]
    }
   ],
   "source": [
    "my_tuple = (10, 20, 30)\n",
    "a, b, c = my_tuple\n",
    "print(a)  # 출력: 10\n",
    "print(b)  # 출력: 20\n",
    "print(c)  # 출력: 30. 이렇듯 튜플언패킹은 저장된 값을 변수에 나눠 담을 수 있다.\n",
    "\n",
    "colors = (\"빨강\", \"파랑\", \"초록\")\n",
    "for color in colors:\n",
    "    print(color) \n",
    "#빨강\n",
    "#파랑\n",
    "#초록. 각 요소를 for반복문을 사용해 하나씩 가져올 수 있다."
   ]
  },
  {
   "cell_type": "markdown",
   "id": "01f1acff",
   "metadata": {},
   "source": [
    "3. 딕셔너리의 정의와 사용법"
   ]
  },
  {
   "cell_type": "markdown",
   "id": "1b36d470",
   "metadata": {},
   "source": [
    "딕셔너리(Dictionary)는 키-값 쌍으로 데이터를 저장하는 자료형으로, 중괄호({})를 사용해 표현하며, 키와 값은 콜론(:)으로 구분된다. 딕셔너리의 특징으로는 순서가 없지만 변경 가능한 가변적(mutable) 자료형이다. 키는 유일해야 하며, 중복될 수 없으나 값은 중복될 수 있다. 따라서 한 사람의 정보(이름, 나이, 주소 등)을 저장할 때 유용하다."
   ]
  },
  {
   "cell_type": "code",
   "execution_count": 25,
   "id": "939270ff",
   "metadata": {},
   "outputs": [
    {
     "name": "stdout",
     "output_type": "stream",
     "text": [
      "{'name': 'John', 'age': 26, 'city': 'Seoul'}\n",
      "{'name': 'John', 'age': 26}\n",
      "dict_keys(['name', 'age'])\n",
      "dict_values(['John', 26])\n",
      "dict_items([('name', 'John'), ('age', 26)])\n",
      "John\n",
      "None\n",
      "키: name, 값: John\n",
      "키: age, 값: 26\n",
      "키: city, 값: Seoul\n"
     ]
    }
   ],
   "source": [
    "my_dict = {'name': 'John', 'age': 25}\n",
    "my_dict['city'] = 'Seoul'  # 새로운 키-값 추가\n",
    "my_dict['age'] = 26        # 기존 값 수정\n",
    "print(my_dict) # {'name': 'John', 'age': 26, 'city': 'Seoul'}\n",
    "\n",
    "del my_dict['city']  # 'city' 키-값 쌍 삭제\n",
    "print(my_dict) # {'name': 'John', 'age': 26}\n",
    "\n",
    "print(my_dict.keys())  # 출력: dict_keys(['name', 'age'])\n",
    "print(my_dict.values())  # 출력: dict_values(['John', 26])\n",
    "print(my_dict.items())  # 출력: dict_items([('name', 'John'), ('age', 26)])\n",
    "print(my_dict.get('name'))  # 출력: John\n",
    "print(my_dict.get('city'))  # 출력: None (해당 키가 없으면 none으로 표시)\n",
    "\n",
    "my_dict = {'name': 'John', 'age': 26, 'city': 'Seoul'}\n",
    "for key, value in my_dict.items():\n",
    "    print(f'키: {key}, 값: {value}')\n",
    "#키: name, 값: John\n",
    "#키: age, 값: 26\n",
    "#키: city, 값: Seoul\n",
    "#각 요소를 for반복문을 사용해 하나씩 가져올 수 있다.\n",
    "\n"
   ]
  },
  {
   "cell_type": "markdown",
   "id": "4a8a4588",
   "metadata": {},
   "source": [
    "4. 셋(Set) 생성 및 사용 예시 "
   ]
  },
  {
   "cell_type": "markdown",
   "id": "68dd7939",
   "metadata": {},
   "source": [
    "셋(Set)은 중복되지 않는 요소들의 집합을 나타내는 자료형으로, 중괄호({})로 표현된다. 순서가 없고(Unordered), 가변적이며(Mutable), 중복을 허용하지 않는다. 따라서 인덱스를 사용해 요소에 접근할 수 없으며 중복 값은 자동으로 제거되어  수학의 집합(교집합, 합집합, 차집합) 등의 연산이 가능하다. 리스트에 중복된 값을 제거할 때나 데이터 분석, 필터링, 검색 작업에 유용하다."
   ]
  },
  {
   "cell_type": "code",
   "execution_count": 28,
   "id": "da21f65d",
   "metadata": {},
   "outputs": [
    {
     "name": "stdout",
     "output_type": "stream",
     "text": [
      "{1, 2, 3, 4, 5}\n"
     ]
    },
    {
     "ename": "NameError",
     "evalue": "name 'my_set' is not defined",
     "output_type": "error",
     "traceback": [
      "\u001b[1;31m---------------------------------------------------------------------------\u001b[0m",
      "\u001b[1;31mNameError\u001b[0m                                 Traceback (most recent call last)",
      "Cell \u001b[1;32mIn[28], line 3\u001b[0m\n\u001b[0;32m      1\u001b[0m numbers \u001b[38;5;241m=\u001b[39m {\u001b[38;5;241m1\u001b[39m, \u001b[38;5;241m2\u001b[39m, \u001b[38;5;241m3\u001b[39m, \u001b[38;5;241m4\u001b[39m, \u001b[38;5;241m4\u001b[39m, \u001b[38;5;241m5\u001b[39m}\n\u001b[0;32m      2\u001b[0m \u001b[38;5;28mprint\u001b[39m(numbers)  \u001b[38;5;66;03m# {1, 2, 3, 4, 5}. 중복된 요소는 하나로 처리됨\u001b[39;00m\n\u001b[1;32m----> 3\u001b[0m \u001b[38;5;28mprint\u001b[39m(\u001b[43mmy_set\u001b[49m[\u001b[38;5;241m0\u001b[39m])  \u001b[38;5;66;03m# 오류 발생! 인덱스로 접근 불가\u001b[39;00m\n",
      "\u001b[1;31mNameError\u001b[0m: name 'my_set' is not defined"
     ]
    }
   ],
   "source": [
    "numbers = {1, 2, 3, 4, 4, 5}\n",
    "print(numbers)  # {1, 2, 3, 4, 5}. 중복된 요소는 하나로 처리됨\n",
    "print(my_set[0])  # 오류 발생! 인덱스로 접근 불가\n"
   ]
  },
  {
   "cell_type": "code",
   "execution_count": 43,
   "id": "35fefa2e",
   "metadata": {},
   "outputs": [
    {
     "name": "stdout",
     "output_type": "stream",
     "text": [
      "{1, 2, 3, 4, 5, 6}\n",
      "{1, 2, 4, 5, 6}\n",
      "{1, 2, 4, 5, 6}\n",
      "True\n",
      "False\n",
      "set()\n",
      "{3, 4}\n",
      "{1, 2, 3, 4, 5, 6}\n",
      "{1, 2}\n",
      "{1, 2, 5, 6}\n"
     ]
    }
   ],
   "source": [
    "numbers = {1, 2, 3, 4, 5}\n",
    "numbers.add(6)\n",
    "print(numbers)  # {1, 2, 3, 4, 5, 6}. add()로 요소 추가\n",
    "\n",
    "numbers.remove(3)\n",
    "print(numbers)  # {1, 2, 4, 5, 6}. remove()로 요소 제거\n",
    "\n",
    "numbers.discard(0)\n",
    "print(numbers)  # {1, 2, 4, 5, 6}. 없는 값에 대해 remove()는 오류가 발생하지만 discard()는 오류가 발생하지 않음\n",
    "\n",
    "my_set = {1, 2, 5}\n",
    "print(5 in my_set)  # 출력: True\n",
    "print(3 in my_set)  # 출력: False. in연산자로 특정 값 존재 확인\n",
    "\n",
    "my_set.clear()\n",
    "print(my_set)  # 출력: set(). 셋 안의 모든 값 제거\n",
    "\n",
    "set_a = {1, 2, 3, 4}\n",
    "set_b = {3, 4, 5, 6}\n",
    "print(set_a & set_b)  # {3, 4}. 교집합, 겹치는 수 =print(set_a.intersection(set_b))\n",
    "print(set_a | set_b)  # {1, 2, 3, 4, 5, 6}. 합집합, 합친 수 =print(set_a.union(set_b))\n",
    "print(set_a - set_b)  # {1, 2}. 차집합, a에만 있는 수 =print(set_a.difference(set_b))\n",
    "print(set_a ^ set_b)  # {1, 2, 5, 6}. 대칭차집합, 겹치지 않는 수 =print(set_a.symmetric_difference(set_b))"
   ]
  },
  {
   "cell_type": "markdown",
   "id": "ca931a16",
   "metadata": {},
   "source": [
    "명시적 타입 변환 (Explicit Type Conversion)  \n",
    "명시적 타입 변환은 프로그래머가 의도적으로 변환을 수행하는 것으로, Python의 내장 함수를 사용해 한 타입을 다른 타입으로 변환할 수 있습니다."
   ]
  },
  {
   "cell_type": "code",
   "execution_count": 47,
   "id": "53705422",
   "metadata": {},
   "outputs": [
    {
     "name": "stdout",
     "output_type": "stream",
     "text": [
      "3\n",
      "2.0\n",
      "100\n",
      "False\n",
      "['a', 'b', 'c']\n",
      "[1, 2]\n",
      "(1, 2, 3)\n",
      "('a', 'b', 'c')\n",
      "{1, 2, 3}\n",
      "{'o', 'e', 'h', 'l'}\n"
     ]
    }
   ],
   "source": [
    "int_val = int(3.7)    \n",
    "float_val = float(2)  \n",
    "str_val = str(100)    \n",
    "bool_val = bool(\"\")   \n",
    "\n",
    "print(int_val)   # 출력: 3 / 실수를 정수로 변환 \n",
    "print(float_val) # 출력: 2.0 / 정수를 실수로 변환 \n",
    "print(str_val)   # 출력: '100' / 정수를 문자열로 변환 \n",
    "print(bool_val)  # 출력: False / 빈 문자열을 불리언으로 변환(빈 리스트 False, 그 외 True)\n",
    "\n",
    "print(list(\"abc\"))    # 출력: ['a', 'b', 'c']\n",
    "print(list((1, 2)))   # 출력: [1, 2] / 값을 리스트로 변환 \n",
    "\n",
    "print(tuple([1, 2, 3]))  # 출력: (1, 2, 3)\n",
    "print(tuple(\"abc\"))      # 출력: ('a', 'b', 'c') / 값을 튜플로 변환\n",
    "\n",
    "print(set([1, 2, 2, 3]))   # 출력: {1, 2, 3}\n",
    "print(set(\"hello\"))        # 출력: {'h', 'e', 'l', 'o'} / 값을 셋으로 변환(중복 제거)\n"
   ]
  },
  {
   "cell_type": "markdown",
   "id": "0327aaca",
   "metadata": {},
   "source": [
    "암시적 타입 변환 (Implicit Type Conversion)  \n",
    "암시적 타입 변환은 Python이 자동으로 변환을 수행하는 경우입니다. Python은 서로 다른 데이터 타입 간의 연산에서 자동으로 타입을 변환할 수 있습니다. 예를 들어, 정수와 실수 간의 연산에서는 암시적으로 정수를 실수로 변환합니다."
   ]
  },
  {
   "cell_type": "code",
   "execution_count": 49,
   "id": "f342e360",
   "metadata": {},
   "outputs": [
    {
     "name": "stdout",
     "output_type": "stream",
     "text": [
      "7.5\n",
      "2\n",
      "1\n"
     ]
    }
   ],
   "source": [
    "result = 3 + 4.5\n",
    "print(result)  # 출력: 7.5 / 정수 3이 실수 3.0으로 암시적 변환\n",
    "\n",
    "result = 1 + True\n",
    "print(result)  # 출력: 2 / True가 1로 변환\n",
    "\n",
    "result = 1 + False\n",
    "print(result)  # 출력: 1 / False가 0으로 변환"
   ]
  }
 ],
 "metadata": {
  "kernelspec": {
   "display_name": "maricecil",
   "language": "python",
   "name": "python3"
  },
  "language_info": {
   "codemirror_mode": {
    "name": "ipython",
    "version": 3
   },
   "file_extension": ".py",
   "mimetype": "text/x-python",
   "name": "python",
   "nbconvert_exporter": "python",
   "pygments_lexer": "ipython3",
   "version": "3.12.5"
  }
 },
 "nbformat": 4,
 "nbformat_minor": 5
}
