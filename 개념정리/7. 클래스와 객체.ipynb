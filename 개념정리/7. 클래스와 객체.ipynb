{
 "cells": [
  {
   "cell_type": "markdown",
   "id": "1d073087",
   "metadata": {},
   "source": [
    "1. 클래스와 객체 생성  \n",
    "클래스는 객체를 만들기 위한 청사진 또는 설계도이다. 각 클래스는 속성과 메서드로 구성되며, 속성은 객체의 데이터를 정의하고 메서드는 객체의 동작을 정의한다. 객체는 클래스에 정의된 속성과 메서드를 포함한 실체다. 메서드는 def 키워드를 사용해 정의하고, 첫 번째 매개변수로 항상 self를 받아야 한다. 사용자 정의를 통해 가독성을 향상시킬 수 있다."
   ]
  },
  {
   "cell_type": "code",
   "execution_count": null,
   "id": "4c1d76f1",
   "metadata": {},
   "outputs": [
    {
     "name": "stdout",
     "output_type": "stream",
     "text": [
      "빨간색 현대 자동차가 달립니다!\n"
     ]
    }
   ],
   "source": [
    "class Car:\n",
    "    def __init__(self, color, brand):  # 초기화 메서드\n",
    "        self.color = color  \n",
    "        self.brand = brand  # 속성 정의\n",
    "\n",
    "    def drive(self):\n",
    "        print(f\"{self.color} {self.brand} 자동차가 달립니다!\")  # 출력: 빨간색 현대 자동차가 달립니다!\n",
    "\n",
    "# 객체 생성\n",
    "my_car = Car(\"빨간색\", \"현대\")\n",
    "my_car.drive()"
   ]
  },
  {
   "cell_type": "markdown",
   "id": "41d3e7b6",
   "metadata": {},
   "source": [
    "가. 매직 메서드(Magic Methods)  \n",
    "매직 메서드는 이름 앞뒤에 두 개의 언더스코어(__)가 붙어 있는 미리 정의된 메서드로 Python에서 특별한 기능을 수행한다. 대표적으로 객체 생성 시 호출되는 __init__, 문자열 표현을 반환하는 __str__, 덧셈 연산을 정의하는 __add__, 디버깅을 위해 사용되는 __repr__, 객체 비교를 위한 __eq__가 있다. "
   ]
  },
  {
   "cell_type": "code",
   "execution_count": null,
   "id": "b07b64a3",
   "metadata": {},
   "outputs": [
    {
     "name": "stdout",
     "output_type": "stream",
     "text": [
      "Harry Potter by J.K. Rowling\n",
      "Harry Potter and The Hobbit are both great books!\n"
     ]
    }
   ],
   "source": [
    "class Book:\n",
    "    def __init__(self, title, author): # 제목, 저자를 사용해 book클래스 초기화\n",
    "        self.title = title\n",
    "        self.author = author\n",
    "\n",
    "    def __str__(self):  # 객체를 문자열로 표현할 때 호출\n",
    "        return f\"{self.title} by {self.author}\"\n",
    "\n",
    "    def __add__(self, other):  # 객체끼리 더할 때 호출\n",
    "        return f\"{self.title} and {other.title} are both great books!\"\n",
    "\n",
    "book1 = Book(\"Harry Potter\", \"J.K. Rowling\")\n",
    "book2 = Book(\"The Hobbit\", \"J.R.R. Tolkien\")\n",
    "\n",
    "print(book1)  # __str__ 호출  # 출력: Harry Potter by J.K. Rowling\n",
    "print(book1 + book2)  # __add__ 호출  # 출력: Harry Potter and The Hobbit are both great books!"
   ]
  },
  {
   "cell_type": "markdown",
   "id": "2586b612",
   "metadata": {},
   "source": [
    "나. 클래스 메서드(Class Methods)  \n",
    "클래스 메서드는 클래스 자체에 영향을 미치는 메서드로, 클래스 변수를 변경하거나 클래스 작업을 수행하는 데 사용된다. @classmethod 데코레이터로 정의되며, 첫 번째 인자는 **cls**로 전달된다."
   ]
  },
  {
   "cell_type": "code",
   "execution_count": 4,
   "id": "ec56b68b",
   "metadata": {},
   "outputs": [
    {
     "name": "stdout",
     "output_type": "stream",
     "text": [
      "6\n"
     ]
    }
   ],
   "source": [
    "class Car:\n",
    "    wheels = 4  # 클래스 변수\n",
    "\n",
    "    def __init__(self, brand):\n",
    "        self.brand = brand  # 인스턴스 변수\n",
    "\n",
    "    @classmethod\n",
    "    def change_wheels(cls, new_wheel_count):\n",
    "        cls.wheels = new_wheel_count  # 클래스 변수 변경\n",
    "\n",
    "# 클래스 메서드 사용\n",
    "Car.change_wheels(6)  # 모든 Car 객체의 바퀴 개수를 6으로 변경\n",
    "print(Car.wheels)  # 출력: 6"
   ]
  },
  {
   "cell_type": "markdown",
   "id": "589ebeea",
   "metadata": {},
   "source": [
    "다. 정적 메서드(Static Methods)  \n",
    "정적 메서드는 객체나 클래스의 상태를 사용하지 않으나 클래스 내부에 정의되어 있어 관련된 동작을 포함할 수 있고, 함수처럼 동작할 수 있다. @staticmethod 데코레이터로 정의되고, 첫 번째 매개변수로 self나 cls를 받지 않는다."
   ]
  },
  {
   "cell_type": "code",
   "execution_count": 5,
   "id": "907c84a0",
   "metadata": {},
   "outputs": [
    {
     "name": "stdout",
     "output_type": "stream",
     "text": [
      "15\n"
     ]
    }
   ],
   "source": [
    "class MathUtils:\n",
    "    @staticmethod\n",
    "    def add(a, b):\n",
    "        return a + b\n",
    "\n",
    "# 정적 메서드 사용\n",
    "result = MathUtils.add(5, 10)\n",
    "print(result)  # 출력: 15"
   ]
  },
  {
   "cell_type": "markdown",
   "id": "47c62dee",
   "metadata": {},
   "source": [
    "2. 객체지향 프로그래밍(OOP)의 핵심 개념  \n",
    "객체지향 프로그래밍(OOP)은 클래스와 객체를 사용해 프로그램을 설계하고 구현하는 방식으로, 이는 코드의 재사용성, 확장성, 유지보수성을 높이는 데 유용하다. OOP의 4대 핵심 원칙에는 캡슐화, 상속, 다형성, 추상화가 포함된다. "
   ]
  },
  {
   "cell_type": "markdown",
   "id": "de35ff30",
   "metadata": {},
   "source": [
    "가. 캡슐화   \n",
    "캡슐화는 중요한 정보를 숨기는 것으로, 이름 앞에 __을 붙인다. get_color() 같은 특정 함수로만 접근할 수 있다."
   ]
  },
  {
   "cell_type": "code",
   "execution_count": 10,
   "id": "7ea214c7-d7c8-4810-a31b-978633a0c58e",
   "metadata": {},
   "outputs": [
    {
     "name": "stdout",
     "output_type": "stream",
     "text": [
      "파란색 기아 자동차가 달립니다!\n"
     ]
    }
   ],
   "source": [
    "class Car:\n",
    "    def __init__(self, color, brand):  # 초기화 메서드, Car 클래스의 객체를 만들 때 처음 실행되는 함수\n",
    "        self.__color = color  # 속성을 숨김 (앞에 __ 붙이기)\n",
    "        self.brand = brand  # brand라는 속성에 값을 저장\n",
    "\n",
    "    def get_color(self):  # 숨겨진 속성에 접근하는 메서드\n",
    "        return self.__color  # color 속성 값을 반환\n",
    "\n",
    "    def drive(self):  # 자동차가 달리는 것을 표현하는 메서드\n",
    "        print(f\"{self.get_color()} {self.brand} 자동차가 달립니다!\")  # 자동차 색상과 브랜드 이름과 함께 \"자동차가 달립니다!\"를 출력\n",
    "\n",
    "# 객체 생성하기\n",
    "my_car = Car(\"파란색\", \"기아\")  # Car 클래스의 인스턴스인 my_car 객체를 생성, 색상은 '파란색'이고 브랜드는 '기아'\n",
    "my_car.drive()  # drive 메서드를 호출하여 'The 파란색 기아 자동차가 달립니다!'를 출력"
   ]
  },
  {
   "cell_type": "markdown",
   "id": "fe740a9a",
   "metadata": {},
   "source": [
    "나. 상속  \n",
    "상속은 기존 클래스의 기능을 물려받아 새로운 클래스를 만드는 것이다."
   ]
  },
  {
   "cell_type": "code",
   "execution_count": 13,
   "id": "ab054d88",
   "metadata": {},
   "outputs": [
    {
     "name": "stdout",
     "output_type": "stream",
     "text": [
      "동물이 걷습니다.\n",
      "개가 짖습니다!\n"
     ]
    }
   ],
   "source": [
    "class Animal:\n",
    "    def walk(self):\n",
    "        print(\"동물이 걷습니다.\")  # 출력: 동물이 걷습니다.\n",
    "\n",
    "class Dog(Animal):  # Animal 클래스를 상속받음\n",
    "    def bark(self):\n",
    "        print(\"개가 짖습니다!\")  # 출력: 개가 짖습니다!\n",
    "\n",
    "my_dog = Dog()\n",
    "my_dog.walk()  # 동물의 걷는 기능 사용\n",
    "my_dog.bark()  # 개의 짖는 기능 사용"
   ]
  },
  {
   "cell_type": "markdown",
   "id": "656f1f03",
   "metadata": {},
   "source": [
    "다. 다형성  \n",
    "다형성은 같은 이름의 함수가 여러 클래스에서 다르게 동작할 수 있는 것으로, 예를 들면, 소리내기라는 행동에 대해 사람은 말하고 개는 짖는다는 식으로 다르게 동작한다. "
   ]
  },
  {
   "cell_type": "code",
   "execution_count": null,
   "id": "c8b52356",
   "metadata": {},
   "outputs": [
    {
     "name": "stdout",
     "output_type": "stream",
     "text": [
      "멍멍\n",
      "야옹\n"
     ]
    }
   ],
   "source": [
    "class Animal:\n",
    "    def sound(self):\n",
    "        print(\"동물의 소리\")\n",
    "\n",
    "class Dog(Animal):\n",
    "    def sound(self):\n",
    "        print(\"멍멍\")  #출력: 멍멍\n",
    "\n",
    "class Cat(Animal):\n",
    "    def sound(self):\n",
    "        print(\"야옹\")  #출력: 야옹\n",
    "\n",
    "my_dog = Dog()\n",
    "my_cat = Cat()\n",
    "\n",
    "my_dog.sound()  # 개는 멍멍\n",
    "my_cat.sound()  # 고양이는 야옹"
   ]
  },
  {
   "cell_type": "markdown",
   "id": "01f1acff",
   "metadata": {},
   "source": [
    "라. 추상화  \n",
    "추상화는 중요한 기능만 남기고 복잡한 것을 숨기는 것이다. 일관성, 확장성을 위해 대규모 앱에 유용하다."
   ]
  },
  {
   "cell_type": "code",
   "execution_count": 15,
   "id": "939270ff",
   "metadata": {},
   "outputs": [
    {
     "name": "stdout",
     "output_type": "stream",
     "text": [
      "TV가 켜집니다.\n"
     ]
    }
   ],
   "source": [
    "from abc import ABC, abstractmethod\n",
    "\n",
    "class RemoteControl(ABC):  # 추상 클래스\n",
    "    @abstractmethod\n",
    "    def press_button(self):\n",
    "        pass\n",
    "\n",
    "class TVRemote(RemoteControl):   # 구체 클래스\n",
    "    def press_button(self):\n",
    "        print(\"TV가 켜집니다.\")  # 출력: TV가 켜집니다.\n",
    "\n",
    "my_remote = TVRemote()\n",
    "my_remote.press_button()"
   ]
  },
  {
   "cell_type": "markdown",
   "id": "da0d0af5",
   "metadata": {},
   "source": [
    "3. 신경망클래스 설계  \n",
    "신경망은 데이터를 받아 학습을 통해 예측하는 인공지능 모델이다."
   ]
  },
  {
   "cell_type": "code",
   "execution_count": null,
   "id": "33bc2b5e",
   "metadata": {},
   "outputs": [
    {
     "name": "stdout",
     "output_type": "stream",
     "text": [
      "출력: [2.50815165 1.41178104]\n"
     ]
    }
   ],
   "source": [
    "import numpy as np # 수치 계산에 사용되는 Python라이브러리\n",
    "\n",
    "class SimpleNeuralNetwork: # 코드를 무작위로 초기화된 가중치를 가짐\n",
    "    def __init__(self, input_size, output_size):  # 입력과 출력을 받음\n",
    "        self.weights = np.random.rand(input_size, output_size)  # 임의 가중치 행렬을 생성함\n",
    "    \n",
    "    def forward(self, x):\n",
    "        return np.dot(x, self.weights)\n",
    "\n",
    "# 입력 크기: 3, 출력 크기: 2인 신경망\n",
    "nn = SimpleNeuralNetwork(3, 2) # 선형 변환만 수행하는 기본적인 형태임\n",
    "input_data = np.array([1, 2, 3])\n",
    "output = nn.forward(input_data) # 순방향 전파\n",
    "print(\"출력:\", output)  # 출력: [6.4821, 7.1244] (예시 값, 실행마다 다름)"
   ]
  },
  {
   "cell_type": "markdown",
   "id": "c5fc8399",
   "metadata": {},
   "source": [
    "가. PyTorch에서 신경망 구현  \n",
    "PyTorch는 신경망을 더 쉽게 만들고 학습시킬 수 있어 딥러닝을 더 쉽게 구현할 수 있는 도구이다."
   ]
  },
  {
   "cell_type": "code",
   "execution_count": null,
   "id": "d811a87d",
   "metadata": {},
   "outputs": [
    {
     "name": "stdout",
     "output_type": "stream",
     "text": [
      "출력: tensor([-0.6661,  0.5789], grad_fn=<ViewBackward0>)\n"
     ]
    }
   ],
   "source": [
    "import torch\n",
    "import torch.nn as nn\n",
    "\n",
    "class SimpleNN(nn.Module):  # nn.Module을 상속받아 신경망 정의\n",
    "    def __init__(self):\n",
    "        super(SimpleNN, self).__init__()\n",
    "        self.fc = nn.Linear(3, 2)  # 입력 3, 출력 2\n",
    "    \n",
    "    def forward(self, x):  # 순전파 정의(데이터 전달 방식)\n",
    "        return self.fc(x)\n",
    "\n",
    "# 신경망 만들기\n",
    "model = SimpleNN()  # 신경망 인스턴스 생성\n",
    "input_data = torch.tensor([1.0, 2.0, 3.0]) # 텐서 정의\n",
    "output = model(input_data)\n",
    "print(\"출력:\", output)  # 출력: tensor([0.3124, -0.2273] (예시값, 매번 다름)\n",
    "# grad_fn=<AddBackward0>) ; 이것은 역전파 시 기울기를 계산하는데 정보를 나타냄\n"
   ]
  }
 ],
 "metadata": {
  "kernelspec": {
   "display_name": "maricecil",
   "language": "python",
   "name": "python3"
  },
  "language_info": {
   "codemirror_mode": {
    "name": "ipython",
    "version": 3
   },
   "file_extension": ".py",
   "mimetype": "text/x-python",
   "name": "python",
   "nbconvert_exporter": "python",
   "pygments_lexer": "ipython3",
   "version": "3.12.5"
  }
 },
 "nbformat": 4,
 "nbformat_minor": 5
}
