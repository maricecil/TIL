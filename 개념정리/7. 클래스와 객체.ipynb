{
 "cells": [
  {
   "cell_type": "markdown",
   "id": "1d073087",
   "metadata": {},
   "source": [
    "1. 클래스와 객체 생성  \n",
    "클래스는 객체를 만들기 위한 청사진 또는 설계도이다. 각 클래스는 속성과 메서드로 구성되며, 속성은 객체의 데이터를 정의하고 메서드는 객체의 동작을 정의한다. 객체는 클래스에 정의된 속성과 메서드를 포함한 실체다. "
   ]
  },
  {
   "cell_type": "code",
   "execution_count": null,
   "id": "4c1d76f1",
   "metadata": {},
   "outputs": [
    {
     "name": "stdout",
     "output_type": "stream",
     "text": [
      "빨간색 현대 자동차가 달립니다!\n"
     ]
    }
   ],
   "source": [
    "class Car:\n",
    "    def __init__(self, color, brand):  # 초기화 메서드\n",
    "        self.color = color  \n",
    "        self.brand = brand  # 속성 정의\n",
    "\n",
    "    def drive(self):\n",
    "        print(f\"{self.color} {self.brand} 자동차가 달립니다!\")  # 출력: 빨간색 현대 자동차가 달립니다!\n",
    "\n",
    "# 객체 생성\n",
    "my_car = Car(\"빨간색\", \"현대\")\n",
    "my_car.drive()"
   ]
  },
  {
   "cell_type": "markdown",
   "id": "47c62dee",
   "metadata": {},
   "source": [
    "2. 객체지향 프로그래밍(OOP)의 핵심 개념  \n",
    "객체지향 프로그래밍(OOP)은 클래스와 객체를 사용해 프로그램을 설계하고 구현하는 방식으로, 이는 코드의 재사용성, 확장성, 유지보수성을 높이는 데 유용하다. OOP의 4대 핵심 원칙에는 캡슐화, 상속, 다형성, 추상화가 포함된다. "
   ]
  },
  {
   "cell_type": "markdown",
   "id": "de35ff30",
   "metadata": {},
   "source": [
    "가. 캡슐화   \n",
    "캡슐화는 중요한 정보를 숨기는 것으로, 이름 앞에 __을 붙인다. get_color() 같은 특정 함수로만 접근할 수 있다."
   ]
  },
  {
   "cell_type": "code",
   "execution_count": 10,
   "id": "7ea214c7-d7c8-4810-a31b-978633a0c58e",
   "metadata": {},
   "outputs": [
    {
     "name": "stdout",
     "output_type": "stream",
     "text": [
      "파란색 기아 자동차가 달립니다!\n"
     ]
    }
   ],
   "source": [
    "class Car:\n",
    "    def __init__(self, color, brand):  # 초기화 메서드, Car 클래스의 객체를 만들 때 처음 실행되는 함수\n",
    "        self.__color = color  # 속성을 숨김 (앞에 __ 붙이기)\n",
    "        self.brand = brand  # brand라는 속성에 값을 저장\n",
    "\n",
    "    def get_color(self):  # 숨겨진 속성에 접근하는 메서드\n",
    "        return self.__color  # color 속성 값을 반환\n",
    "\n",
    "    def drive(self):  # 자동차가 달리는 것을 표현하는 메서드\n",
    "        print(f\"{self.get_color()} {self.brand} 자동차가 달립니다!\")  # 자동차 색상과 브랜드 이름과 함께 \"자동차가 달립니다!\"를 출력\n",
    "\n",
    "# 객체 생성하기\n",
    "my_car = Car(\"파란색\", \"기아\")  # Car 클래스의 인스턴스인 my_car 객체를 생성, 색상은 '파란색'이고 브랜드는 '기아'\n",
    "my_car.drive()  # drive 메서드를 호출하여 'The 파란색 기아 자동차가 달립니다!'를 출력"
   ]
  },
  {
   "cell_type": "markdown",
   "id": "fe740a9a",
   "metadata": {},
   "source": [
    "나. 상속  \n",
    "상속은 기존 클래스의 기능을 물려받아 새로운 클래스를 만드는 것이다."
   ]
  },
  {
   "cell_type": "code",
   "execution_count": 13,
   "id": "ab054d88",
   "metadata": {},
   "outputs": [
    {
     "name": "stdout",
     "output_type": "stream",
     "text": [
      "동물이 걷습니다.\n",
      "개가 짖습니다!\n"
     ]
    }
   ],
   "source": [
    "class Animal:\n",
    "    def walk(self):\n",
    "        print(\"동물이 걷습니다.\")  # 출력: 동물이 걷습니다.\n",
    "\n",
    "class Dog(Animal):  # Animal 클래스를 상속받음\n",
    "    def bark(self):\n",
    "        print(\"개가 짖습니다!\")  # 출력: 개가 짖습니다!\n",
    "\n",
    "my_dog = Dog()\n",
    "my_dog.walk()  # 동물의 걷는 기능 사용\n",
    "my_dog.bark()  # 개의 짖는 기능 사용"
   ]
  },
  {
   "cell_type": "markdown",
   "id": "656f1f03",
   "metadata": {},
   "source": [
    "다. 다형성  \n",
    "다형성은 같은 이름의 함수가 여러 클래스에서 다르게 동작할 수 있는 것으로, 예를 들면, 소리내기라는 행동에 대해 사람은 말하고 개는 짖는다는 식으로 다르게 동작한다. "
   ]
  },
  {
   "cell_type": "code",
   "execution_count": null,
   "id": "c8b52356",
   "metadata": {},
   "outputs": [
    {
     "name": "stdout",
     "output_type": "stream",
     "text": [
      "멍멍\n",
      "야옹\n"
     ]
    }
   ],
   "source": [
    "class Animal:\n",
    "    def sound(self):\n",
    "        print(\"동물의 소리\")\n",
    "\n",
    "class Dog(Animal):\n",
    "    def sound(self):\n",
    "        print(\"멍멍\")  #출력: 멍멍\n",
    "\n",
    "class Cat(Animal):\n",
    "    def sound(self):\n",
    "        print(\"야옹\")  #출력: 야옹\n",
    "\n",
    "my_dog = Dog()\n",
    "my_cat = Cat()\n",
    "\n",
    "my_dog.sound()  # 개는 멍멍\n",
    "my_cat.sound()  # 고양이는 야옹"
   ]
  },
  {
   "cell_type": "markdown",
   "id": "01f1acff",
   "metadata": {},
   "source": [
    "라. 추상화  \n",
    "추상화는 중요한 기능만 남기고 복잡한 것을 숨기는 것이다. 일관성, 확장성을 위해 대규모 앱에 유용하다."
   ]
  },
  {
   "cell_type": "code",
   "execution_count": 15,
   "id": "939270ff",
   "metadata": {},
   "outputs": [
    {
     "name": "stdout",
     "output_type": "stream",
     "text": [
      "TV가 켜집니다.\n"
     ]
    }
   ],
   "source": [
    "from abc import ABC, abstractmethod\n",
    "\n",
    "class RemoteControl(ABC):  # 추상 클래스\n",
    "    @abstractmethod\n",
    "    def press_button(self):\n",
    "        pass\n",
    "\n",
    "class TVRemote(RemoteControl):   # 구체 클래스\n",
    "    def press_button(self):\n",
    "        print(\"TV가 켜집니다.\")  # 출력: TV가 켜집니다.\n",
    "\n",
    "my_remote = TVRemote()\n",
    "my_remote.press_button()"
   ]
  }
 ],
 "metadata": {
  "kernelspec": {
   "display_name": "maricecil",
   "language": "python",
   "name": "python3"
  },
  "language_info": {
   "codemirror_mode": {
    "name": "ipython",
    "version": 3
   },
   "file_extension": ".py",
   "mimetype": "text/x-python",
   "name": "python",
   "nbconvert_exporter": "python",
   "pygments_lexer": "ipython3",
   "version": "3.12.5"
  }
 },
 "nbformat": 4,
 "nbformat_minor": 5
}
