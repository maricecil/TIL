{
 "cells": [
  {
   "cell_type": "markdown",
   "id": "d4b906aa",
   "metadata": {},
   "source": [
    "1. Python 조건문"
   ]
  },
  {
   "cell_type": "markdown",
   "id": "2e63c436",
   "metadata": {},
   "source": [
    "조건문은 프로그램에서 주어진 조건에 따라 특정 코드 블록을 실행하거나 건너뛰는 기능을 한다. 기본적인 조건문은 if문이며, if 뒤에는 조건식이 오고, 조건식이 참이면 해당 코드 블록이 실행된다.  \n",
    "Python에서 들여쓰기는 코드와 블록을 구분하는 필수적인 문법이다. 특히 조건문, 반복문, 함수 정의와 같은 곳에서 사용된다. 들여쓰기는 4개의 공백 또는 탭(Tab)을 사용하며, 한 코드 블록이 끝날 때는 들여쓰기를 하지 않고 이전 수준으로 돌아간다. 올바른 들여쓰기가 없으면 코드를 실행할 수 없고, 잘못된 들여쓰기로 인해 오류가 발생할 수 있다. "
   ]
  },
  {
   "cell_type": "markdown",
   "id": "de35ff30",
   "metadata": {},
   "source": [
    "가. if 문"
   ]
  },
  {
   "cell_type": "markdown",
   "id": "b0db0fd4",
   "metadata": {},
   "source": [
    "if 문은 주어진 조건이 참(True)일 경우에만 코드 블록을 실행한다. 만약 조건이 거짓(False)이면, 그 코드를 건너뛴다."
   ]
  },
  {
   "cell_type": "code",
   "execution_count": 2,
   "id": "7ea214c7-d7c8-4810-a31b-978633a0c58e",
   "metadata": {},
   "outputs": [
    {
     "name": "stdout",
     "output_type": "stream",
     "text": [
      "성인입니다.\n"
     ]
    }
   ],
   "source": [
    "age=20\n",
    "if age >= 18:\n",
    "    print(\"성인입니다.\")\n",
    "if age < 18:\n",
    "    print(\"미성년자입니다.\")"
   ]
  },
  {
   "cell_type": "markdown",
   "id": "fe740a9a",
   "metadata": {},
   "source": [
    "나. elif 문"
   ]
  },
  {
   "cell_type": "markdown",
   "id": "57eeeb1e",
   "metadata": {},
   "source": [
    "elif 문은 \"else if\"의 줄임말로, 첫 번째 if 조건이 거짓(False)일 때, 추가적으로 조건을 검사하고 싶을 때 사용된다. 여러 개의 elif 문을 사용할 수 있다. "
   ]
  },
  {
   "cell_type": "code",
   "execution_count": 3,
   "id": "ab054d88",
   "metadata": {},
   "outputs": [
    {
     "name": "stdout",
     "output_type": "stream",
     "text": [
      "x는 5보다 큽니다.\n"
     ]
    }
   ],
   "source": [
    "x = 10 \n",
    "if x > 15:\n",
    "    print(\"x는 15보다 큽니다.\")\n",
    "elif x > 5:\n",
    "    print(\"x는 5보다 큽니다.\")  #출력: x는 5보다 큽니다. / if는 거짓이지만 elif는 참이기 때문"
   ]
  },
  {
   "cell_type": "markdown",
   "id": "656f1f03",
   "metadata": {},
   "source": [
    "다. else 문"
   ]
  },
  {
   "cell_type": "markdown",
   "id": "578695e0",
   "metadata": {},
   "source": [
    "else 문은 앞선 모든 if 및 elif 조건이 거짓(False)일 때 실행된다. else는 마지막에 오며, 조건을 따로 검사하지 않고 무조건 실행된다. 사용자로부터 점수를 입력받아 학점을 출력하는 프로그램을 예로들면 다음과 같다."
   ]
  },
  {
   "cell_type": "code",
   "execution_count": 4,
   "id": "c8b52356",
   "metadata": {},
   "outputs": [
    {
     "name": "stdout",
     "output_type": "stream",
     "text": [
      "A 학점\n"
     ]
    }
   ],
   "source": [
    "score=99\n",
    "if score >= 90:\n",
    "    print(\"A 학점\")\n",
    "elif score >= 80:\n",
    "    print(\"B 학점\")\n",
    "elif score >= 70:\n",
    "    print(\"C 학점\")\n",
    "elif score >= 60:\n",
    "    print(\"D 학점\")\n",
    "else:\n",
    "    print(\"F 학점\")"
   ]
  },
  {
   "cell_type": "markdown",
   "id": "01f1acff",
   "metadata": {},
   "source": [
    "라. 조건문 중첩"
   ]
  },
  {
   "cell_type": "code",
   "execution_count": 5,
   "id": "939270ff",
   "metadata": {},
   "outputs": [
    {
     "name": "stdout",
     "output_type": "stream",
     "text": [
      "x는 5보다 큽니다.\n",
      "x는 8보다 큽니다.\n"
     ]
    }
   ],
   "source": [
    "x = 10\n",
    "if x > 5:\n",
    "    print(\"x는 5보다 큽니다.\")\n",
    "    if x > 8:\n",
    "        print(\"x는 8보다 큽니다.\") #출력: x는 5보다 큽니다.  x는 8보다 큽니다."
   ]
  },
  {
   "cell_type": "markdown",
   "id": "4a8a4588",
   "metadata": {},
   "source": [
    "마. 조건문과 비교 연산자"
   ]
  },
  {
   "cell_type": "code",
   "execution_count": 6,
   "id": "da21f65d",
   "metadata": {},
   "outputs": [
    {
     "name": "stdout",
     "output_type": "stream",
     "text": [
      "x는 7입니다.\n",
      "x는 5가 아닙니다.\n"
     ]
    }
   ],
   "source": [
    "x = 7\n",
    "if x == 7:\n",
    "    print(\"x는 7입니다.\")\n",
    "if x != 5:\n",
    "    print(\"x는 5가 아닙니다.\") #출력: x는 7입니다.  x는 5가 아닙니다."
   ]
  },
  {
   "cell_type": "markdown",
   "id": "4573299b",
   "metadata": {},
   "source": [
    "바. 조건문과 논리 연산자"
   ]
  },
  {
   "cell_type": "code",
   "execution_count": 7,
   "id": "35fefa2e",
   "metadata": {},
   "outputs": [
    {
     "name": "stdout",
     "output_type": "stream",
     "text": [
      "x와 y 모두 5보다 큽니다.\n",
      "x는 5보다 크거나, y는 5보다 작습니다.\n",
      "x는 7입니다.\n"
     ]
    }
   ],
   "source": [
    "x = 7\n",
    "y = 10\n",
    "\n",
    "if x > 5 and y > 5:\n",
    "    print(\"x와 y 모두 5보다 큽니다.\")\n",
    "if x > 5 or y < 5:\n",
    "    print(\"x는 5보다 크거나, y는 5보다 작습니다.\")\n",
    "if not x == 7:\n",
    "    print(\"x는 7이 아닙니다.\")\n",
    "else:\n",
    "    print(\"x는 7입니다.\")  #출력: x와 y 모두 5보다 큽니다.  x는 5보다 크거나, y는 5보다 작습니다.  x는 7입니다."
   ]
  },
  {
   "cell_type": "markdown",
   "id": "ca931a16",
   "metadata": {},
   "source": [
    "사. 삼항 연산자"
   ]
  },
  {
   "cell_type": "code",
   "execution_count": 8,
   "id": "53705422",
   "metadata": {},
   "outputs": [
    {
     "name": "stdout",
     "output_type": "stream",
     "text": [
      "크다\n"
     ]
    }
   ],
   "source": [
    "x = 5\n",
    "result = \"크다\" if x > 3 else \"작다\"\n",
    "print(result)  # 출력: 크다"
   ]
  },
  {
   "cell_type": "markdown",
   "id": "0327aaca",
   "metadata": {},
   "source": [
    "2. Python 조건문"
   ]
  },
  {
   "cell_type": "markdown",
   "id": "3f2a4a8a",
   "metadata": {},
   "source": [
    "가. for 반복문"
   ]
  },
  {
   "cell_type": "markdown",
   "id": "23ee3372",
   "metadata": {},
   "source": [
    " 반복문은 프로그램 내에서 동일한 코드 블록을 여러 번 실행할 수 있도록 하는 구조로, 코드의 중복을 줄이고 효율적인 프로그램 작성을 가능하게 한다. Python의 기본적인 반복문은 for 문과 while 문으로, for 문은 컬렉션의 각 요소를 순차적으로 순회하며 코드 블록을 실행한다. "
   ]
  },
  {
   "cell_type": "code",
   "execution_count": 1,
   "id": "f342e360",
   "metadata": {},
   "outputs": [
    {
     "name": "stdout",
     "output_type": "stream",
     "text": [
      "apple\n",
      "banana\n",
      "cherry\n"
     ]
    }
   ],
   "source": [
    "fruits = [\"apple\", \"banana\", \"cherry\"]\n",
    "for fruit in fruits:\n",
    "    print(fruit) # 출력: apple, banana, cherry"
   ]
  },
  {
   "cell_type": "markdown",
   "id": "c2e38840",
   "metadata": {},
   "source": [
    "나. while 반복문"
   ]
  },
  {
   "cell_type": "code",
   "execution_count": 2,
   "id": "c62b3b7f",
   "metadata": {},
   "outputs": [
    {
     "name": "stdout",
     "output_type": "stream",
     "text": [
      "2\n",
      "1\n"
     ]
    }
   ],
   "source": [
    "x = 2\n",
    "while x > 0:\n",
    "    print(x)\n",
    "    x -= 1  # x 값을 1씩 감소\n",
    "            # 출력: 2, 1"
   ]
  },
  {
   "cell_type": "markdown",
   "id": "40d78f14",
   "metadata": {},
   "source": [
    "다. break와 continue"
   ]
  },
  {
   "cell_type": "code",
   "execution_count": 3,
   "id": "29eab911",
   "metadata": {},
   "outputs": [
    {
     "name": "stdout",
     "output_type": "stream",
     "text": [
      "1\n",
      "2\n",
      "1\n",
      "2\n",
      "4\n",
      "5\n"
     ]
    }
   ],
   "source": [
    "for i in range(1, 6):\n",
    "    if i == 3:\n",
    "        break  # i가 3이면 반복문 종료\n",
    "    print(i) # 출력: 1, 2\n",
    "\n",
    "for i in range(1, 6):\n",
    "    if i == 3:\n",
    "        continue  # i가 3이면 해당 반복 건너뛰기\n",
    "    print(i) # 출력: 1, 2, 4, 5\n"
   ]
  },
  {
   "cell_type": "markdown",
   "id": "67a0536b",
   "metadata": {},
   "source": [
    "라. range() 함수와 함께 사용하는 for 반복문"
   ]
  },
  {
   "cell_type": "code",
   "execution_count": 4,
   "id": "c53fac96",
   "metadata": {},
   "outputs": [
    {
     "name": "stdout",
     "output_type": "stream",
     "text": [
      "0\n",
      "1\n",
      "2\n",
      "3\n",
      "1\n",
      "2\n",
      "3\n",
      "1\n",
      "4\n",
      "7\n"
     ]
    }
   ],
   "source": [
    "for i in range(4):\n",
    "    print(i) # 출력 0, 1, 2, 3 # range(n)\n",
    "\n",
    "for i in range(1, 4):\n",
    "    print(i) # 출력  1, 2, 3 # range(start, stop)\n",
    "\n",
    "for i in range(1, 8, 3):\n",
    "    print(i) # 출력  1, 4, 7 # range(start, stop, step) \n"
   ]
  },
  {
   "cell_type": "markdown",
   "id": "38193c55",
   "metadata": {},
   "source": [
    "마. 중첩 반복문"
   ]
  },
  {
   "cell_type": "code",
   "execution_count": 6,
   "id": "5e78d9af",
   "metadata": {},
   "outputs": [
    {
     "name": "stdout",
     "output_type": "stream",
     "text": [
      "i: 1, j: 1\n",
      "i: 1, j: 2\n",
      "i: 2, j: 1\n",
      "i: 2, j: 2\n",
      "i: 3, j: 1\n",
      "i: 3, j: 2\n"
     ]
    }
   ],
   "source": [
    "for i in range(1, 4):  # 1부터 3까지 반복\n",
    "    for j in range(1, 3):  # 1부터 2까지 반복\n",
    "        print(f\"i: {i}, j: {j}\")  #f를 사용해 형식에 맞게 출력"
   ]
  },
  {
   "cell_type": "markdown",
   "id": "275ecb7e",
   "metadata": {},
   "source": [
    "바. 반복문과 함께 사용하는 else\n"
   ]
  },
  {
   "cell_type": "code",
   "execution_count": 7,
   "id": "ef152bf3",
   "metadata": {},
   "outputs": [
    {
     "name": "stdout",
     "output_type": "stream",
     "text": [
      "0\n",
      "1\n",
      "2\n",
      "반복문이 끝났습니다.\n"
     ]
    }
   ],
   "source": [
    "for i in range(3):\n",
    "    print(i)\n",
    "else:\n",
    "    print(\"반복문이 끝났습니다.\")"
   ]
  },
  {
   "cell_type": "markdown",
   "id": "18778896",
   "metadata": {},
   "source": [
    "사. pass 문"
   ]
  },
  {
   "cell_type": "code",
   "execution_count": 8,
   "id": "560a9caa",
   "metadata": {},
   "outputs": [
    {
     "name": "stdout",
     "output_type": "stream",
     "text": [
      "0\n",
      "1\n",
      "2\n",
      "4\n"
     ]
    }
   ],
   "source": [
    "for i in range(5):\n",
    "    if i == 3:\n",
    "        pass  # 일단 아무 동작도 하지 않음\n",
    "    else:\n",
    "        print(i)"
   ]
  }
 ],
 "metadata": {
  "kernelspec": {
   "display_name": "maricecil",
   "language": "python",
   "name": "python3"
  },
  "language_info": {
   "codemirror_mode": {
    "name": "ipython",
    "version": 3
   },
   "file_extension": ".py",
   "mimetype": "text/x-python",
   "name": "python",
   "nbconvert_exporter": "python",
   "pygments_lexer": "ipython3",
   "version": "3.12.5"
  }
 },
 "nbformat": 4,
 "nbformat_minor": 5
}
