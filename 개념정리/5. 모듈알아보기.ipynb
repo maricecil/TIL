{
 "cells": [
  {
   "cell_type": "markdown",
   "id": "1d073087",
   "metadata": {},
   "source": [
    "1. 모듈이란(import, from)  \n",
    "-모듈은 Python에서 관련된 함수, 클래스, 변수 등을 하나의 파일에 모아놓은 코드 묶음이다. 여러 모듈을 묶어 패키지로 만들 수 있다. 디렉터리 내에 _init__.py 파일(패키지 초기화 파일)이 있어야 패키지로 인식된다.  \n",
    "-사용자 정의 모듈을 만들어 여러 파일에서 재사용할 수 있고, 논리적으로 구분하여 관리보수가 용이하나 이름 충돌과 탐색 경로 지정에 주의해야한다.  \n",
    "-Python 파일(.py) 하나가 하나의 모듈이 되며, 표준 라이브러리 모듈을 불러와서(import) 사용한다. 모듈에 별칭을 붙여 더 간결하게 사용할 수 있고, 모듈의 특정 함수나 변수만 불러오려면 from...import 구문을 사용한다."
   ]
  },
  {
   "cell_type": "markdown",
   "id": "d4b906aa",
   "metadata": {},
   "source": [
    "가. 모듈 불러오기(import)"
   ]
  },
  {
   "cell_type": "code",
   "execution_count": 1,
   "id": "4c1d76f1",
   "metadata": {},
   "outputs": [
    {
     "name": "stdout",
     "output_type": "stream",
     "text": [
      "4.0\n",
      "3.141592653589793\n"
     ]
    }
   ],
   "source": [
    "import math # 수학 관련 함수들을 포함한 math 모듈\n",
    "print(math.sqrt(16))  # 16의 제곱근을 계산  #출력: 4.0\n",
    "print(math.pi)        # π(파이) 값 출력  #출력: 3.141592653589793"
   ]
  },
  {
   "cell_type": "markdown",
   "id": "de35ff30",
   "metadata": {},
   "source": [
    "나. 모듈에서 특정 함수만 불러오기 (from ... import)\n"
   ]
  },
  {
   "cell_type": "code",
   "execution_count": 2,
   "id": "7ea214c7-d7c8-4810-a31b-978633a0c58e",
   "metadata": {},
   "outputs": [
    {
     "name": "stdout",
     "output_type": "stream",
     "text": [
      "4.0\n",
      "7.0\n",
      "8.0\n"
     ]
    }
   ],
   "source": [
    "from math import sqrt # 직접 불러왔기에 sqrt()로 직접 호출할 수 있음\n",
    "print(sqrt(16))  # 16의 제곱근 계산  # 출력: 4.9\n",
    "\n",
    "# 여러 항목을 한 번에 불러올 수도 있다. \n",
    "from math import sqrt, pow  # sqrt와 pow 함수를 불러옴\n",
    "result1 = sqrt(49)\n",
    "result2 = pow(2, 3)\n",
    "print(result1)  # 7.0\n",
    "print(result2)  # 8.0"
   ]
  },
  {
   "cell_type": "markdown",
   "id": "fe740a9a",
   "metadata": {},
   "source": [
    "다. 모듈에 별칭 붙이기 (import ... as)"
   ]
  },
  {
   "cell_type": "code",
   "execution_count": 3,
   "id": "ab054d88",
   "metadata": {},
   "outputs": [
    {
     "name": "stdout",
     "output_type": "stream",
     "text": [
      "4.0\n",
      "3.141592653589793\n"
     ]
    }
   ],
   "source": [
    "import math as m # math 모듈의 별칭으로 함수 호출\n",
    "print(m.sqrt(16))    #출력: 4.0\n",
    "print(m.pi)  # 출력: 3.141592653589793\n"
   ]
  },
  {
   "cell_type": "markdown",
   "id": "656f1f03",
   "metadata": {},
   "source": [
    "라. 사용자 정의 모듈 만들기\n"
   ]
  },
  {
   "cell_type": "code",
   "execution_count": 17,
   "id": "c8b52356",
   "metadata": {},
   "outputs": [
    {
     "name": "stdout",
     "output_type": "stream",
     "text": [
      "안녕하세요, 철수님!\n"
     ]
    }
   ],
   "source": [
    "#(예시) my_module.py 파일\n",
    "def greet(name):\n",
    "    return f\"안녕하세요, {name}님!\"\n",
    "\n",
    "# 다른 파일에서 사용자 정의 모듈 사용\n",
    "# main.py 파일\n",
    "import my_module\n",
    "result = my_module.greet(\"철수\")\n",
    "print(result)  # 출력: 안녕하세요, 철수님!"
   ]
  },
  {
   "cell_type": "markdown",
   "id": "01f1acff",
   "metadata": {},
   "source": [
    "마. 모듈의 경로 확인하기  \n",
    "sys.modules은 Python이 불러온 모든 모듈을 저장하고 있어 명령을 통해 모듈의 경로를 확인할 수 있음"
   ]
  },
  {
   "cell_type": "code",
   "execution_count": 7,
   "id": "939270ff",
   "metadata": {},
   "outputs": [
    {
     "name": "stdout",
     "output_type": "stream",
     "text": [
      "<module 'math' (built-in)>\n"
     ]
    }
   ],
   "source": [
    "import math\n",
    "import sys\n",
    "print(sys.modules['math'])  # 출력: <module 'math' (built-in)>"
   ]
  },
  {
   "cell_type": "markdown",
   "id": "4a8a4588",
   "metadata": {},
   "source": [
    "바. dir() 함수로 모듈의 함수 및 변수 확인  \n",
    "dir()은 ()모듈이 제공하는 모든 함수와 변수의 목록을 보여줘 모듈 내에서 제공하는 기능들을 한눈에 볼 수 있음"
   ]
  },
  {
   "cell_type": "code",
   "execution_count": 7,
   "id": "da21f65d",
   "metadata": {},
   "outputs": [
    {
     "name": "stdout",
     "output_type": "stream",
     "text": [
      "합계: 7, 곱: 12\n"
     ]
    }
   ],
   "source": [
    "def add(a, b):\n",
    "    return a + b\n",
    "\n",
    "def multiply(a, b):\n",
    "    return a * b\n",
    "\n",
    "def calculate(a, b):\n",
    "    sum_result = add(a, b)         # add 함수 호출\n",
    "    product_result = multiply(a, b)  # multiply 함수 호출\n",
    "    return sum_result, product_result\n",
    "\n",
    "sum_value, product_value = calculate(3, 4)\n",
    "print(f\"합계: {sum_value}, 곱: {product_value}\")  # 합계: 7, 곱: 12"
   ]
  },
  {
   "cell_type": "markdown",
   "id": "4573299b",
   "metadata": {},
   "source": [
    "사. 모듈의 __name__ 속성  \n",
    "모듈이 직접 실행되었는지 또는 다른 모듈에 의해 불러와져(import) 사용되는지 구분할 수 있게 해줌. 모듈이 직접 실행되면 그 모듈의 __name__ 속성은 항상 \"__main__\"으로 설정되고, 불러와질 때 __name__ 속성은 모듈의 이름으로 설정됨"
   ]
  },
  {
   "cell_type": "code",
   "execution_count": 18,
   "id": "35fefa2e",
   "metadata": {},
   "outputs": [
    {
     "name": "stdout",
     "output_type": "stream",
     "text": [
      "안녕하세요!\n"
     ]
    }
   ],
   "source": [
    "#(예시) my_module.py 파일 # 같은 위치에 저장되어야 열림\n",
    "def greet():\n",
    "    print(\"안녕하세요!\")\n",
    "\n",
    "if __name__ == \"__main__\":\n",
    "    greet()  # 직접 실행될 때만 실행됨"
   ]
  },
  {
   "cell_type": "markdown",
   "id": "ca931a16",
   "metadata": {},
   "source": [
    "아. 자주 사용되는 내장 모듈들  \n",
    "Python에는 이미 내장된 표준 라이브러리 모듈들이 많이 있음. 이를 불러와 다양한 작업을 수행할 수 있음 \n"
   ]
  },
  {
   "cell_type": "markdown",
   "id": "9fb1fd64",
   "metadata": {},
   "source": [
    "1) math: 수학 함수 제공  # 예시: math.sqrt(16), math.pi\n",
    "2) random: 난수 생성 및 무작위 선택 기능 제공 # 예시: random.randint(1, 10), random.choice([1, 2, 3])\n",
    "3) datetime: 날짜 및 시간 관련 기능 제공 # 예시: datetime.datetime.now()\n",
    "4) os: 운영체제와 상호작용하는 기능 제공 # 예시: os.getcwd(), os.listdir()\n",
    "5) sys: 파이썬 인터프리터와 상호작용하는 기능 제공 # 예시: sys.exit()\n"
   ]
  }
 ],
 "metadata": {
  "kernelspec": {
   "display_name": "maricecil",
   "language": "python",
   "name": "python3"
  },
  "language_info": {
   "codemirror_mode": {
    "name": "ipython",
    "version": 3
   },
   "file_extension": ".py",
   "mimetype": "text/x-python",
   "name": "python",
   "nbconvert_exporter": "python",
   "pygments_lexer": "ipython3",
   "version": "3.12.5"
  }
 },
 "nbformat": 4,
 "nbformat_minor": 5
}
