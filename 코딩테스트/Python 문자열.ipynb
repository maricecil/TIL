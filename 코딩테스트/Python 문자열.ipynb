{
 "cells": [
  {
   "cell_type": "markdown",
   "metadata": {},
   "source": [
    "# 기초"
   ]
  },
  {
   "cell_type": "markdown",
   "metadata": {},
   "source": [
    "## 문제 1\n",
    "주어진 문자열 s = \"abcdefghij\"에서 인덱스 2부터 5까지의 부분 문자열을 출력하세요."
   ]
  },
  {
   "cell_type": "code",
   "execution_count": 1,
   "metadata": {},
   "outputs": [
    {
     "name": "stdout",
     "output_type": "stream",
     "text": [
      "cdef\n"
     ]
    }
   ],
   "source": [
    "s = \"abcdefghij\"\n",
    "\n",
    "print(s[2:6]) # 2부터 5까지 위치한 문자를 출력"
   ]
  },
  {
   "cell_type": "markdown",
   "metadata": {},
   "source": [
    "## 문제 2\n",
    "문자열 s = \"I love apples\"에서 \"apples\"를 \"bananas\"로 대체하여 출력하세요."
   ]
  },
  {
   "cell_type": "code",
   "execution_count": 2,
   "metadata": {},
   "outputs": [
    {
     "name": "stdout",
     "output_type": "stream",
     "text": [
      "l love bananas\n"
     ]
    }
   ],
   "source": [
    "s = \"l love apples\"\n",
    "\n",
    "result = s.replace(\"apples\", \"bananas\") #replace()를 사용해 대체 출력\n",
    "print(result)"
   ]
  },
  {
   "cell_type": "markdown",
   "metadata": {},
   "source": [
    "## 문제 3\n",
    "문자열 s = \"Find the index of the first 'e' character\"에서 문자 'e'가 처음으로 등장하는 위치의 인덱스를 출력하세요."
   ]
  },
  {
   "cell_type": "code",
   "execution_count": 3,
   "metadata": {},
   "outputs": [
    {
     "name": "stdout",
     "output_type": "stream",
     "text": [
      "7\n"
     ]
    }
   ],
   "source": [
    "s = \"Find the index of the first 'e' character\"\n",
    "\n",
    "print(s.find('e')) #find를 사용해 인덱스 위치를 찾음"
   ]
  },
  {
   "cell_type": "markdown",
   "metadata": {},
   "source": [
    "## 문제 4\n",
    "리스트 lst = ['Python', 'is', 'fun']를 하이픈(-)으로 구분된 하나의 문자열로 결합하여 출력하세요."
   ]
  },
  {
   "cell_type": "code",
   "execution_count": 4,
   "metadata": {},
   "outputs": [
    {
     "name": "stdout",
     "output_type": "stream",
     "text": [
      "Python-is-fun\n"
     ]
    }
   ],
   "source": [
    "lst = ['Python', 'is', 'fun']\n",
    "result = '-'.join(lst)\n",
    "print(result) #join을 사용해 결합된 문자열을 출력"
   ]
  },
  {
   "cell_type": "markdown",
   "metadata": {},
   "source": [
    "## 문제 5\n",
    "문자열 s = \"1234567890\"에서 처음부터 3번째 문자까지와 마지막 3개의 문자를 연결하여 새로운 문자열을 출력하세요."
   ]
  },
  {
   "cell_type": "code",
   "execution_count": 5,
   "metadata": {},
   "outputs": [
    {
     "name": "stdout",
     "output_type": "stream",
     "text": [
      "123890\n"
     ]
    }
   ],
   "source": [
    "s = \"1234567890\"\n",
    "result = s[:3] + s[-3:] # 처음부터 3까지, 끝에서부터 3까지 문자를 추출하여 출력력\n",
    "print(result)"
   ]
  },
  {
   "cell_type": "markdown",
   "metadata": {},
   "source": [
    "## 문제 6\n",
    "문자열 s = \"Hello, World!\"에서 마지막 문자 '!'를 제외한 나머지 문자열을 출력하세요."
   ]
  },
  {
   "cell_type": "code",
   "execution_count": 6,
   "metadata": {},
   "outputs": [
    {
     "name": "stdout",
     "output_type": "stream",
     "text": [
      "Hello, World\n"
     ]
    }
   ],
   "source": [
    "s = \"Hello, World!\"\n",
    "result = s[:-1] # 문자열의 마지막 문자 전까지를 출력력\n",
    "print(result)"
   ]
  },
  {
   "cell_type": "markdown",
   "metadata": {},
   "source": [
    "# 실습"
   ]
  },
  {
   "cell_type": "markdown",
   "metadata": {},
   "source": [
    "## 문제 1\n",
    "주어진 문자열 s = \"Hello, World!\"에서 쉼표(,) 뒤의 문자열만 출력하세요."
   ]
  },
  {
   "cell_type": "code",
   "execution_count": 7,
   "metadata": {},
   "outputs": [
    {
     "name": "stdout",
     "output_type": "stream",
     "text": [
      "World!\n"
     ]
    }
   ],
   "source": [
    "s = \"Hello, World!\"\n",
    "result = s.split(\",\")[1].strip() #문자를 쉼포로 분리하고, [1]을 사용해 두번째 요소인 world를 가져옴\n",
    "print(result) #strip()으로 공백을 제거하여 출력"
   ]
  },
  {
   "cell_type": "markdown",
   "metadata": {},
   "source": [
    "## 문제 2\n",
    "문자열 s = \"python programming\"에서 모든 단어의 첫 글자를 대문자로 변환하여 출력하세요."
   ]
  },
  {
   "cell_type": "code",
   "execution_count": 8,
   "metadata": {},
   "outputs": [
    {
     "name": "stdout",
     "output_type": "stream",
     "text": [
      "Python Programming\n"
     ]
    }
   ],
   "source": [
    "s = \"python programming\"\n",
    "result = s.title() #title()로 문자열의 첫 글자를 대문자로 변환하요 츌룍\n",
    "print(result)"
   ]
  },
  {
   "cell_type": "markdown",
   "metadata": {},
   "source": [
    "## 문제 3\n",
    "주어진 문자열 s = \"Python is fun\"에서 공백을 기준으로 단어들을 분리하여 리스트로 반환하세요."
   ]
  },
  {
   "cell_type": "code",
   "execution_count": 9,
   "metadata": {},
   "outputs": [
    {
     "name": "stdout",
     "output_type": "stream",
     "text": [
      "['Python', 'is', 'fun']\n"
     ]
    }
   ],
   "source": [
    "s = \"Python is fun\"\n",
    "words = s.split() #split()으로 공백 기준으로 분리하여 출력\n",
    "print(words)"
   ]
  },
  {
   "cell_type": "markdown",
   "metadata": {},
   "source": [
    "## 문제 4\n",
    "주어진 문자열 s = \"Data Science\"를 거꾸로 뒤집어서 출력하세요."
   ]
  },
  {
   "cell_type": "code",
   "execution_count": 10,
   "metadata": {},
   "outputs": [
    {
     "name": "stdout",
     "output_type": "stream",
     "text": [
      "ecneicS ataD\n"
     ]
    }
   ],
   "source": [
    "s = \"Data Science\"\n",
    "reversed_s = s[::-1] #슬라이싱을 사용해 문자열을 뒤집어 출력\n",
    "print(reversed_s)"
   ]
  },
  {
   "cell_type": "markdown",
   "metadata": {},
   "source": [
    "## 문제 5\n",
    "문자열 s = \" OpenAI \"에서 양쪽 공백을 제거하고, 모든 문자를 대문자로 변환하여 출력하세요."
   ]
  },
  {
   "cell_type": "code",
   "execution_count": 11,
   "metadata": {},
   "outputs": [
    {
     "name": "stdout",
     "output_type": "stream",
     "text": [
      "OPENAI\n"
     ]
    }
   ],
   "source": [
    "s = \"   OpenAI   \"\n",
    "result = s.strip().upper() #strip()으로 공백제거, upper()로 모든 문자를 대문자로 변환해 출력\n",
    "print(result)"
   ]
  },
  {
   "cell_type": "markdown",
   "metadata": {},
   "source": [
    "## 문제 6\n",
    "사용자에게 이메일 주소를 입력받아, 아이디 부분과 도메인 부분을 분리하여 출력하세요."
   ]
  },
  {
   "cell_type": "raw",
   "metadata": {},
   "source": [
    "입력 : \n",
    "\n",
    "이메일 주소를 입력하세요 : spartacodingAI@naver.com"
   ]
  },
  {
   "cell_type": "raw",
   "metadata": {},
   "source": [
    "출력 : \n",
    "\n",
    "아이디 : spartacodingAI\n",
    "도메인 : naver.com"
   ]
  },
  {
   "cell_type": "code",
   "execution_count": null,
   "metadata": {},
   "outputs": [
    {
     "name": "stdout",
     "output_type": "stream",
     "text": [
      "아이디: random\n",
      "도메인: random.com\n"
     ]
    }
   ],
   "source": [
    "email = input(\"이메일 주소를 입력하세요: \") #input으로 입력받아\n",
    "username, domain = email.split(\"@\") #split(\"@\")를 기준으로 도메인을 분리하여 출력\n",
    "print(f\"아이디: {username}\")\n",
    "print(f\"도메인: {domain}\")"
   ]
  },
  {
   "cell_type": "markdown",
   "metadata": {},
   "source": [
    "## 문제 7\n",
    "문자열 s = \"abcdefg\"에서 인덱스가 홀수인 문자들만 출력하세요."
   ]
  },
  {
   "cell_type": "code",
   "execution_count": 14,
   "metadata": {},
   "outputs": [
    {
     "name": "stdout",
     "output_type": "stream",
     "text": [
      "bdf\n"
     ]
    }
   ],
   "source": [
    "s = \"abcdefg\"\n",
    "result = s[1::2] # 인덱스 1부터 시작해 2씩 증가한 위치의 문자를 출력함\n",
    "print(result)"
   ]
  },
  {
   "cell_type": "markdown",
   "metadata": {},
   "source": [
    "# 심화\n",
    "반복문, 조건문 등 사용"
   ]
  },
  {
   "cell_type": "markdown",
   "metadata": {},
   "source": [
    "## 문제 1\n",
    "문자열 s = \"The quick brown fox\"에서 모음('a', 'e', 'i', 'o', 'u')을 모두 제거한 새로운 문자열을 출력하세요."
   ]
  },
  {
   "cell_type": "code",
   "execution_count": 15,
   "metadata": {},
   "outputs": [
    {
     "name": "stdout",
     "output_type": "stream",
     "text": [
      "Th qck brwn fx\n"
     ]
    }
   ],
   "source": [
    "s = \"The quick brown fox\"\n",
    "vowels = \"aeiouAEIOU\" # 변수에 대소문자 모음을 저장함\n",
    "result = ''.join(char for char in s if char not in vowels) #모음이 아닌 문자들만 선택하고, join()함수를 사용해 하나의 문자열로 합침\n",
    "print(result)"
   ]
  },
  {
   "cell_type": "code",
   "execution_count": 16,
   "metadata": {},
   "outputs": [
    {
     "name": "stdout",
     "output_type": "stream",
     "text": [
      "Th qck brwn fx\n"
     ]
    }
   ],
   "source": [
    "s = \"The quick brown fox\"\n",
    "vowels = \"aeiouAEIOU\"\n",
    "answer = ''\n",
    "\n",
    "for char in s:\n",
    "    if char not in vowels:\n",
    "        answer += char\n",
    "\n",
    "print(answer)"
   ]
  },
  {
   "cell_type": "markdown",
   "metadata": {},
   "source": [
    "## 문제 2 (digit 함수 사용)\n",
    "주어진 문자열 s = \"Hello123World456\"에서 문자열에 포함된 모든 숫자들을 추출하여 리스트로 만드세요."
   ]
  },
  {
   "cell_type": "code",
   "execution_count": 17,
   "metadata": {},
   "outputs": [
    {
     "name": "stdout",
     "output_type": "stream",
     "text": [
      "['1', '2', '3', '4', '5', '6']\n"
     ]
    }
   ],
   "source": [
    "s = \"Hello123World456\"\n",
    "numbers = [char for char in s if char.isdigit()] #isdigit()으로 숫자인지 확인하고, 숫자인 문자만 리스트에 추가해 출력함\n",
    "print(numbers)"
   ]
  },
  {
   "cell_type": "markdown",
   "metadata": {},
   "source": [
    "## 문제 3 (끝판왕)\n",
    "주어진 문자열 s = \"aaabbbcccaaa\"에서 각 문자와 그 연속된 개수를 출력하여 \"a3b3c3a3\" 형태의 새로운 문자열을 만드세요."
   ]
  },
  {
   "cell_type": "code",
   "execution_count": 18,
   "metadata": {},
   "outputs": [
    {
     "name": "stdout",
     "output_type": "stream",
     "text": [
      "a3b3c3a3\n"
     ]
    }
   ],
   "source": [
    "s = \"aaabbbcccaaa\"\n",
    "result = \"\"\n",
    "count = 1\n",
    "for i in range(1, len(s)): # 문자열을 순회하면서 이전 문자를 비교함\n",
    "    if s[i] == s[i-1]:\n",
    "        count += 1 # 같은 경우 count를 증가시키고\n",
    "    else:\n",
    "        result += s[i-1] + str(count)\n",
    "        count = 1 # 다른 경우 result에 이전 문자와 count를 추가시킴\n",
    "result += s[-1] + str(count)  # 마지막 문자까지 처리되도록 루프 종료 후에도 추가 작업 실시함\n",
    "print(result)"
   ]
  }
 ],
 "metadata": {
  "kernelspec": {
   "display_name": "maricecil",
   "language": "python",
   "name": "python3"
  },
  "language_info": {
   "codemirror_mode": {
    "name": "ipython",
    "version": 3
   },
   "file_extension": ".py",
   "mimetype": "text/x-python",
   "name": "python",
   "nbconvert_exporter": "python",
   "pygments_lexer": "ipython3",
   "version": "3.12.5"
  }
 },
 "nbformat": 4,
 "nbformat_minor": 2
}
