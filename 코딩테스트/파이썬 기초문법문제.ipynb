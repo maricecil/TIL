{
 "cells": [
  {
   "cell_type": "markdown",
   "id": "de35ff30",
   "metadata": {},
   "source": [
    "문제 1: 두 숫자의 합  \n",
    "두 개의 정수를 입력으로 받아 그 합을 반환하는 함수를 작성하세요."
   ]
  },
  {
   "cell_type": "code",
   "execution_count": 12,
   "id": "7ea214c7-d7c8-4810-a31b-978633a0c58e",
   "metadata": {},
   "outputs": [
    {
     "name": "stdout",
     "output_type": "stream",
     "text": [
      "8\n"
     ]
    }
   ],
   "source": [
    "a = 3\n",
    "b = 5\n",
    "def sum_two_numbers(a, b):\n",
    "    return a + b\n",
    "print(sum_two_numbers(3, 5))\n",
    "# Input: a = 3, b = 5\n",
    "# Output: 8"
   ]
  },
  {
   "cell_type": "markdown",
   "id": "57eeeb1e",
   "metadata": {},
   "source": [
    "문제 2: 짝수 또는 홀수 확인  \n",
    "숫자가 짝수인지 홀수인지 확인하는 함수를 작성하세요. 함수는 '짝수' 또는 '홀수'를 반환해야 합니다."
   ]
  },
  {
   "cell_type": "code",
   "execution_count": 18,
   "id": "ab054d88",
   "metadata": {},
   "outputs": [
    {
     "name": "stdout",
     "output_type": "stream",
     "text": [
      "Odd\n"
     ]
    }
   ],
   "source": [
    "n = 7  # Input: n = 7\n",
    "def check_even_or_odd(n):\n",
    "    return 'Even' if n % 2 == 0 else 'Odd'\n",
    "print(check_even_or_odd(7))  # Output: 'Odd'\n"
   ]
  },
  {
   "cell_type": "markdown",
   "id": "2f7e9c7c",
   "metadata": {},
   "source": [
    "문제 3: 목록에서 최대값 찾기  \n",
    "정수 목록을 받아 최대값을 반환하는 함수를 작성하세요."
   ]
  },
  {
   "cell_type": "code",
   "execution_count": 24,
   "id": "c8b52356",
   "metadata": {},
   "outputs": [
    {
     "name": "stdout",
     "output_type": "stream",
     "text": [
      "4\n"
     ]
    }
   ],
   "source": [
    "lst=[1,2,3,4]  # Input: lst = [1, 2, 3, 4]\n",
    "def find_maximum(lst):\n",
    "    return max(lst)\n",
    "print(find_maximum(lst))  # Output: 4"
   ]
  },
  {
   "cell_type": "markdown",
   "id": "01f1acff",
   "metadata": {},
   "source": [
    "문제 4: 문자열에서 모음 수 세기  \n",
    "주어진 문자열(a, e, i, o, u)에서 모음 수를 세는 함수를 작성하세요."
   ]
  },
  {
   "cell_type": "code",
   "execution_count": 47,
   "id": "19fb4698",
   "metadata": {},
   "outputs": [
    {
     "name": "stdout",
     "output_type": "stream",
     "text": [
      "2\n"
     ]
    }
   ],
   "source": [
    "s=\"hello\"\n",
    "def count_vowels(s):\n",
    "    vowels = \"aeiou\"\n",
    "    count = 0  # 모음의 개수를 세기 위한 변수 초기화 (초기값은 0)\n",
    "    for char in s.lower(): # 문자열 s의 모든 문자를 소문자로 변환하여 반복\n",
    "        if char in vowels:  # 현재 문자가 모음 목록에 있는지 확인\n",
    "            count += 1  # 만약 모음이라면 count 값을 1 증가\n",
    "    return count\n",
    "print(count_vowels(s))"
   ]
  },
  {
   "cell_type": "markdown",
   "id": "4a8a4588",
   "metadata": {},
   "source": [
    "문제 5: 목록 뒤집기  \n",
    "목록을 받아서 요소가 반전된 새 목록을 반환하는 함수를 작성하세요."
   ]
  },
  {
   "cell_type": "code",
   "execution_count": 49,
   "id": "b9dcf8f2",
   "metadata": {},
   "outputs": [
    {
     "name": "stdout",
     "output_type": "stream",
     "text": [
      "[6, 5, 4, 3, 2, 1]\n"
     ]
    }
   ],
   "source": [
    "lst=[1,2,3,4,5,6] #리스트\n",
    "def reverse_list(lst):\n",
    "    return lst[::-1]  # '-1'로 목록의 뒤로 이동해 요소 순서를 반대로 지정\n",
    "print(reverse_list(lst))"
   ]
  },
  {
   "cell_type": "markdown",
   "id": "ce9cb578",
   "metadata": {},
   "source": [
    "#추가활용"
   ]
  },
  {
   "cell_type": "code",
   "execution_count": 50,
   "id": "cea4d3b9",
   "metadata": {},
   "outputs": [
    {
     "name": "stdout",
     "output_type": "stream",
     "text": [
      "[1, 3, 5]\n"
     ]
    }
   ],
   "source": [
    "lst=[1,2,3,4,5,6]\n",
    "def sliced_list(lst):\n",
    "    return lst[::2]  # '0'번째인 1에서 시작해 2칸씩 건너뜀\n",
    "print(sliced_list(lst))"
   ]
  },
  {
   "cell_type": "code",
   "execution_count": 58,
   "id": "eeaf8cb3",
   "metadata": {},
   "outputs": [
    {
     "name": "stdout",
     "output_type": "stream",
     "text": [
      "[1, 2, 3, 4, 5, 6]\n"
     ]
    }
   ],
   "source": [
    "lst=[1,2,3,4,5,6]  \n",
    "def copied_lst(lst):\n",
    "    return lst[:]  # 시퀀스 전체를 복사함\n",
    "print(copied_lst(lst))  \n"
   ]
  },
  {
   "cell_type": "markdown",
   "id": "ca931a16",
   "metadata": {},
   "source": [
    "문제 6: 회문 검사  \n",
    "주어진 문자열이 회문인지 확인하는 함수를 작성하세요(앞으로 읽어도 뒤로 읽어도 동일함)."
   ]
  },
  {
   "cell_type": "code",
   "execution_count": 61,
   "id": "53705422",
   "metadata": {},
   "outputs": [
    {
     "name": "stdout",
     "output_type": "stream",
     "text": [
      "True\n"
     ]
    }
   ],
   "source": [
    "s=\"madam\"  # 문자열\n",
    "def is_palindrome(s):\n",
    "    return s == s[::-1]  # 반전\n",
    "print(is_palindrome(s))"
   ]
  },
  {
   "cell_type": "markdown",
   "id": "0327aaca",
   "metadata": {},
   "source": [
    "문제 7: 계승  \n",
    "정수를 받아서 계승값을 반환하는 함수를 작성하세요."
   ]
  },
  {
   "cell_type": "code",
   "execution_count": 62,
   "id": "f342e360",
   "metadata": {},
   "outputs": [
    {
     "name": "stdout",
     "output_type": "stream",
     "text": [
      "120\n"
     ]
    }
   ],
   "source": [
    "n=5\n",
    "def factorial(n):  # factorial(n)은 n까지 증가하는 숫자들을 모두 곱한다는 뜻임\n",
    "    result = 1  # 초기값을 1로 설정\n",
    "    for i in range(1, n + 1):  # 1부터 5까지 범위 지정 \n",
    "        result *= i  # 1*2*3*4*5=120\n",
    "    return result\n",
    "print(factorial(n)) "
   ]
  },
  {
   "cell_type": "markdown",
   "id": "2ccf659d",
   "metadata": {},
   "source": [
    "문제 8: max()를 사용하지 않고 목록에서 가장 큰 숫자 찾기  \n",
    "Python에 내장된 max() 함수를 사용하지 않고 주어진 목록에서 가장 큰 숫자를 반환하는 함수를 작성하세요."
   ]
  },
  {
   "cell_type": "code",
   "execution_count": 1,
   "id": "a5c46bc0",
   "metadata": {},
   "outputs": [
    {
     "name": "stdout",
     "output_type": "stream",
     "text": [
      "7\n"
     ]
    }
   ],
   "source": [
    "lst=[3,7,2,5]\n",
    "def find_max(lst):\n",
    "    largest = lst[0]  # largest라는 변수를 리스트의 첫번쨰 요소인 3으로 초기화\n",
    "    for num in lst:\n",
    "        if num > largest:\n",
    "            largest = num  # 3보다 큰 값일 경우에만 num값으로 업데이\n",
    "    return largest  # 가장 큰 값 반환\n",
    "print(find_max(lst))"
   ]
  },
  {
   "cell_type": "markdown",
   "id": "b0b75320",
   "metadata": {},
   "source": [
    "문제 9: FizzBuzz  \n",
    "1부터 n까지의 숫자를 출력하는 함수를 작성하세요. 3의 배수이면 \"Fizz\"를 인쇄하고, 5의 배수이면 \"Buzz\"를 인쇄하고, 3과 5의 배수이면 \"FizzBuzz\"를 인쇄합니다."
   ]
  },
  {
   "cell_type": "code",
   "execution_count": 7,
   "id": "06dfcbb5",
   "metadata": {},
   "outputs": [
    {
     "name": "stdout",
     "output_type": "stream",
     "text": [
      "1\n",
      "2\n",
      "Fizz\n",
      "4\n",
      "Buzz\n",
      "Fizz\n",
      "7\n",
      "8\n",
      "Fizz\n",
      "Buzz\n",
      "11\n",
      "Fizz\n",
      "13\n",
      "14\n",
      "FizzBuzz\n",
      "None\n"
     ]
    }
   ],
   "source": [
    "n=15\n",
    "def fizz_buzz(n):\n",
    "    for i in range(1, n + 1): # 1부터 n, 15까지의 숫자를 순회\n",
    "        if i % 3 == 0 and i % 5 == 0:  # 현재 숫자(15)가 3과 5로 나누어 떨어지면\n",
    "            print(\"FizzBuzz\")  # FizzBuzz출력\n",
    "        elif i % 3 == 0:  # 그렇지 않고 3으로 나눠 떨어지면\n",
    "            print(\"Fizz\")  # fizz출력\n",
    "        elif i % 5 == 0:  \n",
    "            print(\"Buzz\")\n",
    "        else:  # 그 나머지의 경우에는\n",
    "            print(i)  # 현재 숫자를 그대로 출력\n",
    "print(fizz_buzz(n))"
   ]
  },
  {
   "cell_type": "markdown",
   "id": "da71ede3",
   "metadata": {},
   "source": [
    "문제 10: 목록에서 중복 항목 제거  \n",
    "목록을 가져와 모든 중복 요소가 제거된 새 목록을 반환하는 함수를 작성하세요."
   ]
  },
  {
   "cell_type": "code",
   "execution_count": 8,
   "id": "de729f7c",
   "metadata": {},
   "outputs": [
    {
     "name": "stdout",
     "output_type": "stream",
     "text": [
      "[1, 2, 3, 4, 5]\n"
     ]
    }
   ],
   "source": [
    "lst=[1,2,2,3,4,4,5]\n",
    "def remove_duplicates(lst):  # 리스트에서 중복을 제거하는 함수\n",
    "    return list(set(lst))  # 중복이 제거된 값을 리스트로 반환\n",
    "print(remove_duplicates(lst))"
   ]
  }
 ],
 "metadata": {
  "kernelspec": {
   "display_name": "maricecil",
   "language": "python",
   "name": "python3"
  },
  "language_info": {
   "codemirror_mode": {
    "name": "ipython",
    "version": 3
   },
   "file_extension": ".py",
   "mimetype": "text/x-python",
   "name": "python",
   "nbconvert_exporter": "python",
   "pygments_lexer": "ipython3",
   "version": "3.12.5"
  }
 },
 "nbformat": 4,
 "nbformat_minor": 5
}
