{
 "cells": [
  {
   "cell_type": "markdown",
   "id": "de35ff30",
   "metadata": {},
   "source": [
    "1. 문자열 출력하기  \n",
    "문자열 str이 주어졌을 때 str을 출력하시오. "
   ]
  },
  {
   "cell_type": "code",
   "execution_count": 2,
   "id": "7ea214c7-d7c8-4810-a31b-978633a0c58e",
   "metadata": {},
   "outputs": [
    {
     "name": "stdout",
     "output_type": "stream",
     "text": [
      "HelloWorld!\n"
     ]
    }
   ],
   "source": [
    "str=\"HelloWorld!\"\n",
    "print(str)\n"
   ]
  },
  {
   "cell_type": "markdown",
   "id": "57eeeb1e",
   "metadata": {},
   "source": [
    "2. a와 b 출력  \n",
    "정수(int) a와 b가 주어졌을 때 아래와 같이 출력하시오.  \n",
    "a = 4   \n",
    "b = 5"
   ]
  },
  {
   "cell_type": "code",
   "execution_count": 4,
   "id": "ab054d88",
   "metadata": {},
   "outputs": [
    {
     "name": "stdout",
     "output_type": "stream",
     "text": [
      "a=4\n",
      "b=5\n"
     ]
    }
   ],
   "source": [
    "a = 4\n",
    "b = 5\n",
    "print(f'a={a}')\n",
    "print(f'b={b}')"
   ]
  },
  {
   "cell_type": "markdown",
   "id": "2f7e9c7c",
   "metadata": {},
   "source": [
    "3. 문자열 반복 출력  \n",
    "str과 n이 주어졌을 때, str과 n을 반복 출력하시오."
   ]
  },
  {
   "cell_type": "code",
   "execution_count": 6,
   "id": "c8b52356",
   "metadata": {},
   "outputs": [
    {
     "name": "stdout",
     "output_type": "stream",
     "text": [
      "stringstringstringstringstring\n"
     ]
    }
   ],
   "source": [
    "str = \"string\"\n",
    "n = 5\n",
    "result=str * n\n",
    "print(result)"
   ]
  },
  {
   "cell_type": "markdown",
   "id": "01f1acff",
   "metadata": {},
   "source": [
    "4. 대소문자 바꿔서 출력  \n",
    "영어 알파벳 str이 주어졌을 때, 대문자는 소문자로, 소문자는 대문자로 변환해 출력하시오."
   ]
  },
  {
   "cell_type": "code",
   "execution_count": 8,
   "id": "19fb4698",
   "metadata": {},
   "outputs": [
    {
     "name": "stdout",
     "output_type": "stream",
     "text": [
      "AbCdEfG\n"
     ]
    }
   ],
   "source": [
    "str=\"aBcDeFg\"\n",
    "result=str.swapcase()\n",
    "print(result)"
   ]
  },
  {
   "cell_type": "markdown",
   "id": "4a8a4588",
   "metadata": {},
   "source": [
    "5. 특수문자 출력  \n",
    "!@#$%^&*(\\'\"<>?:; 을 출력하시오."
   ]
  },
  {
   "cell_type": "code",
   "execution_count": null,
   "id": "b9dcf8f2",
   "metadata": {},
   "outputs": [
    {
     "name": "stdout",
     "output_type": "stream",
     "text": [
      "!@#$%^&*(\\'\"<>?:;\n"
     ]
    }
   ],
   "source": [
    "print(\"!@#$%^&*(\\\\'\\\"<>?:;\")\n",
    "# 특수문자 '와 \" 의 출력을 위해서는 특수문자 앞에 \\백슬래시를 넣어줘야 함"
   ]
  },
  {
   "cell_type": "markdown",
   "id": "ce9cb578",
   "metadata": {},
   "source": [
    "6. 덧셈식 출력하기  \n",
    "int가 주어질 때 str 4 + 5 = 9를 출력하시오."
   ]
  },
  {
   "cell_type": "code",
   "execution_count": 10,
   "id": "cea4d3b9",
   "metadata": {},
   "outputs": [
    {
     "name": "stdout",
     "output_type": "stream",
     "text": [
      "4 + 5 = 9\n"
     ]
    }
   ],
   "source": [
    "a = 4\n",
    "b = 5\n",
    "result = a + b\n",
    "print(f\"{a} + {b} = {result}\")"
   ]
  },
  {
   "cell_type": "markdown",
   "id": "ca931a16",
   "metadata": {},
   "source": [
    "7. str이 공백으로 구분되어 주어질 때 공백을 제거하여 출력하시오."
   ]
  },
  {
   "cell_type": "code",
   "execution_count": 4,
   "id": "53705422",
   "metadata": {},
   "outputs": [
    {
     "name": "stdout",
     "output_type": "stream",
     "text": [
      "applepenHelloWorld!\n"
     ]
    }
   ],
   "source": [
    "str_1 = \"apple pen\"\n",
    "str_2 = \"Hello World!\"\n",
    "\n",
    "# str_1에서 공백을 제거하고, str_2에서 공백을 제거하여 이어붙이기\n",
    "str_1 = str_1.replace(' ', '')  # 'apple pen' -> 'applepen'\n",
    "str_2 = str_2.replace(' ', '')  # 'Hello World!' -> 'HelloWorld!'\n",
    "\n",
    "# 두 문자열을 이어서 출력\n",
    "print(str_1 + str_2)"
   ]
  },
  {
   "cell_type": "markdown",
   "id": "3b702020",
   "metadata": {},
   "source": [
    "8. 주어진 str을 세로열로 출력하시오."
   ]
  },
  {
   "cell_type": "code",
   "execution_count": 1,
   "id": "c7f7c6f9",
   "metadata": {},
   "outputs": [
    {
     "name": "stdout",
     "output_type": "stream",
     "text": [
      "a\n",
      "b\n",
      "c\n",
      "d\n",
      "e\n"
     ]
    }
   ],
   "source": [
    "str=\"abcde\"\n",
    "print('\\n'.join(str))  #'\\n'으로 줄바꿈 후 str을 합쳐서 출력"
   ]
  },
  {
   "cell_type": "markdown",
   "id": "4aadbc10",
   "metadata": {},
   "source": [
    "9. 자연수 n이 입력으로 주어졌을 때 짝수이면 \"n is even\"을, 홀수이면 \"n is odd\"를 출력하시오."
   ]
  },
  {
   "cell_type": "code",
   "execution_count": 3,
   "id": "49f011ce",
   "metadata": {},
   "outputs": [
    {
     "name": "stdout",
     "output_type": "stream",
     "text": [
      "100 is even\n"
     ]
    }
   ],
   "source": [
    "a = int(input())\n",
    "if a % 2 == 0:\n",
    "    print(f'{a} is even')\n",
    "else:\n",
    "    print(f'{a} is odd')"
   ]
  },
  {
   "cell_type": "markdown",
   "id": "18ced4d6",
   "metadata": {},
   "source": [
    "10. 문자열 my_string, overwrite_string과 정수 s가 주어졌습니다. 문자열 my_string의 인덱스 s부터 overwrite_string의 길이만큼을 문자열 overwrite_string으로 바꾼 문자열을 return 하는 solution 함수를 작성해 주세요."
   ]
  },
  {
   "cell_type": "code",
   "execution_count": 14,
   "id": "f449bc38",
   "metadata": {},
   "outputs": [
    {
     "name": "stdout",
     "output_type": "stream",
     "text": [
      "Hello, everyone\n"
     ]
    }
   ],
   "source": [
    "my_string = \"Hello, world!\"\n",
    "overwrite_string = \"everyone\"\n",
    "s = 7\n",
    "\n",
    "def solution(my_string, overwrite_string, s):\n",
    "    # my_string[:s]를 통해 인덱스 s 이전의 모든 문자들을 가져옵니다. \n",
    "    # overwrite_string은 s부터 시작하는 부분을 덮어쓰게 됩니다.\n",
    "    # my_string[s+len(overwrite_string):]은 overwrite_string이 끝난 후 나머지 부분을 가져옵니다.\n",
    "    answer = my_string[:s] + overwrite_string + my_string[s+len(overwrite_string):]\n",
    "    \n",
    "    # 최종적으로 새로운 문자열을 반환합니다.\n",
    "    return answer\n",
    "\n",
    "result = solution(my_string, overwrite_string, s)\n",
    "print(result) "
   ]
  },
  {
   "cell_type": "markdown",
   "id": "acaa2aea",
   "metadata": {},
   "source": [
    "11. 길이가 같은 문자열 str1, str2이 주어질 때 각 문자가 앞에서부터 번걸아가며 한 번씩 등장하는 문자열을 만들어 return하는 solution함수를 만드시오."
   ]
  },
  {
   "cell_type": "code",
   "execution_count": 8,
   "id": "124b7d24",
   "metadata": {},
   "outputs": [
    {
     "name": "stdout",
     "output_type": "stream",
     "text": [
      "adbecf\n"
     ]
    }
   ],
   "source": [
    "def solution(str1, str2):\n",
    "    result = ''  # 결과를 저장할 빈 문자열을 초기화\n",
    "    # str1의 길이만큼 반복문을 실행하여, 두 문자열에서 각각 한 글자씩 번갈아가며 result에 추가합니다(solution).\n",
    "    for i in range(len(str1)):\n",
    "        result += str1[i] + str2[i]  # str1[i]와 str2[i]를 번갈아가며 더합니다.\n",
    "    return result  # 최종적으로 완성된 문자열 result를 반환합니다.\n",
    "\n",
    "print(solution(\"abc\", \"def\"))"
   ]
  },
  {
   "cell_type": "markdown",
   "id": "fa0c5b9e",
   "metadata": {},
   "source": [
    "12. 문자들이 담긴 arr을 순서대로 이어붙인 문자열을 return하는 solution함수를 작성하시오."
   ]
  },
  {
   "cell_type": "code",
   "execution_count": 9,
   "id": "107488b2",
   "metadata": {},
   "outputs": [
    {
     "name": "stdout",
     "output_type": "stream",
     "text": [
      "abc\n"
     ]
    }
   ],
   "source": [
    "def solution(arr):\n",
    "    result = ''  # 결과를 저장할 빈 문자열을 초기화\n",
    "    # arr 리스트에 있는 각 요소에 대해 반복\n",
    "    for a in arr:\n",
    "        result += a  # 리스트의 각 요소를 result 문자열에 추가\n",
    "    return result  # 최종적으로 생성된 문자열 result를 반환\n",
    "\n",
    "print(solution([\"a\",\"b\",\"c\"]))  # 출력: \"abc\""
   ]
  },
  {
   "cell_type": "markdown",
   "id": "adeed7a9",
   "metadata": {},
   "source": [
    "13. 문자열 my_string과 정수 k가 주어질 때 문자열을 k번 반복하여 return하는 solution을 작성하시오. "
   ]
  },
  {
   "cell_type": "code",
   "execution_count": 10,
   "id": "5777571b",
   "metadata": {},
   "outputs": [
    {
     "name": "stdout",
     "output_type": "stream",
     "text": [
      "lovelovelove\n"
     ]
    }
   ],
   "source": [
    "def solution(my_string, k):\n",
    "    return my_string * k\n",
    "print(solution(\"love\", 3))"
   ]
  }
 ],
 "metadata": {
  "kernelspec": {
   "display_name": "maricecil",
   "language": "python",
   "name": "python3"
  },
  "language_info": {
   "codemirror_mode": {
    "name": "ipython",
    "version": 3
   },
   "file_extension": ".py",
   "mimetype": "text/x-python",
   "name": "python",
   "nbconvert_exporter": "python",
   "pygments_lexer": "ipython3",
   "version": "3.12.5"
  }
 },
 "nbformat": 4,
 "nbformat_minor": 5
}
