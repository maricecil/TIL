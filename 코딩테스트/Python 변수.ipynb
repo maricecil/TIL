{
 "cells": [
  {
   "cell_type": "markdown",
   "metadata": {},
   "source": [
    "## 문제 1\n",
    "다음 코드의 출력 결과를 예측해보세요."
   ]
  },
  {
   "cell_type": "raw",
   "metadata": {
    "vscode": {
     "languageId": "raw"
    }
   },
   "source": [
    "x = 5\n",
    "y = x\n",
    "x = 10\n",
    "print(y)"
   ]
  },
  {
   "cell_type": "markdown",
   "metadata": {},
   "source": [
    "만약 y도 x와 같이 최신화된 x의 값을 가지려면 어떻게 해야할까요?  \n",
    "- int(정수형) 불변(immutable)하기 때문에 값이 변경되지 않으므로(문자열, 튜플) 새롭게 정의해야합니다.\n",
    "- 불변하지 않은 객체(mutable)는 값이 변경될 수 있습니다. (리스트, 딕셔너리, 집합)\n",
    "- 클래스를 사용해서 속성을 공유할 수 있고, 함수를 사용해 동적으로 값을 가져올 수 있습니다.\n"
   ]
  },
  {
   "cell_type": "code",
   "execution_count": null,
   "metadata": {},
   "outputs": [
    {
     "name": "stdout",
     "output_type": "stream",
     "text": [
      "10\n"
     ]
    }
   ],
   "source": [
    "x = 5 # x라는 변수에 5라는 값 할당\n",
    "y = x # y라는 변수에 x라는 5의 값 할당\n",
    "x = 10 # x라는 변수에 10이라는 값 새롭게 할당되었으므로\n",
    "y = x # y라는 변수에 x라는 10의 값 할당\n",
    "print(y)"
   ]
  },
  {
   "cell_type": "code",
   "execution_count": 8,
   "metadata": {},
   "outputs": [
    {
     "name": "stdout",
     "output_type": "stream",
     "text": [
      "10\n"
     ]
    }
   ],
   "source": [
    "x = [5, 15]\n",
    "y = x # x라는 리스트를 y라는 변수에 할당\n",
    "x[1] = 10 # x라는 리스트의 첫번째 원소를 10으로 변경\n",
    "print(y[1])"
   ]
  },
  {
   "cell_type": "markdown",
   "metadata": {},
   "source": [
    "## 문제 1-2\n",
    "변수 a, b, c에 각각 1, 2, 3을 한 줄의 코드로 동시에 할당하는 코드를 작성하세요."
   ]
  },
  {
   "cell_type": "code",
   "execution_count": 7,
   "metadata": {},
   "outputs": [
    {
     "name": "stdout",
     "output_type": "stream",
     "text": [
      "1 2 3\n"
     ]
    }
   ],
   "source": [
    "a, b, c = 1, 2, 3 # a, b, c라는 변수에 각각 1, 2, 3이라는 값 할당\n",
    "print(a, b, c)"
   ]
  },
  {
   "cell_type": "markdown",
   "metadata": {},
   "source": [
    "## 문제 2\n",
    "변수 a와 b에 각각 10과 20을 할당하고, 두 변수의 값을 서로 교환하는 코드를 작성하세요."
   ]
  },
  {
   "cell_type": "raw",
   "metadata": {
    "vscode": {
     "languageId": "raw"
    }
   },
   "source": [
    "출력 결과 : \n",
    "\n",
    "교환 후 a의 값: 20\n",
    "교환 후 b의 값: 10"
   ]
  },
  {
   "cell_type": "code",
   "execution_count": 11,
   "metadata": {},
   "outputs": [
    {
     "name": "stdout",
     "output_type": "stream",
     "text": [
      "20 10\n",
      "교환 후 a의 값: 20\n",
      "교환 후 b의 값: 10\n"
     ]
    }
   ],
   "source": [
    "a, b = 10, 20\n",
    "a, b = b, a # a, b라는 변수의 값이 서로 바뀜\n",
    "print(a, b)\n",
    "print(\"교환 후 a의 값:\", a)\n",
    "print(\"교환 후 b의 값:\", b)"
   ]
  },
  {
   "cell_type": "markdown",
   "metadata": {},
   "source": [
    "## 문제 3\n",
    "다음 코드에서 변수 result의 데이터 타입은 무엇인지 예측해보세요"
   ]
  },
  {
   "cell_type": "raw",
   "metadata": {
    "vscode": {
     "languageId": "raw"
    }
   },
   "source": [
    "a = 10\n",
    "b = 3.5\n",
    "result = a + b"
   ]
  },
  {
   "cell_type": "code",
   "execution_count": 13,
   "metadata": {},
   "outputs": [
    {
     "name": "stdout",
     "output_type": "stream",
     "text": [
      "<class 'float'>\n",
      "13.5\n"
     ]
    }
   ],
   "source": [
    "a = 10\n",
    "b = 3.5\n",
    "result = a + b\n",
    "print(type(result))\n",
    "print(result)"
   ]
  },
  {
   "cell_type": "markdown",
   "metadata": {},
   "source": [
    "## 문제 4\n",
    "변수 이름으로 사용할 수 없는 것을 모두 고르세요."
   ]
  },
  {
   "cell_type": "raw",
   "metadata": {
    "vscode": {
     "languageId": "raw"
    }
   },
   "source": [
    "1. my_var\n",
    "2. 1st_place\n",
    "3. total$\n",
    "4. _count\n",
    "5. for"
   ]
  },
  {
   "cell_type": "markdown",
   "metadata": {},
   "source": [
    "1. my_var 가능\n",
    "2. 1st_place 시작을 숫자로 x\n",
    "3. total$ 변수 이름에 $ 특수문자 x\n",
    "4. _count 가능\n",
    "5. for 예약어 if x  \n",
    "변수명은 밑줄과 영문자로 시작하되, 영문자/숫자/밑줄로만 구성될 수 있다."
   ]
  },
  {
   "cell_type": "markdown",
   "metadata": {},
   "source": [
    "## 문제 5\n",
    "사용자로부터 두 개의 정수를 입력받아 변수 num1과 num2에 저장하고, 두 숫자의 곱셈과 나눗셈의 결과를 출력하는 코드를 작성하세요.\n",
    "* 고려 사항 : 두 변수의 계산 결과를 새로운 변수에 저장해야 한다!"
   ]
  },
  {
   "cell_type": "code",
   "execution_count": 16,
   "metadata": {},
   "outputs": [
    {
     "name": "stdout",
     "output_type": "stream",
     "text": [
      "50\n",
      "2.0\n"
     ]
    }
   ],
   "source": [
    "num1 =int(input(\"첫 번째 숫자를 입력하세요: \"))\n",
    "num2 =int(input(\"두 번째 숫자를 입력하세요: \"))\n",
    "print(num1 * num2)\n",
    "print(num1 / num2)"
   ]
  },
  {
   "cell_type": "code",
   "execution_count": 21,
   "metadata": {},
   "outputs": [
    {
     "name": "stdout",
     "output_type": "stream",
     "text": [
      "50\n",
      "2.0\n"
     ]
    }
   ],
   "source": [
    "num1, num2 = map(int, input(\"두 개의 숫자를 입력하세요: \").split())\n",
    "multiply = num1 * num2\n",
    "divide = num1 / num2\n",
    "print(multiply)\n",
    "print(divide)"
   ]
  },
  {
   "cell_type": "markdown",
   "metadata": {},
   "source": [
    "## 문제 6\n",
    "다음 코드의 실행 결과를 예측해보세요."
   ]
  },
  {
   "cell_type": "raw",
   "metadata": {},
   "source": [
    "x = 5\n",
    "x += 3\n",
    "x *= 2\n",
    "print(x)"
   ]
  },
  {
   "cell_type": "code",
   "execution_count": 24,
   "metadata": {},
   "outputs": [
    {
     "name": "stdout",
     "output_type": "stream",
     "text": [
      "1.7280000000000009\n"
     ]
    }
   ],
   "source": [
    "x = 5 \n",
    "x += 3 # x = x + 3\n",
    "x *= 2 # x = x * 2\n",
    "x /= 5 # x = x / 5\n",
    "x -= 2 # x = x - 2\n",
    "x **= 3 # x = x ** 3\n",
    "print(x)"
   ]
  },
  {
   "cell_type": "markdown",
   "metadata": {},
   "source": [
    "## 문제 7\n",
    "파이썬에서 변수 PI를 선언하여 원주율 3.14159를 저장하고, 반지름이 5인 원의 면적을 계산하여 출력하는 코드를 작성하세요. (원의 면적 = PI * r * r)"
   ]
  },
  {
   "cell_type": "code",
   "execution_count": 28,
   "metadata": {},
   "outputs": [
    {
     "name": "stdout",
     "output_type": "stream",
     "text": [
      "원의 면적은: 78.53975\n"
     ]
    }
   ],
   "source": [
    "pi=3.14159\n",
    "r=5\n",
    "area=pi*r*r\n",
    "print(\"원의 면적은:\",area)"
   ]
  },
  {
   "cell_type": "markdown",
   "metadata": {},
   "source": [
    "## 문제 8\n",
    "다음 코드에서 변수 c의 값은 무엇인지 쓰세요."
   ]
  },
  {
   "cell_type": "raw",
   "metadata": {},
   "source": [
    "a = '3'\n",
    "b = 4\n",
    "c = a * b"
   ]
  },
  {
   "cell_type": "code",
   "execution_count": null,
   "metadata": {},
   "outputs": [
    {
     "name": "stdout",
     "output_type": "stream",
     "text": [
      "3333\n"
     ]
    }
   ],
   "source": [
    "a = '3'\n",
    "b = 4\n",
    "c = a * b # 문자열과 정수를 곱하면 문자열이 반복됨\n",
    "print(c)"
   ]
  },
  {
   "cell_type": "code",
   "execution_count": null,
   "metadata": {},
   "outputs": [
    {
     "name": "stdout",
     "output_type": "stream",
     "text": [
      "0.75\n"
     ]
    }
   ],
   "source": [
    "c=int(a) / b # 문자열을 정수로 변환한 후 나눗셈 연산\n",
    "print(c)"
   ]
  },
  {
   "cell_type": "markdown",
   "metadata": {},
   "source": [
    "## 문제 9\n",
    "변수 x에 숫자 10을 저장하고, 변수 y에 문자열 '10'을 저장했습니다.  \n",
    "이 두 변수가 같은 값인지, 같은 데이터 타입인지 비교하는 코드를 작성하고 결과를 출력하세요."
   ]
  },
  {
   "cell_type": "code",
   "execution_count": null,
   "metadata": {},
   "outputs": [
    {
     "name": "stdout",
     "output_type": "stream",
     "text": [
      "False\n",
      "False\n",
      "False\n"
     ]
    }
   ],
   "source": [
    "x=10\n",
    "y='10'\n",
    "print(x==y) # a == b는 a와 b가 같은지 비교, a=b는 a에 b를 할당하는 것\n",
    "print(type(x)==type(y))\n",
    "print(id(x)==id(y))"
   ]
  },
  {
   "cell_type": "markdown",
   "metadata": {},
   "source": [
    "## 문제 10\n",
    "전역 변수와 지역 변수 얼마나 알고 계신가요?"
   ]
  },
  {
   "cell_type": "markdown",
   "metadata": {
    "vscode": {
     "languageId": "raw"
    }
   },
   "source": [
    "아래의 코드에서 전역 변수와 지역 변수를 찾아보세요!"
   ]
  },
  {
   "cell_type": "raw",
   "metadata": {
    "vscode": {
     "languageId": "raw"
    }
   },
   "source": [
    "count = 0 # 전역변수\n",
    "\n",
    "def increment(): # 함수명\n",
    "    global count\n",
    "    count += 1\n",
    "    \n",
    "def greet():\n",
    "    message = \"안녕하세요\" # 지역변수\n",
    "    print(message)\n",
    "\n",
    "greet() \n",
    "increment()"
   ]
  },
  {
   "cell_type": "code",
   "execution_count": 34,
   "metadata": {},
   "outputs": [
    {
     "name": "stdout",
     "output_type": "stream",
     "text": [
      "안녕하세요\n"
     ]
    }
   ],
   "source": [
    "count = 0 # 전역변수 # 1번 째 실행\n",
    "\n",
    "def increment(): # 함수명 # 7번 째 실행\n",
    "    global count # 8번 째 실행\n",
    "    count += 1 # 9번 째 실행\n",
    "    \n",
    "def greet(): # 3번 째 실행\n",
    "    message = \"안녕하세요\" # 지역변수 # 4번 째 실행\n",
    "    print(message) # 5번 째 실행\n",
    "\n",
    "greet() # 2번 째 실행\n",
    "increment() # 6번 째 실행"
   ]
  },
  {
   "cell_type": "markdown",
   "metadata": {},
   "source": [
    "아래의 출력 결과를 생각해보세요"
   ]
  },
  {
   "cell_type": "raw",
   "metadata": {
    "vscode": {
     "languageId": "raw"
    }
   },
   "source": [
    "x = 'global x'\n",
    "\n",
    "def outer():\n",
    "    x = 'enclosed x'\n",
    "    def inner():\n",
    "        x = 'local x'\n",
    "        print(x)\n",
    "    inner()\n",
    "    print(x)\n",
    "\n",
    "outer()\n",
    "print(x) "
   ]
  },
  {
   "cell_type": "code",
   "execution_count": null,
   "metadata": {},
   "outputs": [
    {
     "name": "stdout",
     "output_type": "stream",
     "text": [
      "local x\n",
      "enclosed x\n",
      "global x\n"
     ]
    }
   ],
   "source": [
    "x = 'global x' # 전역변수 # 1번째 실행\n",
    "\n",
    "def outer(): # 3번째 실행\n",
    "    x = 'enclosed x' # 지역변수 # 4번째 실행 \n",
    "    def inner(): # 6번째 실행 # 함수를 정의\n",
    "        x = 'local x' # 7번째 실행\n",
    "        print(x) # 8번째 실행\n",
    "    inner() # 5번째 실행\n",
    "    print(x) # 9번째 실행\n",
    "\n",
    "outer()  # 2번째 실행\n",
    "print(x) # 10번째 실행"
   ]
  }
 ],
 "metadata": {
  "kernelspec": {
   "display_name": "maricecil",
   "language": "python",
   "name": "python3"
  },
  "language_info": {
   "codemirror_mode": {
    "name": "ipython",
    "version": 3
   },
   "file_extension": ".py",
   "mimetype": "text/x-python",
   "name": "python",
   "nbconvert_exporter": "python",
   "pygments_lexer": "ipython3",
   "version": "3.12.5"
  }
 },
 "nbformat": 4,
 "nbformat_minor": 2
}
