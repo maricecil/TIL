{
 "cells": [
  {
   "cell_type": "markdown",
   "id": "de35ff30",
   "metadata": {},
   "source": [
    "1. 파이토치(PyTorch)"
   ]
  },
  {
   "cell_type": "markdown",
   "id": "eb0009fc",
   "metadata": {},
   "source": [
    "2017년 공개된 파이토치(PyTorch)는 넘파이(NumPy) 라이브러리처럼 연산을 위해 사용된다. toch, torch.autograd, torch.multiprocessing, toch.optim, torch.utils, torch.onnx로 구성된다."
   ]
  },
  {
   "cell_type": "markdown",
   "id": "a14eabde",
   "metadata": {},
   "source": [
    "설치 및 버전확인"
   ]
  },
  {
   "cell_type": "code",
   "execution_count": 1,
   "id": "7ea214c7-d7c8-4810-a31b-978633a0c58e",
   "metadata": {},
   "outputs": [
    {
     "data": {
      "text/plain": [
       "'2.5.0+cpu'"
      ]
     },
     "execution_count": 1,
     "metadata": {},
     "output_type": "execute_result"
    }
   ],
   "source": [
    "import torch\n",
    "torch.__version__"
   ]
  },
  {
   "cell_type": "markdown",
   "id": "ae5cecdb",
   "metadata": {},
   "source": [
    "가. 텐서(Tensors)  \n",
    "텐서는 데이터 표현을 위한 기본 구조로, 정6면체의 컨테이너로 묘사된다. 넘파이(numpy)의 ndarray와 유사하며 gpu를 사용한 연산가속이 가능하다."
   ]
  },
  {
   "cell_type": "markdown",
   "id": "57eeeb1e",
   "metadata": {},
   "source": [
    "초기화 되지 않은 텐서"
   ]
  },
  {
   "cell_type": "code",
   "execution_count": 2,
   "id": "ab054d88",
   "metadata": {},
   "outputs": [
    {
     "name": "stdout",
     "output_type": "stream",
     "text": [
      "tensor([[2.4242e-27, 1.1883e-42],\n",
      "        [0.0000e+00, 0.0000e+00],\n",
      "        [0.0000e+00, 0.0000e+00],\n",
      "        [0.0000e+00, 0.0000e+00]])\n"
     ]
    }
   ],
   "source": [
    "x = torch.empty(4, 2)\n",
    "print(x)"
   ]
  },
  {
   "cell_type": "markdown",
   "id": "01f1acff",
   "metadata": {},
   "source": [
    "무작위로 초기화된 텐서"
   ]
  },
  {
   "cell_type": "code",
   "execution_count": 3,
   "id": "939270ff",
   "metadata": {},
   "outputs": [
    {
     "name": "stdout",
     "output_type": "stream",
     "text": [
      "tensor([[0.3593, 0.0073],\n",
      "        [0.1527, 0.2560],\n",
      "        [0.5075, 0.4945],\n",
      "        [0.7586, 0.5808]])\n"
     ]
    }
   ],
   "source": [
    "x = torch.rand(4,2)  #rand는 radom의 약자. 랜덤하게 초기화됨\n",
    "print(x)"
   ]
  },
  {
   "cell_type": "markdown",
   "id": "4a8a4588",
   "metadata": {},
   "source": [
    "데이터 타입(dtype)이 long이고, 0으로 채워진 텐서"
   ]
  },
  {
   "cell_type": "code",
   "execution_count": 5,
   "id": "da21f65d",
   "metadata": {},
   "outputs": [
    {
     "name": "stdout",
     "output_type": "stream",
     "text": [
      "tensor([[0, 0],\n",
      "        [0, 0],\n",
      "        [0, 0],\n",
      "        [0, 0]])\n"
     ]
    }
   ],
   "source": [
    "x=torch.zeros(4,2, dtype=torch.long)\n",
    "print(x)"
   ]
  },
  {
   "cell_type": "markdown",
   "id": "ca931a16",
   "metadata": {},
   "source": [
    "사용자 입력 값으로 텐서 초기화"
   ]
  },
  {
   "cell_type": "code",
   "execution_count": 6,
   "id": "53705422",
   "metadata": {},
   "outputs": [
    {
     "name": "stdout",
     "output_type": "stream",
     "text": [
      "tensor([3.0000, 2.3000])\n"
     ]
    }
   ],
   "source": [
    "x=torch.tensor([3, 2.3])\n",
    "print(x)"
   ]
  },
  {
   "cell_type": "markdown",
   "id": "0327aaca",
   "metadata": {},
   "source": [
    "2x4크기, doble타입, 1로 채워진 텐서"
   ]
  },
  {
   "cell_type": "code",
   "execution_count": 7,
   "id": "f342e360",
   "metadata": {},
   "outputs": [
    {
     "name": "stdout",
     "output_type": "stream",
     "text": [
      "tensor([[1., 1., 1., 1.],\n",
      "        [1., 1., 1., 1.]], dtype=torch.float64)\n"
     ]
    }
   ],
   "source": [
    "x=x.new_ones(2,4,dtype=torch.double)\n",
    "print(x)"
   ]
  },
  {
   "cell_type": "markdown",
   "id": "31f097cc",
   "metadata": {},
   "source": [
    "x와 같은 크기, float 타입, 무작위로 채워진 텐서"
   ]
  },
  {
   "cell_type": "code",
   "execution_count": 9,
   "id": "af8613f4",
   "metadata": {},
   "outputs": [
    {
     "name": "stdout",
     "output_type": "stream",
     "text": [
      "tensor([[ 0.1123,  1.8655, -0.3437,  0.2660],\n",
      "        [-1.2945, -0.4918,  0.5565, -0.5962]])\n"
     ]
    }
   ],
   "source": [
    "x=torch.randn_like(x, dtype=torch.float)\n",
    "print(x)"
   ]
  },
  {
   "cell_type": "markdown",
   "id": "8bb04123",
   "metadata": {},
   "source": [
    "텐서의 크기 계산"
   ]
  },
  {
   "cell_type": "code",
   "execution_count": 10,
   "id": "0f075a31",
   "metadata": {},
   "outputs": [
    {
     "name": "stdout",
     "output_type": "stream",
     "text": [
      "torch.Size([2, 4])\n"
     ]
    }
   ],
   "source": [
    "print(x.size())"
   ]
  },
  {
   "cell_type": "markdown",
   "id": "134f8a09",
   "metadata": {},
   "source": [
    "나. 데이터 타입(Data Type)"
   ]
  },
  {
   "cell_type": "markdown",
   "id": "97c60b9d",
   "metadata": {},
   "source": [
    "Data l type\tl dtype\tl CPU tensor l GPU tensor  \n",
    "32-bit floating point l\ttorch.float32 or torch.float l\ttorch.FloatTensor l\ttorch.cuda.FloatTensor  \n",
    "64-bit floating point l\ttorch.float64 or torch.double l\ttorch.DoubleTensor l torch.cuda.DoubleTensor  \n",
    "16-bit floating point l\ttorch.float16 or torch.half\tl torch.HalfTensor l torch.cuda.HalfTensor  \n",
    "8-bit integer(unsinged) l torch.uint8 l torch.ByteTensor l torch.cuda.ByteTensor  \n",
    "8-bit integer(singed) l\ttorch.int8 l torch.CharTensor l\ttorch.cuda.CharTensor  \n",
    "16-bit integer(signed) l torch.int16 or torch.short l torch.ShortTensor l torch.cuda.ShortTensor  \n",
    "32-bit integer(signed) l torch.int32 or torch.int l torch.IntTensor\tl torch.cuda.IntTensor  \n",
    "64-bit integer(signed) l torch.int64 or torch.long l torch.LongTensor l torch.cuda.LongTensor "
   ]
  },
  {
   "cell_type": "code",
   "execution_count": 14,
   "id": "00ffdb1b",
   "metadata": {},
   "outputs": [
    {
     "name": "stdout",
     "output_type": "stream",
     "text": [
      "tensor([1., 2., 3.])\n",
      "torch.float32\n"
     ]
    }
   ],
   "source": [
    "ft = torch.FloatTensor([1,2,3])\n",
    "print(ft)  # 숫자뒤에 .이 붙은 것을 확인\n",
    "print(ft.dtype)  # floattensor은 기본 32bit"
   ]
  },
  {
   "cell_type": "code",
   "execution_count": 16,
   "id": "d20e6939",
   "metadata": {},
   "outputs": [
    {
     "name": "stdout",
     "output_type": "stream",
     "text": [
      "tensor([1, 2, 3], dtype=torch.int16)\n",
      "tensor([1, 2, 3], dtype=torch.int32)\n",
      "tensor([1, 2, 3])\n"
     ]
    }
   ],
   "source": [
    "print(ft.short())\n",
    "print(ft.int())\n",
    "print(ft.long()) # 캐스팅하여 long은 64bit에 해당함을 확인"
   ]
  },
  {
   "cell_type": "code",
   "execution_count": 20,
   "id": "67ab05ab",
   "metadata": {},
   "outputs": [
    {
     "name": "stdout",
     "output_type": "stream",
     "text": [
      "tensor([1, 2, 3], dtype=torch.int32)\n",
      "torch.int32\n"
     ]
    }
   ],
   "source": [
    "it=torch.IntTensor([1,2,3])\n",
    "print(it)\n",
    "print(it.dtype)"
   ]
  },
  {
   "cell_type": "code",
   "execution_count": 21,
   "id": "f9ee51b0",
   "metadata": {},
   "outputs": [
    {
     "name": "stdout",
     "output_type": "stream",
     "text": [
      "tensor([1., 2., 3.])\n",
      "tensor([1., 2., 3.], dtype=torch.float64)\n",
      "tensor([1., 2., 3.], dtype=torch.float16)\n"
     ]
    }
   ],
   "source": [
    "print(it.float())\n",
    "print(it.double())\n",
    "print(it.half())"
   ]
  },
  {
   "cell_type": "markdown",
   "id": "bb8b103a",
   "metadata": {},
   "source": [
    "CUDA Tensors\n",
    ".to 메소드를 사용해 텐서를 어떠한 장치(cpu, gpu)로도 옮길 수 있음"
   ]
  },
  {
   "cell_type": "code",
   "execution_count": 22,
   "id": "6eb63105",
   "metadata": {},
   "outputs": [
    {
     "name": "stdout",
     "output_type": "stream",
     "text": [
      "tensor([1.3890])\n",
      "1.3890422582626343\n",
      "torch.float32\n"
     ]
    }
   ],
   "source": [
    "x=torch.randn(1)\n",
    "print(x)\n",
    "print(x.item())\n",
    "print(x.dtype)"
   ]
  }
 ],
 "metadata": {
  "kernelspec": {
   "display_name": "maricecil",
   "language": "python",
   "name": "python3"
  },
  "language_info": {
   "codemirror_mode": {
    "name": "ipython",
    "version": 3
   },
   "file_extension": ".py",
   "mimetype": "text/x-python",
   "name": "python",
   "nbconvert_exporter": "python",
   "pygments_lexer": "ipython3",
   "version": "3.12.5"
  }
 },
 "nbformat": 4,
 "nbformat_minor": 5
}
